{
  "nbformat": 4,
  "nbformat_minor": 0,
  "metadata": {
    "colab": {
      "name": "End_To_End_ML_Housing_Price_Prediction_SVM.ipynb",
      "provenance": [],
      "collapsed_sections": [],
      "include_colab_link": true
    },
    "kernelspec": {
      "name": "python3",
      "display_name": "Python 3"
    },
    "accelerator": "GPU"
  },
  "cells": [
    {
      "cell_type": "markdown",
      "metadata": {
        "id": "view-in-github",
        "colab_type": "text"
      },
      "source": [
        "<a href=\"https://colab.research.google.com/github/plaban1981/Hands-on-Machine-Learning/blob/master/End_To_End_ML_Housing_Price_Prediction_SVM.ipynb\" target=\"_parent\"><img src=\"https://colab.research.google.com/assets/colab-badge.svg\" alt=\"Open In Colab\"/></a>"
      ]
    },
    {
      "cell_type": "code",
      "metadata": {
        "id": "qy0fVa4gATvB",
        "colab_type": "code",
        "colab": {}
      },
      "source": [
        "import pandas as pd\n",
        "import numpy as np\n",
        "import seaborn as sns\n",
        "import matplotlib.pyplot as plt\n",
        "%matplotlib inline"
      ],
      "execution_count": 0,
      "outputs": []
    },
    {
      "cell_type": "markdown",
      "metadata": {
        "id": "Tv4Jpu_KBz4f",
        "colab_type": "text"
      },
      "source": [
        "## Download Housing.csv dataset"
      ]
    },
    {
      "cell_type": "code",
      "metadata": {
        "id": "2GpP2CgWCgrB",
        "colab_type": "code",
        "outputId": "db9dd7fc-1a89-401d-e4eb-2c826cef9050",
        "colab": {
          "base_uri": "https://localhost:8080/",
          "height": 204
        }
      },
      "source": [
        "data = pd.read_csv(\"https://raw.githubusercontent.com/gurupratap-matharu/machine-learning-regression/master/dataset/housing.csv\")\n",
        "data.head()"
      ],
      "execution_count": 2,
      "outputs": [
        {
          "output_type": "execute_result",
          "data": {
            "text/html": [
              "<div>\n",
              "<style scoped>\n",
              "    .dataframe tbody tr th:only-of-type {\n",
              "        vertical-align: middle;\n",
              "    }\n",
              "\n",
              "    .dataframe tbody tr th {\n",
              "        vertical-align: top;\n",
              "    }\n",
              "\n",
              "    .dataframe thead th {\n",
              "        text-align: right;\n",
              "    }\n",
              "</style>\n",
              "<table border=\"1\" class=\"dataframe\">\n",
              "  <thead>\n",
              "    <tr style=\"text-align: right;\">\n",
              "      <th></th>\n",
              "      <th>longitude</th>\n",
              "      <th>latitude</th>\n",
              "      <th>housing_median_age</th>\n",
              "      <th>total_rooms</th>\n",
              "      <th>total_bedrooms</th>\n",
              "      <th>population</th>\n",
              "      <th>households</th>\n",
              "      <th>median_income</th>\n",
              "      <th>median_house_value</th>\n",
              "      <th>ocean_proximity</th>\n",
              "    </tr>\n",
              "  </thead>\n",
              "  <tbody>\n",
              "    <tr>\n",
              "      <th>0</th>\n",
              "      <td>-122.23</td>\n",
              "      <td>37.88</td>\n",
              "      <td>41.0</td>\n",
              "      <td>880.0</td>\n",
              "      <td>129.0</td>\n",
              "      <td>322.0</td>\n",
              "      <td>126.0</td>\n",
              "      <td>8.3252</td>\n",
              "      <td>452600.0</td>\n",
              "      <td>NEAR BAY</td>\n",
              "    </tr>\n",
              "    <tr>\n",
              "      <th>1</th>\n",
              "      <td>-122.22</td>\n",
              "      <td>37.86</td>\n",
              "      <td>21.0</td>\n",
              "      <td>7099.0</td>\n",
              "      <td>1106.0</td>\n",
              "      <td>2401.0</td>\n",
              "      <td>1138.0</td>\n",
              "      <td>8.3014</td>\n",
              "      <td>358500.0</td>\n",
              "      <td>NEAR BAY</td>\n",
              "    </tr>\n",
              "    <tr>\n",
              "      <th>2</th>\n",
              "      <td>-122.24</td>\n",
              "      <td>37.85</td>\n",
              "      <td>52.0</td>\n",
              "      <td>1467.0</td>\n",
              "      <td>190.0</td>\n",
              "      <td>496.0</td>\n",
              "      <td>177.0</td>\n",
              "      <td>7.2574</td>\n",
              "      <td>352100.0</td>\n",
              "      <td>NEAR BAY</td>\n",
              "    </tr>\n",
              "    <tr>\n",
              "      <th>3</th>\n",
              "      <td>-122.25</td>\n",
              "      <td>37.85</td>\n",
              "      <td>52.0</td>\n",
              "      <td>1274.0</td>\n",
              "      <td>235.0</td>\n",
              "      <td>558.0</td>\n",
              "      <td>219.0</td>\n",
              "      <td>5.6431</td>\n",
              "      <td>341300.0</td>\n",
              "      <td>NEAR BAY</td>\n",
              "    </tr>\n",
              "    <tr>\n",
              "      <th>4</th>\n",
              "      <td>-122.25</td>\n",
              "      <td>37.85</td>\n",
              "      <td>52.0</td>\n",
              "      <td>1627.0</td>\n",
              "      <td>280.0</td>\n",
              "      <td>565.0</td>\n",
              "      <td>259.0</td>\n",
              "      <td>3.8462</td>\n",
              "      <td>342200.0</td>\n",
              "      <td>NEAR BAY</td>\n",
              "    </tr>\n",
              "  </tbody>\n",
              "</table>\n",
              "</div>"
            ],
            "text/plain": [
              "   longitude  latitude  ...  median_house_value  ocean_proximity\n",
              "0    -122.23     37.88  ...            452600.0         NEAR BAY\n",
              "1    -122.22     37.86  ...            358500.0         NEAR BAY\n",
              "2    -122.24     37.85  ...            352100.0         NEAR BAY\n",
              "3    -122.25     37.85  ...            341300.0         NEAR BAY\n",
              "4    -122.25     37.85  ...            342200.0         NEAR BAY\n",
              "\n",
              "[5 rows x 10 columns]"
            ]
          },
          "metadata": {
            "tags": []
          },
          "execution_count": 2
        }
      ]
    },
    {
      "cell_type": "markdown",
      "metadata": {
        "id": "5CZj47mUDi2c",
        "colab_type": "text"
      },
      "source": [
        "##Data Description"
      ]
    },
    {
      "cell_type": "code",
      "metadata": {
        "id": "tIWFVpk6Dl9I",
        "colab_type": "code",
        "outputId": "c1a946e6-ca8c-49a4-d931-d023bb7e78ef",
        "colab": {
          "base_uri": "https://localhost:8080/",
          "height": 272
        }
      },
      "source": [
        "data.info()"
      ],
      "execution_count": 3,
      "outputs": [
        {
          "output_type": "stream",
          "text": [
            "<class 'pandas.core.frame.DataFrame'>\n",
            "RangeIndex: 20640 entries, 0 to 20639\n",
            "Data columns (total 10 columns):\n",
            "longitude             20640 non-null float64\n",
            "latitude              20640 non-null float64\n",
            "housing_median_age    20640 non-null float64\n",
            "total_rooms           20640 non-null float64\n",
            "total_bedrooms        20433 non-null float64\n",
            "population            20640 non-null float64\n",
            "households            20640 non-null float64\n",
            "median_income         20640 non-null float64\n",
            "median_house_value    20640 non-null float64\n",
            "ocean_proximity       20640 non-null object\n",
            "dtypes: float64(9), object(1)\n",
            "memory usage: 1.6+ MB\n"
          ],
          "name": "stdout"
        }
      ]
    },
    {
      "cell_type": "markdown",
      "metadata": {
        "id": "jyA2-lH4D20t",
        "colab_type": "text"
      },
      "source": [
        "##Summary Statistics"
      ]
    },
    {
      "cell_type": "code",
      "metadata": {
        "id": "BN--JS2zD5f2",
        "colab_type": "code",
        "outputId": "febc277c-4541-47ff-b091-06ac9b7e7b29",
        "colab": {
          "base_uri": "https://localhost:8080/",
          "height": 297
        }
      },
      "source": [
        "data.describe()"
      ],
      "execution_count": 4,
      "outputs": [
        {
          "output_type": "execute_result",
          "data": {
            "text/html": [
              "<div>\n",
              "<style scoped>\n",
              "    .dataframe tbody tr th:only-of-type {\n",
              "        vertical-align: middle;\n",
              "    }\n",
              "\n",
              "    .dataframe tbody tr th {\n",
              "        vertical-align: top;\n",
              "    }\n",
              "\n",
              "    .dataframe thead th {\n",
              "        text-align: right;\n",
              "    }\n",
              "</style>\n",
              "<table border=\"1\" class=\"dataframe\">\n",
              "  <thead>\n",
              "    <tr style=\"text-align: right;\">\n",
              "      <th></th>\n",
              "      <th>longitude</th>\n",
              "      <th>latitude</th>\n",
              "      <th>housing_median_age</th>\n",
              "      <th>total_rooms</th>\n",
              "      <th>total_bedrooms</th>\n",
              "      <th>population</th>\n",
              "      <th>households</th>\n",
              "      <th>median_income</th>\n",
              "      <th>median_house_value</th>\n",
              "    </tr>\n",
              "  </thead>\n",
              "  <tbody>\n",
              "    <tr>\n",
              "      <th>count</th>\n",
              "      <td>20640.000000</td>\n",
              "      <td>20640.000000</td>\n",
              "      <td>20640.000000</td>\n",
              "      <td>20640.000000</td>\n",
              "      <td>20433.000000</td>\n",
              "      <td>20640.000000</td>\n",
              "      <td>20640.000000</td>\n",
              "      <td>20640.000000</td>\n",
              "      <td>20640.000000</td>\n",
              "    </tr>\n",
              "    <tr>\n",
              "      <th>mean</th>\n",
              "      <td>-119.569704</td>\n",
              "      <td>35.631861</td>\n",
              "      <td>28.639486</td>\n",
              "      <td>2635.763081</td>\n",
              "      <td>537.870553</td>\n",
              "      <td>1425.476744</td>\n",
              "      <td>499.539680</td>\n",
              "      <td>3.870671</td>\n",
              "      <td>206855.816909</td>\n",
              "    </tr>\n",
              "    <tr>\n",
              "      <th>std</th>\n",
              "      <td>2.003532</td>\n",
              "      <td>2.135952</td>\n",
              "      <td>12.585558</td>\n",
              "      <td>2181.615252</td>\n",
              "      <td>421.385070</td>\n",
              "      <td>1132.462122</td>\n",
              "      <td>382.329753</td>\n",
              "      <td>1.899822</td>\n",
              "      <td>115395.615874</td>\n",
              "    </tr>\n",
              "    <tr>\n",
              "      <th>min</th>\n",
              "      <td>-124.350000</td>\n",
              "      <td>32.540000</td>\n",
              "      <td>1.000000</td>\n",
              "      <td>2.000000</td>\n",
              "      <td>1.000000</td>\n",
              "      <td>3.000000</td>\n",
              "      <td>1.000000</td>\n",
              "      <td>0.499900</td>\n",
              "      <td>14999.000000</td>\n",
              "    </tr>\n",
              "    <tr>\n",
              "      <th>25%</th>\n",
              "      <td>-121.800000</td>\n",
              "      <td>33.930000</td>\n",
              "      <td>18.000000</td>\n",
              "      <td>1447.750000</td>\n",
              "      <td>296.000000</td>\n",
              "      <td>787.000000</td>\n",
              "      <td>280.000000</td>\n",
              "      <td>2.563400</td>\n",
              "      <td>119600.000000</td>\n",
              "    </tr>\n",
              "    <tr>\n",
              "      <th>50%</th>\n",
              "      <td>-118.490000</td>\n",
              "      <td>34.260000</td>\n",
              "      <td>29.000000</td>\n",
              "      <td>2127.000000</td>\n",
              "      <td>435.000000</td>\n",
              "      <td>1166.000000</td>\n",
              "      <td>409.000000</td>\n",
              "      <td>3.534800</td>\n",
              "      <td>179700.000000</td>\n",
              "    </tr>\n",
              "    <tr>\n",
              "      <th>75%</th>\n",
              "      <td>-118.010000</td>\n",
              "      <td>37.710000</td>\n",
              "      <td>37.000000</td>\n",
              "      <td>3148.000000</td>\n",
              "      <td>647.000000</td>\n",
              "      <td>1725.000000</td>\n",
              "      <td>605.000000</td>\n",
              "      <td>4.743250</td>\n",
              "      <td>264725.000000</td>\n",
              "    </tr>\n",
              "    <tr>\n",
              "      <th>max</th>\n",
              "      <td>-114.310000</td>\n",
              "      <td>41.950000</td>\n",
              "      <td>52.000000</td>\n",
              "      <td>39320.000000</td>\n",
              "      <td>6445.000000</td>\n",
              "      <td>35682.000000</td>\n",
              "      <td>6082.000000</td>\n",
              "      <td>15.000100</td>\n",
              "      <td>500001.000000</td>\n",
              "    </tr>\n",
              "  </tbody>\n",
              "</table>\n",
              "</div>"
            ],
            "text/plain": [
              "          longitude      latitude  ...  median_income  median_house_value\n",
              "count  20640.000000  20640.000000  ...   20640.000000        20640.000000\n",
              "mean    -119.569704     35.631861  ...       3.870671       206855.816909\n",
              "std        2.003532      2.135952  ...       1.899822       115395.615874\n",
              "min     -124.350000     32.540000  ...       0.499900        14999.000000\n",
              "25%     -121.800000     33.930000  ...       2.563400       119600.000000\n",
              "50%     -118.490000     34.260000  ...       3.534800       179700.000000\n",
              "75%     -118.010000     37.710000  ...       4.743250       264725.000000\n",
              "max     -114.310000     41.950000  ...      15.000100       500001.000000\n",
              "\n",
              "[8 rows x 9 columns]"
            ]
          },
          "metadata": {
            "tags": []
          },
          "execution_count": 4
        }
      ]
    },
    {
      "cell_type": "markdown",
      "metadata": {
        "id": "HtnxjV_DEVSd",
        "colab_type": "text"
      },
      "source": [
        "##Data Visualization"
      ]
    },
    {
      "cell_type": "code",
      "metadata": {
        "id": "UVP2I-COEXou",
        "colab_type": "code",
        "outputId": "bf6ebb07-d725-42ae-a236-3d61a207b367",
        "colab": {
          "base_uri": "https://localhost:8080/",
          "height": 662
        }
      },
      "source": [
        "data.hist(bins=50,figsize=(20,11))\n",
        "plt.show()"
      ],
      "execution_count": 0,
      "outputs": [
        {
          "output_type": "display_data",
          "data": {
            "image/png": "[encoded data removed]",
            "text/plain": [
              "<Figure size 1440x792 with 9 Axes>"
            ]
          },
          "metadata": {
            "tags": []
          }
        }
      ]
    },
    {
      "cell_type": "code",
      "metadata": {
        "id": "6vkhEo8kGaJk",
        "colab_type": "code",
        "outputId": "392f5da9-a75c-4e15-ba77-ffd8c58541f1",
        "colab": {
          "base_uri": "https://localhost:8080/",
          "height": 282
        }
      },
      "source": [
        "data['median_income'].hist()"
      ],
      "execution_count": 5,
      "outputs": [
        {
          "output_type": "execute_result",
          "data": {
            "text/plain": [
              "<matplotlib.axes._subplots.AxesSubplot at 0x7f4423494b00>"
            ]
          },
          "metadata": {
            "tags": []
          },
          "execution_count": 5
        },
        {
          "output_type": "display_data",
          "data": {
            "image/png": "[encoded data removed]",
            "text/plain": [
              "<Figure size 432x288 with 1 Axes>"
            ]
          },
          "metadata": {
            "tags": []
          }
        }
      ]
    },
    {
      "cell_type": "markdown",
      "metadata": {
        "id": "gauBzVK1E6pV",
        "colab_type": "text"
      },
      "source": [
        "##Check For Null Values"
      ]
    },
    {
      "cell_type": "code",
      "metadata": {
        "id": "sq_ri-TZE9J6",
        "colab_type": "code",
        "outputId": "937ddb21-03be-4001-ed9f-643753b1419a",
        "colab": {
          "base_uri": "https://localhost:8080/",
          "height": 51
        }
      },
      "source": [
        "data.isnull().sum()[data.isnull().sum() > 0]"
      ],
      "execution_count": 6,
      "outputs": [
        {
          "output_type": "execute_result",
          "data": {
            "text/plain": [
              "total_bedrooms    207\n",
              "dtype: int64"
            ]
          },
          "metadata": {
            "tags": []
          },
          "execution_count": 6
        }
      ]
    },
    {
      "cell_type": "markdown",
      "metadata": {
        "id": "TgJSHI67RZMV",
        "colab_type": "text"
      },
      "source": [
        "##Data Preprocessing"
      ]
    },
    {
      "cell_type": "code",
      "metadata": {
        "id": "QfIGZTnfRcLG",
        "colab_type": "code",
        "colab": {}
      },
      "source": [
        "from sklearn.impute import SimpleImputer\n",
        "from sklearn.pipeline import Pipeline\n",
        "from sklearn.preprocessing import StandardScaler\n",
        "from sklearn.preprocessing import OneHotEncoder\n",
        "\n",
        "numeric_columns = [cols for cols in data.columns if data[cols].dtypes != 'object']\n",
        "category_columns = data['ocean_proximity']"
      ],
      "execution_count": 0,
      "outputs": []
    },
    {
      "cell_type": "code",
      "metadata": {
        "id": "S5QopbSUUrKS",
        "colab_type": "code",
        "outputId": "7c3e9cab-08a7-4ff3-b5b3-e6f0fac84cbe",
        "colab": {
          "base_uri": "https://localhost:8080/",
          "height": 170
        }
      },
      "source": [
        "numeric_columns"
      ],
      "execution_count": 8,
      "outputs": [
        {
          "output_type": "execute_result",
          "data": {
            "text/plain": [
              "['longitude',\n",
              " 'latitude',\n",
              " 'housing_median_age',\n",
              " 'total_rooms',\n",
              " 'total_bedrooms',\n",
              " 'population',\n",
              " 'households',\n",
              " 'median_income',\n",
              " 'median_house_value']"
            ]
          },
          "metadata": {
            "tags": []
          },
          "execution_count": 8
        }
      ]
    },
    {
      "cell_type": "markdown",
      "metadata": {
        "id": "5VHrAbYCh5PL",
        "colab_type": "text"
      },
      "source": [
        "## Separating the Label to be predicted"
      ]
    },
    {
      "cell_type": "code",
      "metadata": {
        "id": "cf8q7AOWh3xU",
        "colab_type": "code",
        "colab": {}
      },
      "source": [
        "Y = data['median_house_value']\n",
        "housing_num= data[numeric_columns].drop(\"median_house_value\",axis=1)"
      ],
      "execution_count": 0,
      "outputs": []
    },
    {
      "cell_type": "code",
      "metadata": {
        "id": "E4jEy3EOTzZ7",
        "colab_type": "code",
        "outputId": "17f65019-11db-4079-c007-951e5f42e67d",
        "colab": {
          "base_uri": "https://localhost:8080/",
          "height": 153
        }
      },
      "source": [
        "num_pipeline = Pipeline([\n",
        "        ('imputer', SimpleImputer(strategy=\"median\")),\n",
        "        ('std_scaler', StandardScaler()),\n",
        "    ])\n",
        "num_pipeline.fit(housing_num)"
      ],
      "execution_count": 11,
      "outputs": [
        {
          "output_type": "execute_result",
          "data": {
            "text/plain": [
              "Pipeline(memory=None,\n",
              "         steps=[('imputer',\n",
              "                 SimpleImputer(add_indicator=False, copy=True, fill_value=None,\n",
              "                               missing_values=nan, strategy='median',\n",
              "                               verbose=0)),\n",
              "                ('std_scaler',\n",
              "                 StandardScaler(copy=True, with_mean=True, with_std=True))],\n",
              "         verbose=False)"
            ]
          },
          "metadata": {
            "tags": []
          },
          "execution_count": 11
        }
      ]
    },
    {
      "cell_type": "code",
      "metadata": {
        "id": "y877Lyc_bUbF",
        "colab_type": "code",
        "colab": {}
      },
      "source": [
        "housing_num_tr = num_pipeline.transform(housing_num)"
      ],
      "execution_count": 0,
      "outputs": []
    },
    {
      "cell_type": "code",
      "metadata": {
        "id": "b7PUc1yWbe5M",
        "colab_type": "code",
        "outputId": "66450544-e60e-46e1-856d-d74a6ac935d5",
        "colab": {
          "base_uri": "https://localhost:8080/",
          "height": 34
        }
      },
      "source": [
        "housing_num_tr.shape"
      ],
      "execution_count": 14,
      "outputs": [
        {
          "output_type": "execute_result",
          "data": {
            "text/plain": [
              "(20640, 8)"
            ]
          },
          "metadata": {
            "tags": []
          },
          "execution_count": 14
        }
      ]
    },
    {
      "cell_type": "markdown",
      "metadata": {
        "id": "JPXi8dZfbriv",
        "colab_type": "text"
      },
      "source": [
        "##Combine the Pipeline - Numeric + Categorical values preprocessing\n",
        "\n",
        "###ColumnTransformer  estimator allows different columns or column subsets of the input to be transformed separately and the features generated by each transformer will be concatenated to form a single feature space. This is useful for heterogeneous or columnar data, to combine several feature extraction mechanisms or transformations into a single transformer."
      ]
    },
    {
      "cell_type": "code",
      "metadata": {
        "id": "dDFlBFipNKnm",
        "colab_type": "code",
        "colab": {
          "base_uri": "https://localhost:8080/",
          "height": 34
        },
        "outputId": "22776a93-0a41-4742-ba95-be95a40d972e"
      },
      "source": [
        "categories = list(data.ocean_proximity.unique())\n",
        "categories"
      ],
      "execution_count": 86,
      "outputs": [
        {
          "output_type": "execute_result",
          "data": {
            "text/plain": [
              "['NEAR BAY', '<1H OCEAN', 'INLAND', 'NEAR OCEAN', 'ISLAND']"
            ]
          },
          "metadata": {
            "tags": []
          },
          "execution_count": 86
        }
      ]
    },
    {
      "cell_type": "code",
      "metadata": {
        "id": "qQZLw5w8bhOF",
        "colab_type": "code",
        "colab": {}
      },
      "source": [
        "from sklearn.compose import ColumnTransformer\n",
        "num_attribs = list(housing_num)\n",
        "cat_attribs = [\"ocean_proximity\"]\n",
        "\n",
        "full_pipeline = ColumnTransformer([\n",
        "        (\"num\", num_pipeline, num_attribs),\n",
        "        (\"cat\", OneHotEncoder(handle_unknown=\"ignore\"), cat_attribs),\n",
        "    ])\n",
        "\n",
        "housing_data_preprocessed = full_pipeline.fit_transform(data.drop(\"median_house_value\",axis=1))"
      ],
      "execution_count": 0,
      "outputs": []
    },
    {
      "cell_type": "code",
      "metadata": {
        "id": "NPIuBOekfkAm",
        "colab_type": "code",
        "outputId": "ddcb71ce-3441-41e0-e790-f2d2b5ac6cfd",
        "colab": {
          "base_uri": "https://localhost:8080/",
          "height": 238
        }
      },
      "source": [
        "housing_data_preprocessed[1:]"
      ],
      "execution_count": 16,
      "outputs": [
        {
          "output_type": "execute_result",
          "data": {
            "text/plain": [
              "array([[-1.32284391,  1.04318455, -0.60701891, ...,  0.        ,\n",
              "         1.        ,  0.        ],\n",
              "       [-1.33282653,  1.03850269,  1.85618152, ...,  0.        ,\n",
              "         1.        ,  0.        ],\n",
              "       [-1.33781784,  1.03850269,  1.85618152, ...,  0.        ,\n",
              "         1.        ,  0.        ],\n",
              "       ...,\n",
              "       [-0.8237132 ,  1.77823747, -0.92485123, ...,  0.        ,\n",
              "         0.        ,  0.        ],\n",
              "       [-0.87362627,  1.77823747, -0.84539315, ...,  0.        ,\n",
              "         0.        ,  0.        ],\n",
              "       [-0.83369581,  1.75014627, -1.00430931, ...,  0.        ,\n",
              "         0.        ,  0.        ]])"
            ]
          },
          "metadata": {
            "tags": []
          },
          "execution_count": 16
        }
      ]
    },
    {
      "cell_type": "code",
      "metadata": {
        "id": "zSR5WIMC7hAg",
        "colab_type": "code",
        "colab": {
          "base_uri": "https://localhost:8080/",
          "height": 34
        },
        "outputId": "06beec64-9843-41cf-c20d-fceda6d5748c"
      },
      "source": [
        "housing_data_preprocessed[1:].shape"
      ],
      "execution_count": 17,
      "outputs": [
        {
          "output_type": "execute_result",
          "data": {
            "text/plain": [
              "(20639, 13)"
            ]
          },
          "metadata": {
            "tags": []
          },
          "execution_count": 17
        }
      ]
    },
    {
      "cell_type": "code",
      "metadata": {
        "id": "A555KDaxf4VU",
        "colab_type": "code",
        "outputId": "f81ffbe8-8c68-44b3-f9c1-fff873706753",
        "colab": {
          "base_uri": "https://localhost:8080/",
          "height": 34
        }
      },
      "source": [
        "housing_data_preprocessed.shape"
      ],
      "execution_count": 18,
      "outputs": [
        {
          "output_type": "execute_result",
          "data": {
            "text/plain": [
              "(20640, 13)"
            ]
          },
          "metadata": {
            "tags": []
          },
          "execution_count": 18
        }
      ]
    },
    {
      "cell_type": "markdown",
      "metadata": {
        "id": "Ipn-F5Aqiyo0",
        "colab_type": "text"
      },
      "source": [
        "## Split the preprocessed features and label to Training and Test set"
      ]
    },
    {
      "cell_type": "code",
      "metadata": {
        "id": "LWL-Wk_jiqyn",
        "colab_type": "code",
        "colab": {}
      },
      "source": [
        "from sklearn.model_selection import train_test_split\n",
        "X_train,X_test,y_train,y_test = train_test_split(housing_data_preprocessed,Y,test_size=0.15,random_state=1)"
      ],
      "execution_count": 0,
      "outputs": []
    },
    {
      "cell_type": "markdown",
      "metadata": {
        "id": "p_WJCA9ok4Pl",
        "colab_type": "text"
      },
      "source": [
        "##Task 1\n",
        "\n",
        "**Question:** Try a Support Vector Machine regressor (sklearn.svm.SVR), with various hyperparameters such as kernel=\"linear\" (with various values for the C hyperparameter) or kernel=\"rbf\" (with various values for the C and gamma hyperparameters). Don't worry about what these hyperparameters mean for now. How does the best SVR predictor perform?"
      ]
    },
    {
      "cell_type": "code",
      "metadata": {
        "id": "oRDqeCDFlVzl",
        "colab_type": "code",
        "outputId": "e459e783-0f65-417b-b9f0-a0251240a39f",
        "colab": {
          "base_uri": "https://localhost:8080/",
          "height": 323
        }
      },
      "source": [
        "from sklearn.svm import SVR\n",
        "from sklearn.model_selection import RandomizedSearchCV\n",
        "svm_reg = SVR()\n",
        "\n",
        "parameters =  {'kernel': ['linear','rbf'], \n",
        "         'C': [10., 30., 100., 300., 1000., 3000., 10000., 30000.0],\n",
        "         'gamma': [0.01, 0.03, 0.1, 0.3, 1.0, 3.0]}\n",
        "\n",
        "random_svr_reg =  RandomizedSearchCV(estimator=svm_reg,param_distributions=parameters,cv=5,scoring='neg_mean_squared_error',n_iter=10,verbose=2,n_jobs=-1)\n",
        "random_svr_reg.fit(housing_data_preprocessed,Y)"
      ],
      "execution_count": 0,
      "outputs": [
        {
          "output_type": "stream",
          "text": [
            "Fitting 5 folds for each of 10 candidates, totalling 50 fits\n"
          ],
          "name": "stdout"
        },
        {
          "output_type": "stream",
          "text": [
            "[Parallel(n_jobs=-1)]: Using backend LokyBackend with 2 concurrent workers.\n",
            "[Parallel(n_jobs=-1)]: Done  37 tasks      | elapsed:  8.8min\n",
            "[Parallel(n_jobs=-1)]: Done  50 out of  50 | elapsed: 11.7min finished\n"
          ],
          "name": "stderr"
        },
        {
          "output_type": "execute_result",
          "data": {
            "text/plain": [
              "RandomizedSearchCV(cv=5, error_score='raise-deprecating',\n",
              "                   estimator=SVR(C=1.0, cache_size=200, coef0=0.0, degree=3,\n",
              "                                 epsilon=0.1, gamma='auto_deprecated',\n",
              "                                 kernel='rbf', max_iter=-1, shrinking=True,\n",
              "                                 tol=0.001, verbose=False),\n",
              "                   iid='warn', n_iter=10, n_jobs=-1,\n",
              "                   param_distributions={'C': [10.0, 30.0, 100.0, 300.0, 1000.0,\n",
              "                                              3000.0, 10000.0, 30000.0],\n",
              "                                        'gamma': [0.01, 0.03, 0.1, 0.3, 1.0,\n",
              "                                                  3.0],\n",
              "                                        'kernel': ['linear', 'rbf']},\n",
              "                   pre_dispatch='2*n_jobs', random_state=None, refit=True,\n",
              "                   return_train_score=False, scoring='neg_mean_squared_error',\n",
              "                   verbose=2)"
            ]
          },
          "metadata": {
            "tags": []
          },
          "execution_count": 55
        }
      ]
    },
    {
      "cell_type": "markdown",
      "metadata": {
        "id": "f5DEM2ZuqlT4",
        "colab_type": "text"
      },
      "source": [
        "#### The best model achieves the following score (evaluated using 5-fold cross validation):"
      ]
    },
    {
      "cell_type": "code",
      "metadata": {
        "id": "AqVvYcwhqo9J",
        "colab_type": "code",
        "outputId": "1dc68032-142e-41fe-d05c-d2ce1d9b58f4",
        "colab": {
          "base_uri": "https://localhost:8080/",
          "height": 34
        }
      },
      "source": [
        "negative_mse = random_svr_reg.best_score_\n",
        "rmse_score = np.sqrt(-negative_mse)\n",
        "print('RMSE Score :',rmse_score)"
      ],
      "execution_count": 0,
      "outputs": [
        {
          "output_type": "stream",
          "text": [
            "RMSE Score : 65993.69869494159\n"
          ],
          "name": "stdout"
        }
      ]
    },
    {
      "cell_type": "markdown",
      "metadata": {
        "id": "urjzCyb4rj1f",
        "colab_type": "text"
      },
      "source": [
        "#### Let's check the best hyperparameters found:"
      ]
    },
    {
      "cell_type": "code",
      "metadata": {
        "id": "Kv_umNnxrlQn",
        "colab_type": "code",
        "outputId": "3ba7248f-f2c5-42da-9a88-df2a03e0092b",
        "colab": {
          "base_uri": "https://localhost:8080/",
          "height": 51
        }
      },
      "source": [
        "print(\"Best Hyperparameters retrieved \\n\",random_svr_reg.best_params_)"
      ],
      "execution_count": 0,
      "outputs": [
        {
          "output_type": "stream",
          "text": [
            "Best Hyperparameters retrieved \n",
            " {'kernel': 'rbf', 'gamma': 0.1, 'C': 30000.0}\n"
          ],
          "name": "stdout"
        }
      ]
    },
    {
      "cell_type": "markdown",
      "metadata": {
        "id": "nxCuqp84tfEl",
        "colab_type": "text"
      },
      "source": [
        "##Apply the Best Parameters Returned by Randomized Gridearch to predict the housing median price"
      ]
    },
    {
      "cell_type": "code",
      "metadata": {
        "id": "McQnpKzstqpT",
        "colab_type": "code",
        "outputId": "f1c64e7e-c66c-45f1-bfff-e61565854c87",
        "colab": {
          "base_uri": "https://localhost:8080/",
          "height": 51
        }
      },
      "source": [
        "svr_random = random_svr_reg.best_estimator_\n",
        "svr_random.fit(X_train,y_train)"
      ],
      "execution_count": 0,
      "outputs": [
        {
          "output_type": "execute_result",
          "data": {
            "text/plain": [
              "SVR(C=30000.0, cache_size=200, coef0=0.0, degree=3, epsilon=0.1, gamma=0.1,\n",
              "    kernel='rbf', max_iter=-1, shrinking=True, tol=0.001, verbose=False)"
            ]
          },
          "metadata": {
            "tags": []
          },
          "execution_count": 60
        }
      ]
    },
    {
      "cell_type": "code",
      "metadata": {
        "id": "qLo8iUGAu_ZV",
        "colab_type": "code",
        "colab": {}
      },
      "source": [
        "y_pred = svr_random.predict(X_test)"
      ],
      "execution_count": 0,
      "outputs": []
    },
    {
      "cell_type": "markdown",
      "metadata": {
        "id": "W24sKD3tvGck",
        "colab_type": "text"
      },
      "source": [
        "##Evaluation Scores of the predictions made by RandomSearchCV parameters"
      ]
    },
    {
      "cell_type": "code",
      "metadata": {
        "id": "piK9a5d5vMu-",
        "colab_type": "code",
        "outputId": "273d6e53-ad44-4831-deba-91c08cbb4717",
        "colab": {
          "base_uri": "https://localhost:8080/",
          "height": 68
        }
      },
      "source": [
        "from sklearn.metrics import mean_squared_error,r2_score,mean_absolute_error\n",
        "print(f'MAE score : {mean_absolute_error(y_test,y_pred)}')\n",
        "print(f'MSE score : {mean_squared_error(y_test,y_pred)}')\n",
        "print(f'R2 score : {r2_score(y_test,y_pred)}')"
      ],
      "execution_count": 0,
      "outputs": [
        {
          "output_type": "stream",
          "text": [
            "MAE score : 38426.372713661636\n",
            "MSE score : 3472502411.9172077\n",
            "R2 score : 0.7398311501974038\n"
          ],
          "name": "stdout"
        }
      ]
    },
    {
      "cell_type": "markdown",
      "metadata": {
        "id": "bHvH3DjO8rKj",
        "colab_type": "text"
      },
      "source": [
        "##Visualize the Predictions"
      ]
    },
    {
      "cell_type": "code",
      "metadata": {
        "id": "FTTC7cD-8uX2",
        "colab_type": "code",
        "outputId": "1660919b-bfd1-4331-baea-65e937b3822e",
        "colab": {
          "base_uri": "https://localhost:8080/",
          "height": 297
        }
      },
      "source": [
        "import seaborn as sns\n",
        "ax = sns.distplot(y_test,hist=False,color='r',label='Actual Value')\n",
        "sns.distplot(y_pred,hist=False,color='b',label='Predicted Value')"
      ],
      "execution_count": 0,
      "outputs": [
        {
          "output_type": "execute_result",
          "data": {
            "text/plain": [
              "<matplotlib.axes._subplots.AxesSubplot at 0x7fcbef7ff630>"
            ]
          },
          "metadata": {
            "tags": []
          },
          "execution_count": 66
        },
        {
          "output_type": "display_data",
          "data": {
            "image/png": "[encoded data removed]",
            "text/plain": [
              "<Figure size 432x288 with 1 Axes>"
            ]
          },
          "metadata": {
            "tags": []
          }
        }
      ]
    },
    {
      "cell_type": "markdown",
      "metadata": {
        "id": "s8-6HnLa9TSQ",
        "colab_type": "text"
      },
      "source": [
        "## Task 2 :\n",
        "\n",
        "#### Question: Try replacing  RandomizedSearchCV with GridSearchCV."
      ]
    },
    {
      "cell_type": "code",
      "metadata": {
        "id": "ylu_hOe59Z3H",
        "colab_type": "code",
        "outputId": "9f67be5f-82f5-4ae9-98d3-c232c830e00f",
        "colab": {
          "base_uri": "https://localhost:8080/",
          "height": 323
        }
      },
      "source": [
        "from sklearn.model_selection import GridSearchCV\n",
        "from sklearn.svm import SVR\n",
        "svm_reg = SVR()\n",
        "parameters =  {'kernel': ['linear','rbf'], \n",
        "         'C': [10., 30., 100., 300., 1000., 3000., 10000., 30000.0],\n",
        "         'gamma': [0.01, 0.03, 0.1, 0.3, 1.0, 3.0]}\n",
        "\n",
        "grid_search_reg = GridSearchCV(svm_reg,param_grid = parameters,scoring = 'neg_mean_squared_error',cv=5,verbose=2,n_jobs=-1)\n",
        "grid_search_reg.fit(housing_data_preprocessed,Y)"
      ],
      "execution_count": 21,
      "outputs": [
        {
          "output_type": "stream",
          "text": [
            "Fitting 5 folds for each of 96 candidates, totalling 480 fits\n"
          ],
          "name": "stdout"
        },
        {
          "output_type": "stream",
          "text": [
            "[Parallel(n_jobs=-1)]: Using backend LokyBackend with 2 concurrent workers.\n",
            "[Parallel(n_jobs=-1)]: Done  37 tasks      | elapsed:  7.5min\n",
            "[Parallel(n_jobs=-1)]: Done 158 tasks      | elapsed: 32.3min\n",
            "[Parallel(n_jobs=-1)]: Done 361 tasks      | elapsed: 73.9min\n",
            "[Parallel(n_jobs=-1)]: Done 480 out of 480 | elapsed: 103.2min finished\n"
          ],
          "name": "stderr"
        },
        {
          "output_type": "execute_result",
          "data": {
            "text/plain": [
              "GridSearchCV(cv=5, error_score='raise-deprecating',\n",
              "             estimator=SVR(C=1.0, cache_size=200, coef0=0.0, degree=3,\n",
              "                           epsilon=0.1, gamma='auto_deprecated', kernel='rbf',\n",
              "                           max_iter=-1, shrinking=True, tol=0.001,\n",
              "                           verbose=False),\n",
              "             iid='warn', n_jobs=-1,\n",
              "             param_grid={'C': [10.0, 30.0, 100.0, 300.0, 1000.0, 3000.0,\n",
              "                               10000.0, 30000.0],\n",
              "                         'gamma': [0.01, 0.03, 0.1, 0.3, 1.0, 3.0],\n",
              "                         'kernel': ['linear', 'rbf']},\n",
              "             pre_dispatch='2*n_jobs', refit=True, return_train_score=False,\n",
              "             scoring='neg_mean_squared_error', verbose=2)"
            ]
          },
          "metadata": {
            "tags": []
          },
          "execution_count": 21
        }
      ]
    },
    {
      "cell_type": "markdown",
      "metadata": {
        "id": "xO3y8v1JT3zk",
        "colab_type": "text"
      },
      "source": [
        "#### The best model achieves the following score (evaluated using 5-fold cross validation):"
      ]
    },
    {
      "cell_type": "code",
      "metadata": {
        "id": "3fEFM4S6T3NW",
        "colab_type": "code",
        "colab": {
          "base_uri": "https://localhost:8080/",
          "height": 34
        },
        "outputId": "f9a30f59-d843-4e32-ab6d-e23659dc1188"
      },
      "source": [
        "rmse = np.sqrt(-grid_search_reg.best_score_)\n",
        "rmse "
      ],
      "execution_count": 22,
      "outputs": [
        {
          "output_type": "execute_result",
          "data": {
            "text/plain": [
              "65506.05350319281"
            ]
          },
          "metadata": {
            "tags": []
          },
          "execution_count": 22
        }
      ]
    },
    {
      "cell_type": "markdown",
      "metadata": {
        "id": "E8_dh37yUtwd",
        "colab_type": "text"
      },
      "source": [
        "## The best parameters  determined by the Grid Search"
      ]
    },
    {
      "cell_type": "code",
      "metadata": {
        "id": "tNJwcn7zVExp",
        "colab_type": "code",
        "colab": {
          "base_uri": "https://localhost:8080/",
          "height": 51
        },
        "outputId": "7c0c9f62-aa55-4b1f-c7e8-381edaa30e5c"
      },
      "source": [
        "print(f\"Best Parameters \\n {grid_search_reg.best_params_}\")"
      ],
      "execution_count": 23,
      "outputs": [
        {
          "output_type": "stream",
          "text": [
            "Best Parameters \n",
            " {'C': 30000.0, 'gamma': 0.3, 'kernel': 'rbf'}\n"
          ],
          "name": "stdout"
        }
      ]
    },
    {
      "cell_type": "markdown",
      "metadata": {
        "id": "XEMW3C3NVsEs",
        "colab_type": "text"
      },
      "source": [
        "####Notice that the value of C is the maximum tested value. When this happens you definitely want to launch the grid search again with higher values for C (removing the smallest values), because it is likely that higher values of C will be better."
      ]
    },
    {
      "cell_type": "code",
      "metadata": {
        "id": "cn_-v-cqV8Ew",
        "colab_type": "code",
        "colab": {
          "base_uri": "https://localhost:8080/",
          "height": 51
        },
        "outputId": "f4528c35-a24f-4f44-a576-066a956e9eb9"
      },
      "source": [
        "svm_grid = grid_search_reg.best_estimator_\n",
        "svm_grid.fit(X_train,y_train)"
      ],
      "execution_count": 24,
      "outputs": [
        {
          "output_type": "execute_result",
          "data": {
            "text/plain": [
              "SVR(C=30000.0, cache_size=200, coef0=0.0, degree=3, epsilon=0.1, gamma=0.3,\n",
              "    kernel='rbf', max_iter=-1, shrinking=True, tol=0.001, verbose=False)"
            ]
          },
          "metadata": {
            "tags": []
          },
          "execution_count": 24
        }
      ]
    },
    {
      "cell_type": "code",
      "metadata": {
        "id": "w7MIDOBkWzwb",
        "colab_type": "code",
        "colab": {}
      },
      "source": [
        "y_pred = svm_grid.predict(X_test)"
      ],
      "execution_count": 0,
      "outputs": []
    },
    {
      "cell_type": "markdown",
      "metadata": {
        "id": "zEMW52nRW_Uc",
        "colab_type": "text"
      },
      "source": [
        "##Evaluation of the model predictions on the basis of best hyperparameters returned by GridSearchCV"
      ]
    },
    {
      "cell_type": "code",
      "metadata": {
        "id": "X7fTOnNWXQMC",
        "colab_type": "code",
        "colab": {
          "base_uri": "https://localhost:8080/",
          "height": 85
        },
        "outputId": "9d7a1eff-c837-4359-de7f-091c55538ce2"
      },
      "source": [
        "from sklearn.metrics import mean_squared_error,r2_score,mean_absolute_error\n",
        "print(f'MAE score : {mean_absolute_error(y_test,y_pred)}')\n",
        "print(f'MSE score : {mean_squared_error(y_test,y_pred)}')\n",
        "print(f'RMSE score : {np.sqrt(mean_squared_error(y_test,y_pred))}')\n",
        "print(f'R2 score : {r2_score(y_test,y_pred)}')"
      ],
      "execution_count": 27,
      "outputs": [
        {
          "output_type": "stream",
          "text": [
            "MAE score : 36304.56598709404\n",
            "MSE score : 3160982810.17486\n",
            "RMSE score : 56222.61831482824\n",
            "R2 score : 0.7631710033817021\n"
          ],
          "name": "stdout"
        }
      ]
    },
    {
      "cell_type": "markdown",
      "metadata": {
        "id": "bh_ptBhbXUfB",
        "colab_type": "text"
      },
      "source": [
        "##Note :\n",
        "The R squared score is better compared to as per the hyperparameters proposed by RandomSaerchCV"
      ]
    },
    {
      "cell_type": "markdown",
      "metadata": {
        "id": "tQJp1VS2YTex",
        "colab_type": "text"
      },
      "source": [
        "##Visualize the Predictions Vs Actual Values"
      ]
    },
    {
      "cell_type": "code",
      "metadata": {
        "id": "R8xgIopuYZgd",
        "colab_type": "code",
        "colab": {
          "base_uri": "https://localhost:8080/",
          "height": 297
        },
        "outputId": "bee1be64-cd2d-44db-c088-1b35eb3ab14b"
      },
      "source": [
        "ax1 = sns.distplot(y_test,hist=False,color='r',label='Actual values')\n",
        "sns.distplot(y_pred,hist= False,color='b',label = 'Predicted Values')"
      ],
      "execution_count": 28,
      "outputs": [
        {
          "output_type": "execute_result",
          "data": {
            "text/plain": [
              "<matplotlib.axes._subplots.AxesSubplot at 0x7f441ee0a320>"
            ]
          },
          "metadata": {
            "tags": []
          },
          "execution_count": 28
        },
        {
          "output_type": "display_data",
          "data": {
            "image/png": "[encoded data removed]",
            "text/plain": [
              "<Figure size 432x288 with 1 Axes>"
            ]
          },
          "metadata": {
            "tags": []
          }
        }
      ]
    },
    {
      "cell_type": "markdown",
      "metadata": {
        "id": "SYz-LeuxxPTl",
        "colab_type": "text"
      },
      "source": [
        "## Task 3. Question: Try adding a transformer in the preparation pipeline to select only the most important attributes."
      ]
    },
    {
      "cell_type": "code",
      "metadata": {
        "id": "DPA7hEqOa_Gw",
        "colab_type": "code",
        "colab": {
          "base_uri": "https://localhost:8080/",
          "height": 513
        },
        "outputId": "94c835f3-9551-4977-86ec-dd60d6d4fac0"
      },
      "source": [
        "from sklearn.ensemble import RandomForestRegressor\n",
        "from sklearn.model_selection import RandomizedSearchCV\n",
        "rf = RandomForestRegressor()\n",
        "parameters ={ 'max_depth': [10,30,60,90, 100],\n",
        " 'max_features': ['auto', 'sqrt'],\n",
        " 'n_estimators': [200, 400, 600, 800, 1000]}\n",
        "random_forest_grid = RandomizedSearchCV(estimator = rf,param_distributions=parameters,cv=5,n_iter=10,verbose=2,n_jobs=4)\n",
        "random_forest_grid.fit(housing_data_preprocessed,Y)"
      ],
      "execution_count": 41,
      "outputs": [
        {
          "output_type": "stream",
          "text": [
            "Fitting 5 folds for each of 10 candidates, totalling 50 fits\n"
          ],
          "name": "stdout"
        },
        {
          "output_type": "stream",
          "text": [
            "[Parallel(n_jobs=4)]: Using backend LokyBackend with 4 concurrent workers.\n",
            "/usr/local/lib/python3.6/dist-packages/joblib/externals/loky/process_executor.py:706: UserWarning: A worker stopped while some jobs were given to the executor. This can be caused by a too short worker timeout or by a memory leak.\n",
            "  \"timeout or by a memory leak.\", UserWarning\n",
            "[Parallel(n_jobs=4)]: Done  33 tasks      | elapsed: 14.9min\n",
            "[Parallel(n_jobs=4)]: Done  50 out of  50 | elapsed: 18.3min finished\n"
          ],
          "name": "stderr"
        },
        {
          "output_type": "execute_result",
          "data": {
            "text/plain": [
              "RandomizedSearchCV(cv=5, error_score='raise-deprecating',\n",
              "                   estimator=RandomForestRegressor(bootstrap=True,\n",
              "                                                   criterion='mse',\n",
              "                                                   max_depth=None,\n",
              "                                                   max_features='auto',\n",
              "                                                   max_leaf_nodes=None,\n",
              "                                                   min_impurity_decrease=0.0,\n",
              "                                                   min_impurity_split=None,\n",
              "                                                   min_samples_leaf=1,\n",
              "                                                   min_samples_split=2,\n",
              "                                                   min_weight_fraction_leaf=0.0,\n",
              "                                                   n_estimators='warn',\n",
              "                                                   n_jobs=None, oob_score=False,\n",
              "                                                   random_state=None, verbose=0,\n",
              "                                                   warm_start=False),\n",
              "                   iid='warn', n_iter=10, n_jobs=4,\n",
              "                   param_distributions={'max_depth': [10, 30, 60, 90, 100],\n",
              "                                        'max_features': ['auto', 'sqrt'],\n",
              "                                        'n_estimators': [200, 400, 600, 800,\n",
              "                                                         1000]},\n",
              "                   pre_dispatch='2*n_jobs', random_state=None, refit=True,\n",
              "                   return_train_score=False, scoring=None, verbose=2)"
            ]
          },
          "metadata": {
            "tags": []
          },
          "execution_count": 41
        }
      ]
    },
    {
      "cell_type": "code",
      "metadata": {
        "id": "0cCZ64o3wUN0",
        "colab_type": "code",
        "colab": {
          "base_uri": "https://localhost:8080/",
          "height": 34
        },
        "outputId": "f73f2362-712c-4770-a4a3-4124652c83a5"
      },
      "source": [
        "random_forest_grid.best_params_"
      ],
      "execution_count": 42,
      "outputs": [
        {
          "output_type": "execute_result",
          "data": {
            "text/plain": [
              "{'max_depth': 90, 'max_features': 'sqrt', 'n_estimators': 600}"
            ]
          },
          "metadata": {
            "tags": []
          },
          "execution_count": 42
        }
      ]
    },
    {
      "cell_type": "code",
      "metadata": {
        "id": "uJ1AxbFNweSM",
        "colab_type": "code",
        "colab": {
          "base_uri": "https://localhost:8080/",
          "height": 136
        },
        "outputId": "9691aa3b-9433-4f4c-da0e-9e56626d810b"
      },
      "source": [
        "rf = random_forest_grid.best_estimator_\n",
        "rf.fit(housing_data_preprocessed,Y)"
      ],
      "execution_count": 43,
      "outputs": [
        {
          "output_type": "execute_result",
          "data": {
            "text/plain": [
              "RandomForestRegressor(bootstrap=True, criterion='mse', max_depth=90,\n",
              "                      max_features='sqrt', max_leaf_nodes=None,\n",
              "                      min_impurity_decrease=0.0, min_impurity_split=None,\n",
              "                      min_samples_leaf=1, min_samples_split=2,\n",
              "                      min_weight_fraction_leaf=0.0, n_estimators=600,\n",
              "                      n_jobs=None, oob_score=False, random_state=None,\n",
              "                      verbose=0, warm_start=False)"
            ]
          },
          "metadata": {
            "tags": []
          },
          "execution_count": 43
        }
      ]
    },
    {
      "cell_type": "code",
      "metadata": {
        "id": "Xm8nih7hxItk",
        "colab_type": "code",
        "colab": {
          "base_uri": "https://localhost:8080/",
          "height": 85
        },
        "outputId": "d597cf80-05fb-401f-ddb1-3ccce8945162"
      },
      "source": [
        "rf.feature_importances_"
      ],
      "execution_count": 44,
      "outputs": [
        {
          "output_type": "execute_result",
          "data": {
            "text/plain": [
              "array([1.27038540e-01, 1.11941343e-01, 4.89026746e-02, 5.58363900e-02,\n",
              "       3.93509313e-02, 5.82363484e-02, 3.87811030e-02, 3.54579482e-01,\n",
              "       2.70848021e-02, 1.16146974e-01, 2.73176390e-04, 8.44947457e-03,\n",
              "       1.33787606e-02])"
            ]
          },
          "metadata": {
            "tags": []
          },
          "execution_count": 44
        }
      ]
    },
    {
      "cell_type": "code",
      "metadata": {
        "id": "L-7OD-DZxcCO",
        "colab_type": "code",
        "colab": {}
      },
      "source": [
        "from sklearn.base import BaseEstimator,TransformerMixin\n",
        "def indices_of_top_k(arr,k):\n",
        "  return np.sort(np.argpartition(np.array(arr),-k)[-k:])\n",
        "\n",
        "class TopFeatureSelector(BaseEstimator, TransformerMixin):\n",
        "    def __init__(self, feature_importances, k):\n",
        "        self.feature_importances = feature_importances\n",
        "        self.k = k\n",
        "    def fit(self, X, y=None):\n",
        "        self.feature_indices_ = indices_of_top_k(self.feature_importances, self.k)\n",
        "        return self\n",
        "    def transform(self, X):\n",
        "        return X[:, self.feature_indices_]"
      ],
      "execution_count": 0,
      "outputs": []
    },
    {
      "cell_type": "code",
      "metadata": {
        "id": "aUMls4MYyHcz",
        "colab_type": "code",
        "colab": {
          "base_uri": "https://localhost:8080/",
          "height": 34
        },
        "outputId": "2ad4aba5-009b-40a1-c6b1-4c45146218a4"
      },
      "source": [
        "k =5\n",
        "top_k_feature_indices = indices_of_top_k(rf.feature_importances_, k)\n",
        "top_k_feature_indices\n"
      ],
      "execution_count": 47,
      "outputs": [
        {
          "output_type": "execute_result",
          "data": {
            "text/plain": [
              "array([0, 1, 5, 7, 9])"
            ]
          },
          "metadata": {
            "tags": []
          },
          "execution_count": 47
        }
      ]
    },
    {
      "cell_type": "code",
      "metadata": {
        "id": "lK4nDlcLyQ1V",
        "colab_type": "code",
        "colab": {
          "base_uri": "https://localhost:8080/",
          "height": 51
        },
        "outputId": "85f35ece-af82-421f-fb79-fe62efc4a406"
      },
      "source": [
        "attributes = [col for col in data.columns]\n",
        "np.array(attributes)[top_k_feature_indices]"
      ],
      "execution_count": 48,
      "outputs": [
        {
          "output_type": "execute_result",
          "data": {
            "text/plain": [
              "array(['longitude', 'latitude', 'population', 'median_income',\n",
              "       'ocean_proximity'], dtype='<U18')"
            ]
          },
          "metadata": {
            "tags": []
          },
          "execution_count": 48
        }
      ]
    },
    {
      "cell_type": "code",
      "metadata": {
        "id": "nTekrNbk7uuN",
        "colab_type": "code",
        "colab": {
          "base_uri": "https://localhost:8080/",
          "height": 102
        },
        "outputId": "1a9ee8ab-34e3-4dd5-8abc-effae0ae7163"
      },
      "source": [
        "sorted(zip(rf.feature_importances_, np.array(attributes)[top_k_feature_indices]), reverse=True)[:k]"
      ],
      "execution_count": 51,
      "outputs": [
        {
          "output_type": "execute_result",
          "data": {
            "text/plain": [
              "[(0.1270385399053752, 'longitude'),\n",
              " (0.11194134274983654, 'latitude'),\n",
              " (0.055836389978250044, 'median_income'),\n",
              " (0.04890267455824347, 'population'),\n",
              " (0.039350931285322584, 'ocean_proximity')]"
            ]
          },
          "metadata": {
            "tags": []
          },
          "execution_count": 51
        }
      ]
    },
    {
      "cell_type": "markdown",
      "metadata": {
        "id": "F4hojmm5yrbi",
        "colab_type": "text"
      },
      "source": [
        "##Visualize Feature Importance"
      ]
    },
    {
      "cell_type": "code",
      "metadata": {
        "id": "bdEw1B6tyglp",
        "colab_type": "code",
        "colab": {
          "base_uri": "https://localhost:8080/",
          "height": 265
        },
        "outputId": "dbe5f945-60a7-45df-d479-7eab759cccd9"
      },
      "source": [
        "imp,names = zip(*sorted(zip(top_k_feature_indices,np.array(attributes)[top_k_feature_indices]),reverse=True))\n",
        "plt.barh(range(len(names)), imp, align='center')\n",
        "plt.yticks(range(len(names)), names)\n",
        "plt.show()"
      ],
      "execution_count": 52,
      "outputs": [
        {
          "output_type": "display_data",
          "data": {
            "image/png": "[encoded data removed]",
            "text/plain": [
              "<Figure size 432x288 with 1 Axes>"
            ]
          },
          "metadata": {
            "tags": []
          }
        }
      ]
    },
    {
      "cell_type": "markdown",
      "metadata": {
        "id": "0mjyoFS_8oGg",
        "colab_type": "text"
      },
      "source": [
        "##create a new pipeline that runs the previously defined preparation pipeline, and adds top k feature selection:"
      ]
    },
    {
      "cell_type": "code",
      "metadata": {
        "id": "Mpftafst8mmD",
        "colab_type": "code",
        "colab": {}
      },
      "source": [
        "feature_importances = rf.feature_importances_\n",
        "preparation_and_feature_selection_pipeline = Pipeline([\n",
        "    ('preparation', full_pipeline),\n",
        "    ('feature_selection', TopFeatureSelector(feature_importances, k))\n",
        "])"
      ],
      "execution_count": 0,
      "outputs": []
    },
    {
      "cell_type": "code",
      "metadata": {
        "id": "Kt7IXSGX9DSx",
        "colab_type": "code",
        "colab": {}
      },
      "source": [
        "housing_prepared_top_k_features = preparation_and_feature_selection_pipeline.fit_transform(data.drop('median_house_value',axis=1))"
      ],
      "execution_count": 0,
      "outputs": []
    },
    {
      "cell_type": "markdown",
      "metadata": {
        "id": "87tESL-y9rrk",
        "colab_type": "text"
      },
      "source": [
        "####look at the features of the first 3 instances:"
      ]
    },
    {
      "cell_type": "code",
      "metadata": {
        "id": "rmzandig9gbn",
        "colab_type": "code",
        "colab": {
          "base_uri": "https://localhost:8080/",
          "height": 68
        },
        "outputId": "2410e604-0a28-4197-e38a-1a737a9e6879"
      },
      "source": [
        "housing_prepared_top_k_features[:3]"
      ],
      "execution_count": 56,
      "outputs": [
        {
          "output_type": "execute_result",
          "data": {
            "text/plain": [
              "array([[-1.32783522,  1.05254828, -0.9744286 ,  2.34476576,  0.        ],\n",
              "       [-1.32284391,  1.04318455,  0.86143887,  2.33223796,  0.        ],\n",
              "       [-1.33282653,  1.03850269, -0.82077735,  1.7826994 ,  0.        ]])"
            ]
          },
          "metadata": {
            "tags": []
          },
          "execution_count": 56
        }
      ]
    },
    {
      "cell_type": "markdown",
      "metadata": {
        "id": "iWbXHgj39-Z8",
        "colab_type": "text"
      },
      "source": [
        "####Now let's double check that these are indeed the top k features:"
      ]
    },
    {
      "cell_type": "code",
      "metadata": {
        "id": "hpikVACD-Bps",
        "colab_type": "code",
        "colab": {
          "base_uri": "https://localhost:8080/",
          "height": 68
        },
        "outputId": "7c415a0e-2866-4eeb-ce6e-049e9eaace81"
      },
      "source": [
        "housing_data_preprocessed[0:3,top_k_feature_indices]"
      ],
      "execution_count": 62,
      "outputs": [
        {
          "output_type": "execute_result",
          "data": {
            "text/plain": [
              "array([[-1.32783522,  1.05254828, -0.9744286 ,  2.34476576,  0.        ],\n",
              "       [-1.32284391,  1.04318455,  0.86143887,  2.33223796,  0.        ],\n",
              "       [-1.33282653,  1.03850269, -0.82077735,  1.7826994 ,  0.        ]])"
            ]
          },
          "metadata": {
            "tags": []
          },
          "execution_count": 62
        }
      ]
    },
    {
      "cell_type": "markdown",
      "metadata": {
        "id": "rKjYalhwAGLp",
        "colab_type": "text"
      },
      "source": [
        "## 4.Question: Try creating a single pipeline that does the full data preparation plus the final prediction."
      ]
    },
    {
      "cell_type": "code",
      "metadata": {
        "id": "Z_5Vpb-pATih",
        "colab_type": "code",
        "colab": {}
      },
      "source": [
        "prepare_select_and_predict_pipeline = Pipeline([\n",
        "                                                ('preparation',full_pipeline),\n",
        "                                                ('feature_selection',TopFeatureSelector(feature_importances, k)),\n",
        "                                                ('svm_regressor', grid_search_reg.best_estimator_)\n",
        "])"
      ],
      "execution_count": 0,
      "outputs": []
    },
    {
      "cell_type": "code",
      "metadata": {
        "id": "44JBJLrvB-kN",
        "colab_type": "code",
        "colab": {
          "base_uri": "https://localhost:8080/",
          "height": 476
        },
        "outputId": "6565265a-cb5c-4d05-e3cb-48a35441b800"
      },
      "source": [
        "prepare_select_and_predict_pipeline.fit(data.drop('median_house_value',axis=1),data['median_house_value'])"
      ],
      "execution_count": 93,
      "outputs": [
        {
          "output_type": "execute_result",
          "data": {
            "text/plain": [
              "Pipeline(memory=None,\n",
              "         steps=[('preparation',\n",
              "                 ColumnTransformer(n_jobs=None, remainder='drop',\n",
              "                                   sparse_threshold=0.3,\n",
              "                                   transformer_weights=None,\n",
              "                                   transformers=[('num',\n",
              "                                                  Pipeline(memory=None,\n",
              "                                                           steps=[('imputer',\n",
              "                                                                   SimpleImputer(add_indicator=False,\n",
              "                                                                                 copy=True,\n",
              "                                                                                 fill_value=None,\n",
              "                                                                                 missing_values=nan,\n",
              "                                                                                 strategy='median',\n",
              "                                                                                 verbose=0)),\n",
              "                                                                  ('std_scaler',\n",
              "                                                                   StandardScaler(copy=True,\n",
              "                                                                                  with_m...\n",
              "                 TopFeatureSelector(feature_importances=array([1.27038540e-01, 1.11941343e-01, 4.89026746e-02, 5.58363900e-02,\n",
              "       3.93509313e-02, 5.82363484e-02, 3.87811030e-02, 3.54579482e-01,\n",
              "       2.70848021e-02, 1.16146974e-01, 2.73176390e-04, 8.44947457e-03,\n",
              "       1.33787606e-02]),\n",
              "                                    k=5)),\n",
              "                ('svm_regressor',\n",
              "                 SVR(C=30000.0, cache_size=200, coef0=0.0, degree=3,\n",
              "                     epsilon=0.1, gamma=0.3, kernel='rbf', max_iter=-1,\n",
              "                     shrinking=True, tol=0.001, verbose=False))],\n",
              "         verbose=False)"
            ]
          },
          "metadata": {
            "tags": []
          },
          "execution_count": 93
        }
      ]
    },
    {
      "cell_type": "markdown",
      "metadata": {
        "id": "BphPU450DbTJ",
        "colab_type": "text"
      },
      "source": [
        "#### Test Full Pipeline on few instances"
      ]
    },
    {
      "cell_type": "code",
      "metadata": {
        "id": "2OzBoPD6DgNw",
        "colab_type": "code",
        "colab": {
          "base_uri": "https://localhost:8080/",
          "height": 51
        },
        "outputId": "23ef8531-8b84-433e-e278-d186121dec62"
      },
      "source": [
        "X = data.drop('median_house_value',axis=1)\n",
        "Y = data['median_house_value']\n",
        "X_test_instance = X.iloc[:4]\n",
        "Y_test_instance = Y.iloc[:4]\n",
        "\n",
        "print(\"Predictions:\\t\", prepare_select_and_predict_pipeline.predict(X_test_instance))\n",
        "print(\"Labels:\\t\\t\", list(Y_test_instance))"
      ],
      "execution_count": 94,
      "outputs": [
        {
          "output_type": "stream",
          "text": [
            "Predictions:\t [446570.10067623 433732.89639438 396393.5606144  294096.3453017 ]\n",
            "Labels:\t\t [452600.0, 358500.0, 352100.0, 341300.0]\n"
          ],
          "name": "stdout"
        }
      ]
    },
    {
      "cell_type": "markdown",
      "metadata": {
        "id": "iatRG3lAFw6U",
        "colab_type": "text"
      },
      "source": [
        "## Pipeline for Random Forest Regressor"
      ]
    },
    {
      "cell_type": "code",
      "metadata": {
        "id": "9fRGe4XOFUaS",
        "colab_type": "code",
        "colab": {}
      },
      "source": [
        "prepare_select_and_predict_pipeline_rf = Pipeline([\n",
        "                                                ('preparation',full_pipeline),\n",
        "                                                ('feature_selection',TopFeatureSelector(feature_importances, k)),\n",
        "                                                ('Randomregressor', random_forest_grid.best_estimator_)\n",
        "])"
      ],
      "execution_count": 0,
      "outputs": []
    },
    {
      "cell_type": "code",
      "metadata": {
        "id": "TqPlko8HGNwX",
        "colab_type": "code",
        "colab": {
          "base_uri": "https://localhost:8080/",
          "height": 510
        },
        "outputId": "a6a9caed-8648-4cd7-aa0d-8b1b3b0eca20"
      },
      "source": [
        "prepare_select_and_predict_pipeline_rf.fit(data.drop('median_house_value',axis=1),data['median_house_value'])"
      ],
      "execution_count": 76,
      "outputs": [
        {
          "output_type": "execute_result",
          "data": {
            "text/plain": [
              "Pipeline(memory=None,\n",
              "         steps=[('preparation',\n",
              "                 ColumnTransformer(n_jobs=None, remainder='drop',\n",
              "                                   sparse_threshold=0.3,\n",
              "                                   transformer_weights=None,\n",
              "                                   transformers=[('num',\n",
              "                                                  Pipeline(memory=None,\n",
              "                                                           steps=[('imputer',\n",
              "                                                                   SimpleImputer(add_indicator=False,\n",
              "                                                                                 copy=True,\n",
              "                                                                                 fill_value=None,\n",
              "                                                                                 missing_values=nan,\n",
              "                                                                                 strategy='median',\n",
              "                                                                                 verbose=0)),\n",
              "                                                                  ('std_scaler',\n",
              "                                                                   StandardScaler(copy=True,\n",
              "                                                                                  with_m...\n",
              "                ('Randomregressor',\n",
              "                 RandomForestRegressor(bootstrap=True, criterion='mse',\n",
              "                                       max_depth=90, max_features='sqrt',\n",
              "                                       max_leaf_nodes=None,\n",
              "                                       min_impurity_decrease=0.0,\n",
              "                                       min_impurity_split=None,\n",
              "                                       min_samples_leaf=1, min_samples_split=2,\n",
              "                                       min_weight_fraction_leaf=0.0,\n",
              "                                       n_estimators=600, n_jobs=None,\n",
              "                                       oob_score=False, random_state=None,\n",
              "                                       verbose=0, warm_start=False))],\n",
              "         verbose=False)"
            ]
          },
          "metadata": {
            "tags": []
          },
          "execution_count": 76
        }
      ]
    },
    {
      "cell_type": "markdown",
      "metadata": {
        "id": "V8v_6Ml3G5bI",
        "colab_type": "text"
      },
      "source": [
        "##Test Full Pipeline on few instances"
      ]
    },
    {
      "cell_type": "code",
      "metadata": {
        "id": "I33pkyYOG8kA",
        "colab_type": "code",
        "colab": {
          "base_uri": "https://localhost:8080/",
          "height": 51
        },
        "outputId": "df8fa31b-df29-4a39-9ee1-25047aeb6739"
      },
      "source": [
        "print(\"Predictions:\\t\", prepare_select_and_predict_pipeline_rf.predict(X_test_instance))\n",
        "print(\"Labels:\\t\\t\", list(Y_test_instance))"
      ],
      "execution_count": 78,
      "outputs": [
        {
          "output_type": "stream",
          "text": [
            "Predictions:\t [432438.23       386249.86833333 375648.86666667 347162.50833333]\n",
            "Labels:\t\t [452600.0, 358500.0, 352100.0, 341300.0]\n"
          ],
          "name": "stdout"
        }
      ]
    },
    {
      "cell_type": "markdown",
      "metadata": {
        "id": "UGdGAZuRHG02",
        "colab_type": "text"
      },
      "source": [
        "####Note:\n",
        "Well, the full pipeline seems to work fine. Of course, the predictions are not fantastic for SVR but  they are  better if we used the best RandomForestRegressor ."
      ]
    },
    {
      "cell_type": "markdown",
      "metadata": {
        "id": "_bejdgfRIO-L",
        "colab_type": "text"
      },
      "source": [
        "##5.Question: Automatically explore some Pipeline preparation options using GridSearchCV."
      ]
    },
    {
      "cell_type": "code",
      "metadata": {
        "id": "II2aHB_QL0LP",
        "colab_type": "code",
        "colab": {
          "base_uri": "https://localhost:8080/",
          "height": 51
        },
        "outputId": "1fbacaf6-a8d8-4c2b-f7ec-d3a0d260605b"
      },
      "source": [
        "data['ocean_proximity'].unique()"
      ],
      "execution_count": 83,
      "outputs": [
        {
          "output_type": "execute_result",
          "data": {
            "text/plain": [
              "array(['NEAR BAY', '<1H OCEAN', 'INLAND', 'NEAR OCEAN', 'ISLAND'],\n",
              "      dtype=object)"
            ]
          },
          "metadata": {
            "tags": []
          },
          "execution_count": 83
        }
      ]
    },
    {
      "cell_type": "code",
      "metadata": {
        "id": "udQwQJ65YbtM",
        "colab_type": "code",
        "colab": {
          "base_uri": "https://localhost:8080/",
          "height": 34
        },
        "outputId": "f50dd79a-0afc-4b70-fa5f-dd344dab0e16"
      },
      "source": [
        "len(feature_importances)"
      ],
      "execution_count": 97,
      "outputs": [
        {
          "output_type": "execute_result",
          "data": {
            "text/plain": [
              "13"
            ]
          },
          "metadata": {
            "tags": []
          },
          "execution_count": 97
        }
      ]
    },
    {
      "cell_type": "code",
      "metadata": {
        "id": "vCA0yw3eYj78",
        "colab_type": "code",
        "colab": {
          "base_uri": "https://localhost:8080/",
          "height": 34
        },
        "outputId": "f5ab4e51-fa4f-4278-a57f-c3ece27066a9"
      },
      "source": [
        "data.shape"
      ],
      "execution_count": 99,
      "outputs": [
        {
          "output_type": "execute_result",
          "data": {
            "text/plain": [
              "(20640, 10)"
            ]
          },
          "metadata": {
            "tags": []
          },
          "execution_count": 99
        }
      ]
    },
    {
      "cell_type": "code",
      "metadata": {
        "id": "gUMYpyFJY9nK",
        "colab_type": "code",
        "colab": {
          "base_uri": "https://localhost:8080/",
          "height": 34
        },
        "outputId": "dac283f9-aea1-4c00-996b-7bc627ba7d21"
      },
      "source": [
        "housing_data_preprocessed.shape"
      ],
      "execution_count": 100,
      "outputs": [
        {
          "output_type": "execute_result",
          "data": {
            "text/plain": [
              "(20640, 13)"
            ]
          },
          "metadata": {
            "tags": []
          },
          "execution_count": 100
        }
      ]
    },
    {
      "cell_type": "code",
      "metadata": {
        "id": "E9WmkTRsIm11",
        "colab_type": "code",
        "colab": {}
      },
      "source": [
        "param_grid = [{\n",
        "    'preparation__num__imputer__strategy': ['mean', 'median', 'most_frequent'],\n",
        "    'feature_selection__k': list(range(1, len(feature_importances) + 1))\n",
        "}]"
      ],
      "execution_count": 0,
      "outputs": []
    },
    {
      "cell_type": "code",
      "metadata": {
        "id": "KsXDSrBQa2AM",
        "colab_type": "code",
        "colab": {
          "base_uri": "https://localhost:8080/",
          "height": 153
        },
        "outputId": "1b2736a0-8484-4db6-abb5-c0ec15af8629"
      },
      "source": [
        "num_attribs"
      ],
      "execution_count": 104,
      "outputs": [
        {
          "output_type": "execute_result",
          "data": {
            "text/plain": [
              "['longitude',\n",
              " 'latitude',\n",
              " 'housing_median_age',\n",
              " 'total_rooms',\n",
              " 'total_bedrooms',\n",
              " 'population',\n",
              " 'households',\n",
              " 'median_income']"
            ]
          },
          "metadata": {
            "tags": []
          },
          "execution_count": 104
        }
      ]
    },
    {
      "cell_type": "code",
      "metadata": {
        "id": "E7c1X8zKHRz2",
        "colab_type": "code",
        "colab": {
          "base_uri": "https://localhost:8080/",
          "height": 1000
        },
        "outputId": "3b03c518-f771-4b7a-ea99-44c3184a17ac"
      },
      "source": [
        "grid_search_prep = GridSearchCV(prepare_select_and_predict_pipeline, param_grid, cv=5,\n",
        "                                scoring='neg_mean_squared_error', verbose=2)\n",
        "grid_search_prep.fit(data[num_attribs + cat_attribs],data['median_house_value'])"
      ],
      "execution_count": 106,
      "outputs": [
        {
          "output_type": "stream",
          "text": [
            "Fitting 5 folds for each of 3 candidates, totalling 15 fits\n",
            "[CV] preparation__num__imputer__strategy=mean ........................\n"
          ],
          "name": "stdout"
        },
        {
          "output_type": "stream",
          "text": [
            "[Parallel(n_jobs=1)]: Using backend SequentialBackend with 1 concurrent workers.\n"
          ],
          "name": "stderr"
        },
        {
          "output_type": "stream",
          "text": [
            "[CV] ......... preparation__num__imputer__strategy=mean, total=  17.9s\n",
            "[CV] preparation__num__imputer__strategy=mean ........................\n"
          ],
          "name": "stdout"
        },
        {
          "output_type": "stream",
          "text": [
            "[Parallel(n_jobs=1)]: Done   1 out of   1 | elapsed:   17.9s remaining:    0.0s\n"
          ],
          "name": "stderr"
        },
        {
          "output_type": "stream",
          "text": [
            "[CV] ......... preparation__num__imputer__strategy=mean, total=  17.8s\n",
            "[CV] preparation__num__imputer__strategy=mean ........................\n",
            "[CV] ......... preparation__num__imputer__strategy=mean, total=  17.4s\n",
            "[CV] preparation__num__imputer__strategy=mean ........................\n",
            "[CV] ......... preparation__num__imputer__strategy=mean, total=  17.3s\n",
            "[CV] preparation__num__imputer__strategy=mean ........................\n",
            "[CV] ......... preparation__num__imputer__strategy=mean, total=  17.2s\n",
            "[CV] preparation__num__imputer__strategy=median ......................\n",
            "[CV] ....... preparation__num__imputer__strategy=median, total=  17.1s\n",
            "[CV] preparation__num__imputer__strategy=median ......................\n",
            "[CV] ....... preparation__num__imputer__strategy=median, total=  17.3s\n",
            "[CV] preparation__num__imputer__strategy=median ......................\n",
            "[CV] ....... preparation__num__imputer__strategy=median, total=  17.1s\n",
            "[CV] preparation__num__imputer__strategy=median ......................\n",
            "[CV] ....... preparation__num__imputer__strategy=median, total=  17.0s\n",
            "[CV] preparation__num__imputer__strategy=median ......................\n",
            "[CV] ....... preparation__num__imputer__strategy=median, total=  16.9s\n",
            "[CV] preparation__num__imputer__strategy=most_frequent ...............\n",
            "[CV]  preparation__num__imputer__strategy=most_frequent, total=  17.0s\n",
            "[CV] preparation__num__imputer__strategy=most_frequent ...............\n",
            "[CV]  preparation__num__imputer__strategy=most_frequent, total=  17.0s\n",
            "[CV] preparation__num__imputer__strategy=most_frequent ...............\n",
            "[CV]  preparation__num__imputer__strategy=most_frequent, total=  16.7s\n",
            "[CV] preparation__num__imputer__strategy=most_frequent ...............\n",
            "[CV]  preparation__num__imputer__strategy=most_frequent, total=  16.5s\n",
            "[CV] preparation__num__imputer__strategy=most_frequent ...............\n",
            "[CV]  preparation__num__imputer__strategy=most_frequent, total=  16.9s\n"
          ],
          "name": "stdout"
        },
        {
          "output_type": "stream",
          "text": [
            "[Parallel(n_jobs=1)]: Done  15 out of  15 | elapsed:  4.3min finished\n"
          ],
          "name": "stderr"
        },
        {
          "output_type": "execute_result",
          "data": {
            "text/plain": [
              "GridSearchCV(cv=5, error_score='raise-deprecating',\n",
              "             estimator=Pipeline(memory=None,\n",
              "                                steps=[('preparation',\n",
              "                                        ColumnTransformer(n_jobs=None,\n",
              "                                                          remainder='drop',\n",
              "                                                          sparse_threshold=0.3,\n",
              "                                                          transformer_weights=None,\n",
              "                                                          transformers=[('num',\n",
              "                                                                         Pipeline(memory=None,\n",
              "                                                                                  steps=[('imputer',\n",
              "                                                                                          SimpleImputer(add_indicator=False,\n",
              "                                                                                                        copy=True,\n",
              "                                                                                                        fill_value=None,\n",
              "                                                                                                        missing_values=nan,\n",
              "                                                                                                        strategy='media...\n",
              "                                        SVR(C=30000.0, cache_size=200,\n",
              "                                            coef0=0.0, degree=3, epsilon=0.1,\n",
              "                                            gamma=0.3, kernel='rbf',\n",
              "                                            max_iter=-1, shrinking=True,\n",
              "                                            tol=0.001, verbose=False))],\n",
              "                                verbose=False),\n",
              "             iid='warn', n_jobs=None,\n",
              "             param_grid=[{'preparation__num__imputer__strategy': ['mean',\n",
              "                                                                  'median',\n",
              "                                                                  'most_frequent']}],\n",
              "             pre_dispatch='2*n_jobs', refit=True, return_train_score=False,\n",
              "             scoring='neg_mean_squared_error', verbose=2)"
            ]
          },
          "metadata": {
            "tags": []
          },
          "execution_count": 106
        }
      ]
    },
    {
      "cell_type": "code",
      "metadata": {
        "id": "lIzKXqpEdJtk",
        "colab_type": "code",
        "colab": {
          "base_uri": "https://localhost:8080/",
          "height": 34
        },
        "outputId": "8a036ff6-0367-41bd-b693-04ecfbc9e478"
      },
      "source": [
        "grid_search_prep.best_params_"
      ],
      "execution_count": 107,
      "outputs": [
        {
          "output_type": "execute_result",
          "data": {
            "text/plain": [
              "{'preparation__num__imputer__strategy': 'mean'}"
            ]
          },
          "metadata": {
            "tags": []
          },
          "execution_count": 107
        }
      ]
    }
  ]
}