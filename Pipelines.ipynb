{
  "nbformat": 4,
  "nbformat_minor": 0,
  "metadata": {
    "colab": {
      "name": "Pipelines.ipynb",
      "provenance": [],
      "include_colab_link": true
    },
    "kernelspec": {
      "name": "python3",
      "display_name": "Python 3"
    }
  },
  "cells": [
    {
      "cell_type": "markdown",
      "metadata": {
        "id": "view-in-github",
        "colab_type": "text"
      },
      "source": [
        "<a href=\"https://colab.research.google.com/github/plaban1981/Hands-on-Machine-Learning/blob/master/Pipelines.ipynb\" target=\"_parent\"><img src=\"https://colab.research.google.com/assets/colab-badge.svg\" alt=\"Open In Colab\"/></a>"
      ]
    },
    {
      "cell_type": "markdown",
      "metadata": {
        "id": "2tpxkNqNOMBF",
        "colab_type": "text"
      },
      "source": [
        "##What is the difference between pipeline and make_pipeline in scikit?"
      ]
    },
    {
      "cell_type": "markdown",
      "metadata": {
        "id": "ceN2_leeP5Qj",
        "colab_type": "text"
      },
      "source": [
        "#### with Pipeline:\n",
        "\n",
        "- names are explicit, you don't have to figure them out if you need them;\n",
        "- name doesn't change if you change estimator/transformer used in a step, e.g. - if you replace LogisticRegression() with LinearSVC() you can still use clf__C.\n",
        "\n",
        "'''\n",
        "pipe = Pipeline([('vec', CountVectorizer()), ('clf', LogisticRegression()])\n",
        "\n",
        "param_grid = [{'clf__C': [1, 10, 100, 1000]}\n",
        "\n",
        "gs = GridSearchCV(pipe, param_grid)\n",
        "\n",
        "gs.fit(X, y\n",
        "'''\n",
        "\n",
        "\n",
        "#### make_pipeline:\n",
        "\n",
        "- shorter and arguably more readable notation;\n",
        "- names are auto-generated using a straightforward rule (lowercase name of an estimator). \n",
        "\n",
        "'''\n",
        "pipe = make_pipeline(CountVectorizer(), LogisticRegression())   \n",
        "\n",
        "param_grid = [{'logisticregression__C': [1, 10, 100, 1000]}\n",
        "\n",
        "gs = GridSearchCV(pipe, param_grid)\n",
        "\n",
        "gs.fit(X, y)\n",
        "\n",
        "\n",
        "'''\n",
        "When to use them is up to you :) \n",
        "\n",
        "- I prefer make_pipeline for quick experiments and Pipeline for more stable code; \n",
        "\n",
        "- a rule of thumb: IPython Notebook -> make_pipeline; \n",
        "\n",
        "- Python module in a larger project -> Pipeline. \n",
        "\n",
        "But it is certainly not a big deal to use make_pipeline in a module or Pipeline in a short script or a notebook."
      ]
    },
    {
      "cell_type": "code",
      "metadata": {
        "id": "i4nJ3ntlOGj-",
        "colab_type": "code",
        "colab": {}
      },
      "source": [
        ""
      ],
      "execution_count": 0,
      "outputs": []
    }
  ]
}