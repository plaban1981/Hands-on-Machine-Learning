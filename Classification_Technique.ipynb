{
  "nbformat": 4,
  "nbformat_minor": 0,
  "metadata": {
    "colab": {
      "name": "Classification_Technique.ipynb",
      "provenance": [],
      "authorship_tag": "ABX9TyM0jJ+1Zty0c3jBQkhUoKTk",
      "include_colab_link": true
    },
    "kernelspec": {
      "name": "python3",
      "display_name": "Python 3"
    },
    "accelerator": "GPU"
  },
  "cells": [
    {
      "cell_type": "markdown",
      "metadata": {
        "id": "view-in-github",
        "colab_type": "text"
      },
      "source": [
        "<a href=\"https://colab.research.google.com/github/plaban1981/Hands-on-Machine-Learning/blob/master/Classification_Technique.ipynb\" target=\"_parent\"><img src=\"https://colab.research.google.com/assets/colab-badge.svg\" alt=\"Open In Colab\"/></a>"
      ]
    },
    {
      "cell_type": "markdown",
      "metadata": {
        "id": "dJutsbXZ4v24",
        "colab_type": "text"
      },
      "source": [
        "## Download Mnist Dataset"
      ]
    },
    {
      "cell_type": "code",
      "metadata": {
        "id": "9dc5EQfa1UL9",
        "colab_type": "code",
        "outputId": "42f673c0-cddc-420a-eb65-1c0d7e3508fe",
        "colab": {
          "base_uri": "https://localhost:8080/",
          "height": 34
        }
      },
      "source": [
        "from sklearn.datasets import fetch_openml\n",
        "mnist = fetch_openml('mnist_784',version=1)\n",
        "mnist.keys()"
      ],
      "execution_count": 1,
      "outputs": [
        {
          "output_type": "execute_result",
          "data": {
            "text/plain": [
              "dict_keys(['data', 'target', 'frame', 'feature_names', 'target_names', 'DESCR', 'details', 'categories', 'url'])"
            ]
          },
          "metadata": {
            "tags": []
          },
          "execution_count": 1
        }
      ]
    },
    {
      "cell_type": "code",
      "metadata": {
        "id": "ij9G9tIH40IE",
        "colab_type": "code",
        "colab": {}
      },
      "source": [
        "import sklearn\n",
        "m = sklearn.datasets.load_digits()"
      ],
      "execution_count": 0,
      "outputs": []
    },
    {
      "cell_type": "code",
      "metadata": {
        "id": "fZSFirnd5UUG",
        "colab_type": "code",
        "outputId": "7c4945c2-9d54-4048-d496-a0d4752b674e",
        "colab": {
          "base_uri": "https://localhost:8080/",
          "height": 34
        }
      },
      "source": [
        "m.keys()"
      ],
      "execution_count": 3,
      "outputs": [
        {
          "output_type": "execute_result",
          "data": {
            "text/plain": [
              "dict_keys(['data', 'target', 'target_names', 'images', 'DESCR'])"
            ]
          },
          "metadata": {
            "tags": []
          },
          "execution_count": 3
        }
      ]
    },
    {
      "cell_type": "markdown",
      "metadata": {
        "id": "lnXQM_ZR5YuH",
        "colab_type": "text"
      },
      "source": [
        "## Separate Features and Labels"
      ]
    },
    {
      "cell_type": "code",
      "metadata": {
        "id": "8Dr8dJaH5brw",
        "colab_type": "code",
        "outputId": "bdeba9a0-e4e6-4743-8090-53a374433c37",
        "colab": {
          "base_uri": "https://localhost:8080/",
          "height": 51
        }
      },
      "source": [
        "X,y = mnist['data'],mnist['target']\n",
        "print(X.shape)\n",
        "print(y.shape)"
      ],
      "execution_count": 4,
      "outputs": [
        {
          "output_type": "stream",
          "text": [
            "(70000, 784)\n",
            "(70000,)\n"
          ],
          "name": "stdout"
        }
      ]
    },
    {
      "cell_type": "markdown",
      "metadata": {
        "id": "gGsvSXtr5tYm",
        "colab_type": "text"
      },
      "source": [
        "784 features ,each image 28 x 28 pixels"
      ]
    },
    {
      "cell_type": "code",
      "metadata": {
        "id": "C3lt30Bi5yi-",
        "colab_type": "code",
        "outputId": "de8e9d40-a6b7-4135-fb42-27c5fde706fc",
        "colab": {
          "base_uri": "https://localhost:8080/",
          "height": 248
        }
      },
      "source": [
        "import matplotlib.pyplot as plt\n",
        "import matplotlib as mpl\n",
        "\n",
        "some_digit = X[27]\n",
        "some_digit_image = some_digit.reshape(28,28)\n",
        "\n",
        "plt.imshow(some_digit_image)\n",
        "plt.axis('off')\n",
        "plt.show()\n"
      ],
      "execution_count": 5,
      "outputs": [
        {
          "output_type": "display_data",
          "data": {
            "image/png": "[encoded data removed]",
            "text/plain": [
              "<Figure size 432x288 with 1 Axes>"
            ]
          },
          "metadata": {
            "tags": []
          }
        }
      ]
    },
    {
      "cell_type": "markdown",
      "metadata": {
        "id": "U8axX5qF6jPo",
        "colab_type": "text"
      },
      "source": [
        "## Train Split the sample data\n",
        "MNIST is already split into 60000 training samples and 10000 test samples\n",
        "\n",
        "Training set is already shuffled"
      ]
    },
    {
      "cell_type": "code",
      "metadata": {
        "id": "e67ri64Z6tny",
        "colab_type": "code",
        "outputId": "42142323-2cf9-4c4c-81dc-f640d831c4bb",
        "colab": {
          "base_uri": "https://localhost:8080/",
          "height": 51
        }
      },
      "source": [
        "X_train,X_test,y_train,y_test = X[:60000],X[60000:],y[:60000],y[60000:]\n",
        "print(X_train.shape)\n",
        "print(X_test.shape)"
      ],
      "execution_count": 6,
      "outputs": [
        {
          "output_type": "stream",
          "text": [
            "(60000, 784)\n",
            "(10000, 784)\n"
          ],
          "name": "stdout"
        }
      ]
    },
    {
      "cell_type": "code",
      "metadata": {
        "id": "WL_MsPcj79_T",
        "colab_type": "code",
        "colab": {}
      },
      "source": [
        ""
      ],
      "execution_count": 0,
      "outputs": []
    },
    {
      "cell_type": "markdown",
      "metadata": {
        "id": "Y6FDg9d67Rk3",
        "colab_type": "text"
      },
      "source": [
        "## Training a Binary Classifier"
      ]
    },
    {
      "cell_type": "code",
      "metadata": {
        "id": "PlJwR2S48GIp",
        "colab_type": "code",
        "colab": {}
      },
      "source": [
        "import numpy as np"
      ],
      "execution_count": 0,
      "outputs": []
    },
    {
      "cell_type": "code",
      "metadata": {
        "id": "4vT57r6Y7Ul4",
        "colab_type": "code",
        "colab": {}
      },
      "source": [
        "y_train_5 = (y_train == 5)\n",
        "y_test_5 = (y_test == 5)"
      ],
      "execution_count": 0,
      "outputs": []
    },
    {
      "cell_type": "code",
      "metadata": {
        "id": "XUwglMhT-mct",
        "colab_type": "code",
        "outputId": "13fb8e78-da64-466e-9254-7c817819d8ad",
        "colab": {
          "base_uri": "https://localhost:8080/",
          "height": 34
        }
      },
      "source": [
        "y_train_5"
      ],
      "execution_count": 9,
      "outputs": [
        {
          "output_type": "execute_result",
          "data": {
            "text/plain": [
              "array([False, False, False, ..., False, False, False])"
            ]
          },
          "metadata": {
            "tags": []
          },
          "execution_count": 9
        }
      ]
    },
    {
      "cell_type": "code",
      "metadata": {
        "id": "w7jV-0Tm-t5S",
        "colab_type": "code",
        "outputId": "1de1e715-39cf-41ab-a3dc-297746c6000f",
        "colab": {
          "base_uri": "https://localhost:8080/",
          "height": 34
        }
      },
      "source": [
        "X_train.shape"
      ],
      "execution_count": 10,
      "outputs": [
        {
          "output_type": "execute_result",
          "data": {
            "text/plain": [
              "(60000, 784)"
            ]
          },
          "metadata": {
            "tags": []
          },
          "execution_count": 10
        }
      ]
    },
    {
      "cell_type": "code",
      "metadata": {
        "id": "fkFU1arU7q7v",
        "colab_type": "code",
        "outputId": "e4352d0c-5bb7-494f-be7f-e8a1a0b964d7",
        "colab": {
          "base_uri": "https://localhost:8080/",
          "height": 282
        }
      },
      "source": [
        "plt.imshow(X_train[np.argmax(y_train_5)].reshape(28,28))"
      ],
      "execution_count": 11,
      "outputs": [
        {
          "output_type": "execute_result",
          "data": {
            "text/plain": [
              "<matplotlib.image.AxesImage at 0x7fe26c72a128>"
            ]
          },
          "metadata": {
            "tags": []
          },
          "execution_count": 11
        },
        {
          "output_type": "display_data",
          "data": {
            "image/png": "[encoded data removed]",
            "text/plain": [
              "<Figure size 432x288 with 1 Axes>"
            ]
          },
          "metadata": {
            "tags": []
          }
        }
      ]
    },
    {
      "cell_type": "markdown",
      "metadata": {
        "id": "aIegjOXn827E",
        "colab_type": "text"
      },
      "source": [
        "## Stochastic Gradient Descent Classifier - This classifier has the capability of handling very large datasets efficiently.SGD deals with training instances independently - The number of classes has to be greater than one\n",
        "\n",
        "\n",
        "####SGDClassifier supports multi-class classification by combining multiple binary classifiers in a “one versus all” (OVA) scheme. For each of the classes, a binary classifier is learned that discriminates between that and all other classes."
      ]
    },
    {
      "cell_type": "code",
      "metadata": {
        "id": "Sl3W6zom9Uxm",
        "colab_type": "code",
        "outputId": "3c0004db-a831-4495-e01d-091c89131fa9",
        "colab": {
          "base_uri": "https://localhost:8080/",
          "height": 119
        }
      },
      "source": [
        "from sklearn.linear_model import SGDClassifier\n",
        "sgd_clf = SGDClassifier(random_state=2)\n",
        "sgd_clf.fit(X_train,y_train)"
      ],
      "execution_count": 12,
      "outputs": [
        {
          "output_type": "execute_result",
          "data": {
            "text/plain": [
              "SGDClassifier(alpha=0.0001, average=False, class_weight=None,\n",
              "              early_stopping=False, epsilon=0.1, eta0=0.0, fit_intercept=True,\n",
              "              l1_ratio=0.15, learning_rate='optimal', loss='hinge',\n",
              "              max_iter=1000, n_iter_no_change=5, n_jobs=None, penalty='l2',\n",
              "              power_t=0.5, random_state=2, shuffle=True, tol=0.001,\n",
              "              validation_fraction=0.1, verbose=0, warm_start=False)"
            ]
          },
          "metadata": {
            "tags": []
          },
          "execution_count": 12
        }
      ]
    },
    {
      "cell_type": "code",
      "metadata": {
        "id": "P6bslI5OAnhE",
        "colab_type": "code",
        "colab": {}
      },
      "source": [
        "predictions = sgd_clf.predict(X_test)"
      ],
      "execution_count": 0,
      "outputs": []
    },
    {
      "cell_type": "code",
      "metadata": {
        "id": "Vy24qMpFA17k",
        "colab_type": "code",
        "outputId": "5d3cb304-facd-4e5b-f27b-930e5c7e411b",
        "colab": {
          "base_uri": "https://localhost:8080/",
          "height": 51
        }
      },
      "source": [
        "print(y_test[10])\n",
        "print(predictions[10])"
      ],
      "execution_count": 14,
      "outputs": [
        {
          "output_type": "stream",
          "text": [
            "0\n",
            "0\n"
          ],
          "name": "stdout"
        }
      ]
    },
    {
      "cell_type": "code",
      "metadata": {
        "id": "v4kYzHc5BBgR",
        "colab_type": "code",
        "outputId": "cd92623c-1935-44ba-c9fe-b12a63fa7ab7",
        "colab": {
          "base_uri": "https://localhost:8080/",
          "height": 282
        }
      },
      "source": [
        "plt.imshow(X_test[10].reshape(28,28))"
      ],
      "execution_count": 15,
      "outputs": [
        {
          "output_type": "execute_result",
          "data": {
            "text/plain": [
              "<matplotlib.image.AxesImage at 0x7fe26c0a9f28>"
            ]
          },
          "metadata": {
            "tags": []
          },
          "execution_count": 15
        },
        {
          "output_type": "display_data",
          "data": {
            "image/png": "[encoded data removed]",
            "text/plain": [
              "<Figure size 432x288 with 1 Axes>"
            ]
          },
          "metadata": {
            "tags": []
          }
        }
      ]
    },
    {
      "cell_type": "markdown",
      "metadata": {
        "id": "h6OHt9b1EGed",
        "colab_type": "text"
      },
      "source": [
        "##Performance Measures"
      ]
    },
    {
      "cell_type": "code",
      "metadata": {
        "id": "l7caPudCEKqZ",
        "colab_type": "code",
        "outputId": "a7101efe-e6bf-4577-b19c-1677e7f3f9d3",
        "colab": {
          "base_uri": "https://localhost:8080/",
          "height": 34
        }
      },
      "source": [
        "from sklearn.metrics import accuracy_score\n",
        "print(accuracy_score(y_test,predictions))"
      ],
      "execution_count": 16,
      "outputs": [
        {
          "output_type": "stream",
          "text": [
            "0.7956\n"
          ],
          "name": "stdout"
        }
      ]
    },
    {
      "cell_type": "markdown",
      "metadata": {
        "id": "gdvtIv7EEYI1",
        "colab_type": "text"
      },
      "source": [
        "##Measuring Accuracy using Cross-Validation"
      ]
    },
    {
      "cell_type": "code",
      "metadata": {
        "id": "-zsBQkN-PwLv",
        "colab_type": "code",
        "outputId": "33f3e1f6-a36a-4730-f363-23a2e48c1b58",
        "colab": {
          "base_uri": "https://localhost:8080/",
          "height": 68
        }
      },
      "source": [
        "from sklearn.model_selection import StratifiedKFold\n",
        "from sklearn.base import clone\n",
        "\n",
        "skfolds = StratifiedKFold(n_splits=3,random_state=23,shuffle=True)\n",
        "for train_index,test_index in skfolds.split(X_train,y_train):\n",
        "  clone_clf = clone(sgd_clf)\n",
        "  x_train_folds = X_train[train_index]\n",
        "  x_test_folds = X_train[test_index]\n",
        "  y_train_folds = y_train[train_index]\n",
        "  y_test_folds = y_train[test_index]\n",
        "  clone_clf.fit(x_train_folds,y_train_folds)\n",
        "  y_pred = clone_clf.predict(x_test_folds)\n",
        "  n_correct = sum(y_pred == y_test_folds)\n",
        "  print(f'accuracy of predictions {n_correct/len(y_pred)}')"
      ],
      "execution_count": 17,
      "outputs": [
        {
          "output_type": "stream",
          "text": [
            "accuracy of predictions 0.85795\n",
            "accuracy of predictions 0.87895\n",
            "accuracy of predictions 0.8882\n"
          ],
          "name": "stdout"
        }
      ]
    },
    {
      "cell_type": "markdown",
      "metadata": {
        "id": "6q70PrKKVWHe",
        "colab_type": "text"
      },
      "source": [
        "- The StartifiedKFold class performs stratified sampling to produce folds that contain a representative ratio of each class.\n",
        "- At each iteration the code creates a clone of the classifier\n",
        "- trains the clone on training folds and makes predictions on test folds.\n",
        "- then it counts the number of correct predictions and outputs the ratio of correct predictions."
      ]
    },
    {
      "cell_type": "markdown",
      "metadata": {
        "id": "gneZ7jlgYuu_",
        "colab_type": "text"
      },
      "source": [
        "## Use cross_val_score() function to evaluate SGDClassifier model using K-fold cross validation with 3 folds"
      ]
    },
    {
      "cell_type": "code",
      "metadata": {
        "id": "Fu00uNh8YT1D",
        "colab_type": "code",
        "outputId": "dd288d21-d0da-497f-c139-11251ac0cbbc",
        "colab": {
          "base_uri": "https://localhost:8080/",
          "height": 34
        }
      },
      "source": [
        "from sklearn.model_selection import cross_val_score\n",
        "cross_val_score(sgd_clf,X_train,y_train,cv=3,scoring='accuracy')"
      ],
      "execution_count": 18,
      "outputs": [
        {
          "output_type": "execute_result",
          "data": {
            "text/plain": [
              "array([0.87355, 0.86865, 0.8742 ])"
            ]
          },
          "metadata": {
            "tags": []
          },
          "execution_count": 18
        }
      ]
    },
    {
      "cell_type": "markdown",
      "metadata": {
        "id": "STTRkO6VcgLq",
        "colab_type": "text"
      },
      "source": [
        "##DumbClassifier"
      ]
    },
    {
      "cell_type": "code",
      "metadata": {
        "id": "a2oMfhbgciwS",
        "colab_type": "code",
        "colab": {}
      },
      "source": [
        "from sklearn.base import BaseEstimator\n",
        "class dumbclassifier(BaseEstimator):\n",
        "  def fit(self,X,y=None):\n",
        "    pass\n",
        "  def predict(Self,X):\n",
        "    return np.zeros((len(X),1),dtype=bool)"
      ],
      "execution_count": 0,
      "outputs": []
    },
    {
      "cell_type": "code",
      "metadata": {
        "id": "0Pmcl39KgA0I",
        "colab_type": "code",
        "outputId": "70b9e6dc-88bd-4c1a-e07f-d50220e828a3",
        "colab": {
          "base_uri": "https://localhost:8080/",
          "height": 34
        }
      },
      "source": [
        "never_5_clf = dumbclassifier()\n",
        "cross_val_score(never_5_clf,X_train,y_train_5,cv=3,scoring='accuracy')"
      ],
      "execution_count": 20,
      "outputs": [
        {
          "output_type": "execute_result",
          "data": {
            "text/plain": [
              "array([1., 1., 1.])"
            ]
          },
          "metadata": {
            "tags": []
          },
          "execution_count": 20
        }
      ]
    },
    {
      "cell_type": "markdown",
      "metadata": {
        "id": "xk3Yfu-0gf8R",
        "colab_type": "text"
      },
      "source": [
        "#### The accuracy score is 1 i.e. 100% ,because only 10% of the images are 5, so the classifier will always guess that an image is not 5.\n",
        "\n",
        "Hence accuracy is generally not always the preferred performance measure for classifiers; especially when dealing with skewed datasets."
      ]
    },
    {
      "cell_type": "markdown",
      "metadata": {
        "id": "62CXLCXihPR9",
        "colab_type": "text"
      },
      "source": [
        "##Confusion Matrix\n",
        "\n",
        "A much better way to evaluate the performance of a classifier is to look at the confusion matrix.The general idea is to count the number of times instances of class A are classified as class B"
      ]
    },
    {
      "cell_type": "code",
      "metadata": {
        "id": "j6ii_kPyiumw",
        "colab_type": "code",
        "colab": {}
      },
      "source": [
        "from sklearn.model_selection import cross_val_predict\n",
        "y_train_pred = cross_val_predict(sgd_clf,X_train,y_train,cv=3)"
      ],
      "execution_count": 0,
      "outputs": []
    },
    {
      "cell_type": "markdown",
      "metadata": {
        "id": "cZY3Uc0LCbzb",
        "colab_type": "text"
      },
      "source": [
        "#### Note :\n",
        "Just like cross_val_score() function, the cross_val_predict() function performs K_fold cross validation but instead of returning evaluation scores,it returmns predictions on each test fold"
      ]
    },
    {
      "cell_type": "code",
      "metadata": {
        "id": "ZGCi4Ll1mieP",
        "colab_type": "code",
        "outputId": "34d5c17e-23fa-48a1-e033-4c717a51ff09",
        "colab": {
          "base_uri": "https://localhost:8080/",
          "height": 187
        }
      },
      "source": [
        "from sklearn.metrics import confusion_matrix\n",
        "print(confusion_matrix(y_train,y_train_pred))"
      ],
      "execution_count": 25,
      "outputs": [
        {
          "output_type": "stream",
          "text": [
            "[[5647    2   68   13   11   46   48    9   71    8]\n",
            " [   2 6438   56   31    6   15   10   16  159    9]\n",
            " [  56   65 5119  200   71   25   72   76  250   24]\n",
            " [  23   24  213 5273   13  169   26   59  274   57]\n",
            " [  24   35   52   18 5190   28   51   41  136  267]\n",
            " [ 100   27   67  362   63 4098  134   32  463   75]\n",
            " [  41   19  173   24   49   89 5415    3  102    3]\n",
            " [  23   27   83   44   48   17    5 5791   57  170]\n",
            " [  50  197  116  354   45  210   35   37 4733   74]\n",
            " [  34   36   34  129  234   62    2  556  238 4624]]\n"
          ],
          "name": "stdout"
        }
      ]
    },
    {
      "cell_type": "markdown",
      "metadata": {
        "id": "dniNwNjPLENj",
        "colab_type": "text"
      },
      "source": [
        "## Tryin a classification model to predict label as 5 or not 5"
      ]
    },
    {
      "cell_type": "code",
      "metadata": {
        "id": "cnMecFSiSC3R",
        "colab_type": "code",
        "colab": {}
      },
      "source": [
        "y = y.astype(int)"
      ],
      "execution_count": 0,
      "outputs": []
    },
    {
      "cell_type": "code",
      "metadata": {
        "id": "ESLunRvrSIM3",
        "colab_type": "code",
        "colab": {
          "base_uri": "https://localhost:8080/",
          "height": 34
        },
        "outputId": "4488848f-10d9-4111-ebd3-8112e7cb62b6"
      },
      "source": [
        "y"
      ],
      "execution_count": 60,
      "outputs": [
        {
          "output_type": "execute_result",
          "data": {
            "text/plain": [
              "array([5, 0, 4, ..., 4, 5, 6])"
            ]
          },
          "metadata": {
            "tags": []
          },
          "execution_count": 60
        }
      ]
    },
    {
      "cell_type": "code",
      "metadata": {
        "id": "twZMJLoQPDjv",
        "colab_type": "code",
        "colab": {}
      },
      "source": [
        "from sklearn.model_selection import StratifiedShuffleSplit\n",
        "split = StratifiedShuffleSplit(n_splits=1,test_size=0.2,random_state=2)\n",
        "for train_index,test_index in split.split(X,y):\n",
        "  X_train = X[train_index]\n",
        "  X_test = X[test_index]\n",
        "  y_train = y[train_index]\n",
        "  y_test = y[test_index]"
      ],
      "execution_count": 0,
      "outputs": []
    },
    {
      "cell_type": "code",
      "metadata": {
        "id": "TavBBIkGKbcp",
        "colab_type": "code",
        "colab": {}
      },
      "source": [
        "y_train_5 = (y_train == 5) #true for all 5s and false for rest of the digits\n",
        "y_test_5 = (y_test == 5 )"
      ],
      "execution_count": 0,
      "outputs": []
    },
    {
      "cell_type": "markdown",
      "metadata": {
        "id": "3AJIAbI_LjS5",
        "colab_type": "text"
      },
      "source": [
        "## Build a Classifier for the same "
      ]
    },
    {
      "cell_type": "code",
      "metadata": {
        "id": "WS9476a2LhqQ",
        "colab_type": "code",
        "colab": {}
      },
      "source": [
        "from sklearn.base import BaseEstimator\n",
        "class Never5Classifier(BaseEstimator):\n",
        "  def fit(self,x,y=None):\n",
        "    pass\n",
        "  def predict(self,x):\n",
        "    return np.zeros((len(x),1),dtype=bool)"
      ],
      "execution_count": 0,
      "outputs": []
    },
    {
      "cell_type": "code",
      "metadata": {
        "id": "yXXlqkb9MIW7",
        "colab_type": "code",
        "colab": {
          "base_uri": "https://localhost:8080/",
          "height": 34
        },
        "outputId": "03878941-85a6-4d28-beeb-52483b8a429a"
      },
      "source": [
        "never5_clf = Never5Classifier()\n",
        "cross_val_score(never5_clf,X_train,y_train_5,cv=5,scoring='accuracy')"
      ],
      "execution_count": 65,
      "outputs": [
        {
          "output_type": "execute_result",
          "data": {
            "text/plain": [
              "array([0.91125   , 0.90964286, 0.90803571, 0.90901786, 0.91116071])"
            ]
          },
          "metadata": {
            "tags": []
          },
          "execution_count": 65
        }
      ]
    },
    {
      "cell_type": "code",
      "metadata": {
        "id": "35_uKMhENGZu",
        "colab_type": "code",
        "colab": {
          "base_uri": "https://localhost:8080/",
          "height": 34
        },
        "outputId": "f182b5d4-a4cb-44c1-a034-3b63f7994d60"
      },
      "source": [
        "np.unique(y_train_5),np.unique(y_test_5)"
      ],
      "execution_count": 66,
      "outputs": [
        {
          "output_type": "execute_result",
          "data": {
            "text/plain": [
              "(array([False,  True]), array([False,  True]))"
            ]
          },
          "metadata": {
            "tags": []
          },
          "execution_count": 66
        }
      ]
    },
    {
      "cell_type": "code",
      "metadata": {
        "id": "3aR3vNVWMnSK",
        "colab_type": "code",
        "colab": {}
      },
      "source": [
        "y_train_5_predict = cross_val_predict(sgd_clf,X_train,y_train_5,cv=5)"
      ],
      "execution_count": 0,
      "outputs": []
    },
    {
      "cell_type": "markdown",
      "metadata": {
        "id": "EqlaGgCJSxcs",
        "colab_type": "text"
      },
      "source": [
        "##Confusion Matrix"
      ]
    },
    {
      "cell_type": "code",
      "metadata": {
        "id": "YD5tWCS6S-3I",
        "colab_type": "code",
        "colab": {
          "base_uri": "https://localhost:8080/",
          "height": 51
        },
        "outputId": "38b3b448-2635-46b2-e42b-f35f87675ecf"
      },
      "source": [
        "confusion_matrix(y_train_5,y_train_5_predict)"
      ],
      "execution_count": 69,
      "outputs": [
        {
          "output_type": "execute_result",
          "data": {
            "text/plain": [
              "array([[50453,   497],\n",
              "       [ 1770,  3280]])"
            ]
          },
          "metadata": {
            "tags": []
          },
          "execution_count": 69
        }
      ]
    },
    {
      "cell_type": "code",
      "metadata": {
        "id": "LWw0ztN0U2U2",
        "colab_type": "code",
        "colab": {
          "base_uri": "https://localhost:8080/",
          "height": 298
        },
        "outputId": "e433ff8f-04ac-46a2-fabb-994d69535c0d"
      },
      "source": [
        "import matplotlib.pyplot as plt\n",
        "import seaborn as sns\n",
        "%matplotlib inline\n",
        "cf  = confusion_matrix(y_train_5,y_train_5_predict)\n",
        "sns.heatmap(cf,annot=True,fmt='g',xticklabels=['5','Not 5'],yticklabels=['5','Not 5'])\n",
        "plt.xlabel('Predicted Values')\n",
        "plt.ylabel('Actual Values')"
      ],
      "execution_count": 78,
      "outputs": [
        {
          "output_type": "execute_result",
          "data": {
            "text/plain": [
              "Text(33.0, 0.5, 'Actual Values')"
            ]
          },
          "metadata": {
            "tags": []
          },
          "execution_count": 78
        },
        {
          "output_type": "display_data",
          "data": {
            "image/png": "[encoded data removed]",
            "text/plain": [
              "<Figure size 432x288 with 2 Axes>"
            ]
          },
          "metadata": {
            "tags": []
          }
        }
      ]
    },
    {
      "cell_type": "markdown",
      "metadata": {
        "id": "Yhns6HoFTymb",
        "colab_type": "text"
      },
      "source": [
        "#### A perfect classifier will have only True positives and true negatives. So the confusion matrix would have non zero values only in its main  diagonal"
      ]
    },
    {
      "cell_type": "code",
      "metadata": {
        "id": "_6mNlnHUajw8",
        "colab_type": "code",
        "colab": {
          "base_uri": "https://localhost:8080/",
          "height": 296
        },
        "outputId": "a80b6f4c-bceb-40ae-ca7e-9212d85f2b3c"
      },
      "source": [
        "y_train_perfect_predictions = y_train_5\n",
        "cf  = confusion_matrix(y_train_5,y_train_perfect_predictions)\n",
        "sns.heatmap(cf,annot=True,fmt='g',xticklabels=['5','Not 5'],yticklabels=['5','Not 5'])\n",
        "plt.xlabel('Predicted Values')\n",
        "plt.ylabel('Actual Values')"
      ],
      "execution_count": 79,
      "outputs": [
        {
          "output_type": "execute_result",
          "data": {
            "text/plain": [
              "Text(33.0, 0.5, 'Actual Values')"
            ]
          },
          "metadata": {
            "tags": []
          },
          "execution_count": 79
        },
        {
          "output_type": "display_data",
          "data": {
            "image/png": "[encoded data removed]",
            "text/plain": [
              "<Figure size 432x288 with 2 Axes>"
            ]
          },
          "metadata": {
            "tags": []
          }
        }
      ]
    },
    {
      "cell_type": "markdown",
      "metadata": {
        "id": "DOZW_RACa3se",
        "colab_type": "text"
      },
      "source": [
        "## Confusion Matix gives the following details\n",
        "* positive predictions \n",
        "         precision = (True Positive) / (True Positive + False Positive)\n",
        "\n",
        "* Ratio of positive instances that are correctly detected by the classifier\n",
        "        recall / True Positive Rate/ sensitivity = \n",
        "                          (True Positive) / (True Positive + False Negative)\n",
        "\n",
        "* F1 Score\n",
        "         F1 score is the harmonic mean of precision and recall.\n",
        "         Regular Mean treats all values equally where as the harmonic mean\n",
        "         gives more weightage to low values.As a result classifier will get a \n",
        "         F1 Score when both precision and recall are high.\n",
        "\n",
        "         F1 Score = 2 / ( 1/ precision + 1/recall)\n"
      ]
    },
    {
      "cell_type": "code",
      "metadata": {
        "id": "PVZQ_uCTgIWg",
        "colab_type": "code",
        "colab": {
          "base_uri": "https://localhost:8080/",
          "height": 68
        },
        "outputId": "1a0caaf2-a4af-4514-80f8-17b8f2a8737d"
      },
      "source": [
        "from sklearn.metrics import precision_score,recall_score,f1_score\n",
        "print(f' Precision :{precision_score(y_train_5,y_train_5_predict)}')\n",
        "print(f' Recall :{recall_score(y_train_5,y_train_5_predict)}')\n",
        "print(f' F1 Score :{f1_score(y_train_5,y_train_5_predict)}')"
      ],
      "execution_count": 81,
      "outputs": [
        {
          "output_type": "stream",
          "text": [
            " Precision :0.8684140852528461\n",
            " Recall :0.6495049504950495\n",
            " F1 Score :0.7431743514217741\n"
          ],
          "name": "stdout"
        }
      ]
    },
    {
      "cell_type": "markdown",
      "metadata": {
        "id": "DQWD1h3pjlfK",
        "colab_type": "text"
      },
      "source": [
        "## Precision / Recall Trade off\n",
        "\n",
        "The F1 Score favovrs classifiers that have similar precision and Recall.\n",
        "But this is not really possible always. In some context we want a high recall while we care about a good precision.\n",
        "\n",
        "Example:\n",
        "* 1 \n",
        "\n",
        "If we want to build a classifier to detect safe vieos for kids, in that case we will look for a high precision(keep only safe videos) and ignore recall (that is reject many good videos)\n",
        "\n",
        "* 2\n",
        "\n",
        "In a scenario where we want to build a classifier to detect shoplifters in survelliance images, in that scenario we are more concerned about recall (all possible cases, a few false alarms) than precision.\n",
        "\n",
        "Increasing precision reduces recall and vice versa . This is called precision/recall trade off.\n",
        "\n"
      ]
    },
    {
      "cell_type": "markdown",
      "metadata": {
        "id": "DIQQuhYJrR9h",
        "colab_type": "text"
      },
      "source": [
        "##SGD Classifier\n",
        "\n",
        "This classifier makes its classification decision for each instance by computing a score bassed on decision function.\n",
        "\n",
        "If the  score is greater than a threshold it assigns the instance to a positive class otherwise it assigns the instance to a negative class.\n",
        "\n",
        "The higher the threshold the lower the recall and higher the precision.\n",
        "\n",
        "Scikit Learn does not let to set a threshold but allows access to decision scores that is used to make predictions"
      ]
    },
    {
      "cell_type": "code",
      "metadata": {
        "id": "dQKnaQw2tEom",
        "colab_type": "code",
        "colab": {
          "base_uri": "https://localhost:8080/",
          "height": 34
        },
        "outputId": "d426df27-cbaf-496c-bcbe-31d8ce03a14d"
      },
      "source": [
        "X.shape"
      ],
      "execution_count": 84,
      "outputs": [
        {
          "output_type": "execute_result",
          "data": {
            "text/plain": [
              "(70000, 784)"
            ]
          },
          "metadata": {
            "tags": []
          },
          "execution_count": 84
        }
      ]
    },
    {
      "cell_type": "code",
      "metadata": {
        "id": "SgrpMVj2tIUM",
        "colab_type": "code",
        "colab": {
          "base_uri": "https://localhost:8080/",
          "height": 282
        },
        "outputId": "2a62822d-01f9-4403-e9e8-46155d670060"
      },
      "source": [
        "plt.imshow(X[0].reshape(28,28))"
      ],
      "execution_count": 86,
      "outputs": [
        {
          "output_type": "execute_result",
          "data": {
            "text/plain": [
              "<matplotlib.image.AxesImage at 0x7fe264d38518>"
            ]
          },
          "metadata": {
            "tags": []
          },
          "execution_count": 86
        },
        {
          "output_type": "display_data",
          "data": {
            "image/png": "[encoded data removed]",
            "text/plain": [
              "<Figure size 432x288 with 1 Axes>"
            ]
          },
          "metadata": {
            "tags": []
          }
        }
      ]
    },
    {
      "cell_type": "code",
      "metadata": {
        "id": "nz5-0oQNsvVj",
        "colab_type": "code",
        "colab": {}
      },
      "source": [
        "y_scores = sgd_clf.decision_function([X[0]])"
      ],
      "execution_count": 0,
      "outputs": []
    },
    {
      "cell_type": "code",
      "metadata": {
        "id": "IqNFHSzOs3bk",
        "colab_type": "code",
        "colab": {
          "base_uri": "https://localhost:8080/",
          "height": 85
        },
        "outputId": "c1542ce5-ba0c-4c2e-e36a-74455499ec64"
      },
      "source": [
        "y_scores"
      ],
      "execution_count": 83,
      "outputs": [
        {
          "output_type": "execute_result",
          "data": {
            "text/plain": [
              "array([[-22376.559667  , -26989.54155815, -11851.1746418 ,\n",
              "          1667.92496176, -19957.88593125,   5552.66268216,\n",
              "        -20262.80835543,  -7659.54552565, -20069.90185718,\n",
              "        -12726.61021683]])"
            ]
          },
          "metadata": {
            "tags": []
          },
          "execution_count": 83
        }
      ]
    },
    {
      "cell_type": "code",
      "metadata": {
        "id": "PWHJb0zGtdgJ",
        "colab_type": "code",
        "colab": {
          "base_uri": "https://localhost:8080/",
          "height": 51
        },
        "outputId": "26607903-2682-42be-f311-30d6658b3faf"
      },
      "source": [
        "threshold  = 0\n",
        "y_scores > threshold"
      ],
      "execution_count": 87,
      "outputs": [
        {
          "output_type": "execute_result",
          "data": {
            "text/plain": [
              "array([[False, False, False,  True, False,  True, False, False, False,\n",
              "        False]])"
            ]
          },
          "metadata": {
            "tags": []
          },
          "execution_count": 87
        }
      ]
    },
    {
      "cell_type": "code",
      "metadata": {
        "id": "jFE0KGrqtzSh",
        "colab_type": "code",
        "colab": {
          "base_uri": "https://localhost:8080/",
          "height": 68
        },
        "outputId": "668f088d-7d03-4528-d0b1-0260db0fa8a9"
      },
      "source": [
        "X[0].reshape(28,28)[5]"
      ],
      "execution_count": 94,
      "outputs": [
        {
          "output_type": "execute_result",
          "data": {
            "text/plain": [
              "array([  0.,   0.,   0.,   0.,   0.,   0.,   0.,   0.,   0.,   0.,   0.,\n",
              "         0.,   3.,  18.,  18.,  18., 126., 136., 175.,  26., 166., 255.,\n",
              "       247., 127.,   0.,   0.,   0.,   0.])"
            ]
          },
          "metadata": {
            "tags": []
          },
          "execution_count": 94
        }
      ]
    },
    {
      "cell_type": "markdown",
      "metadata": {
        "id": "m1QJwVhmucVH",
        "colab_type": "text"
      },
      "source": [
        "## How to decide which Threshold function to use"
      ]
    },
    {
      "cell_type": "code",
      "metadata": {
        "id": "ys54SNYoug4A",
        "colab_type": "code",
        "colab": {}
      },
      "source": [
        "#cross val predict to get decision scores of all instances in the training set\n",
        "\n",
        "y_scores = cross_val_predict(sgd_clf,X_train,y_train_5,cv=5,method='decision_function')"
      ],
      "execution_count": 0,
      "outputs": []
    },
    {
      "cell_type": "markdown",
      "metadata": {
        "id": "2pyoBhWNvm-l",
        "colab_type": "text"
      },
      "source": [
        "## Build the Visualization pertaing to Precision and Recall Versus the decision Threshold"
      ]
    },
    {
      "cell_type": "code",
      "metadata": {
        "id": "xS8jfRb6vxJ1",
        "colab_type": "code",
        "colab": {}
      },
      "source": [
        "from sklearn.metrics import precision_recall_curve\n",
        "precision,recall,threshold = precision_recall_curve(y_train_5,y_scores)"
      ],
      "execution_count": 0,
      "outputs": []
    },
    {
      "cell_type": "markdown",
      "metadata": {
        "id": "uGmKnEn0wGKp",
        "colab_type": "text"
      },
      "source": [
        "#### Define a function to plot the precion_recall vs Threshold"
      ]
    },
    {
      "cell_type": "code",
      "metadata": {
        "id": "TrjrwKshw4o6",
        "colab_type": "code",
        "colab": {}
      },
      "source": [
        "def plot_precision_recall_vs_threshold(precision,recall,threshold):\n",
        "  sns.set_style('whitegrid')\n",
        "  plt.plot(threshold,precision[:-1],'b--',label='Precision')\n",
        "  plt.plot(threshold,recall[:-1],'g',label='Recall')\n",
        "  #highlight the threshold add the legend,axis label and grid\n",
        "  #plt.plot(threshold,'--')\n",
        "  plt.legend()\n",
        "  plt.xlabel('Threshold')\n",
        "  plt.show()"
      ],
      "execution_count": 0,
      "outputs": []
    },
    {
      "cell_type": "code",
      "metadata": {
        "id": "EQ6MxBU6yBlw",
        "colab_type": "code",
        "colab": {
          "base_uri": "https://localhost:8080/",
          "height": 279
        },
        "outputId": "72f6ba65-cb35-44db-9dbd-0634d79dd29c"
      },
      "source": [
        "plot_precision_recall_vs_threshold(precision,recall,threshold)"
      ],
      "execution_count": 118,
      "outputs": [
        {
          "output_type": "display_data",
          "data": {
            "image/png": "[encoded data removed]",
            "text/plain": [
              "<Figure size 432x288 with 1 Axes>"
            ]
          },
          "metadata": {
            "tags": []
          }
        }
      ]
    },
    {
      "cell_type": "code",
      "metadata": {
        "id": "-tMRWkCj0EqQ",
        "colab_type": "code",
        "colab": {
          "base_uri": "https://localhost:8080/",
          "height": 296
        },
        "outputId": "a31b1e92-d65c-4d1a-853a-047a0062178a"
      },
      "source": [
        "sns.set_style('whitegrid')\n",
        "plt.plot(recall,precision)\n",
        "plt.xlabel('Recall')\n",
        "plt.ylabel('Precision')"
      ],
      "execution_count": 129,
      "outputs": [
        {
          "output_type": "execute_result",
          "data": {
            "text/plain": [
              "Text(0, 0.5, 'Precision')"
            ]
          },
          "metadata": {
            "tags": []
          },
          "execution_count": 129
        },
        {
          "output_type": "display_data",
          "data": {
            "image/png": "[encoded data removed]",
            "text/plain": [
              "<Figure size 432x288 with 1 Axes>"
            ]
          },
          "metadata": {
            "tags": []
          }
        }
      ]
    },
    {
      "cell_type": "markdown",
      "metadata": {
        "id": "YYlWgsPo0krY",
        "colab_type": "text"
      },
      "source": [
        "#### Note :\n",
        "The precison really start to fall sharply when the recall is around 80%"
      ]
    },
    {
      "cell_type": "markdown",
      "metadata": {
        "id": "fSafD29R__bm",
        "colab_type": "text"
      },
      "source": [
        "Suppose we aim for a 90% precision"
      ]
    },
    {
      "cell_type": "code",
      "metadata": {
        "id": "HLH2nIrGAFlh",
        "colab_type": "code",
        "colab": {}
      },
      "source": [
        "threshold_90_precision = threshold[np.argmax(precision >=0.90)]"
      ],
      "execution_count": 0,
      "outputs": []
    },
    {
      "cell_type": "code",
      "metadata": {
        "id": "KdDFOsXjA-nb",
        "colab_type": "code",
        "colab": {
          "base_uri": "https://localhost:8080/",
          "height": 34
        },
        "outputId": "ec504dde-cc61-4b82-ffb4-009255700d3a"
      },
      "source": [
        "threshold_90_precision"
      ],
      "execution_count": 136,
      "outputs": [
        {
          "output_type": "execute_result",
          "data": {
            "text/plain": [
              "917.1084436437183"
            ]
          },
          "metadata": {
            "tags": []
          },
          "execution_count": 136
        }
      ]
    },
    {
      "cell_type": "markdown",
      "metadata": {
        "id": "oer23Pz3BDR3",
        "colab_type": "text"
      },
      "source": [
        "#### Making predictions on the training or test data instaed of calling the predict method we can now use the threshold value computed for 90 precent precision."
      ]
    },
    {
      "cell_type": "code",
      "metadata": {
        "id": "dYXkcJbXBU0o",
        "colab_type": "code",
        "colab": {}
      },
      "source": [
        "y_train_pred_90 = (y_scores >= threshold_90_precision)"
      ],
      "execution_count": 0,
      "outputs": []
    },
    {
      "cell_type": "code",
      "metadata": {
        "id": "-vcVcD-4BgTo",
        "colab_type": "code",
        "colab": {
          "base_uri": "https://localhost:8080/",
          "height": 34
        },
        "outputId": "4af5446a-38be-4883-c876-2fbf69b9c8c0"
      },
      "source": [
        "y_train_pred_90"
      ],
      "execution_count": 133,
      "outputs": [
        {
          "output_type": "execute_result",
          "data": {
            "text/plain": [
              "array([False, False, False, ..., False, False, False])"
            ]
          },
          "metadata": {
            "tags": []
          },
          "execution_count": 133
        }
      ]
    },
    {
      "cell_type": "code",
      "metadata": {
        "id": "yuuX5nYQC1Dj",
        "colab_type": "code",
        "colab": {
          "base_uri": "https://localhost:8080/",
          "height": 68
        },
        "outputId": "c0ce957c-0d75-45cd-ba81-9371355e5a04"
      },
      "source": [
        "print(f' Precision :{precision_score(y_train_5,y_train_pred_90)}')\n",
        "print(f' Recall :{recall_score(y_train_5,y_train_pred_90)}')\n",
        "print(f' F1 Score :{f1_score(y_train_5,y_train_pred_90)}')"
      ],
      "execution_count": 134,
      "outputs": [
        {
          "output_type": "stream",
          "text": [
            " Precision :0.9000605693519079\n",
            " Recall :0.5885148514851485\n",
            " F1 Score :0.7116858237547893\n"
          ],
          "name": "stdout"
        }
      ]
    },
    {
      "cell_type": "markdown",
      "metadata": {
        "id": "PfUM_NBZDB7K",
        "colab_type": "text"
      },
      "source": [
        "#### This gives us a 90% precision classifier"
      ]
    },
    {
      "cell_type": "markdown",
      "metadata": {
        "id": "5sM83cb3KKI4",
        "colab_type": "text"
      },
      "source": [
        "## ROC Reciever Operating Characteristic curve\n",
        "\n",
        "* It is used as a measure of accuracy for binary classifiers.\n",
        "* Similar to precision/recall curve  but instead of plotting precision versus recall, the ROC curve plots true positive rate against False Positive Rate.\n",
        "\n",
        "FPR is the ration of negative instances that are incorrectly classified as negative.\n",
        "\n",
        "True Negative Rate is also called Specificity\n",
        "\n",
        "so ROC curve  = (1 - specificity) / Recall\n",
        "              = FPR /TPR\n",
        "              "
      ]
    },
    {
      "cell_type": "code",
      "metadata": {
        "id": "g3T9pob-NzGl",
        "colab_type": "code",
        "colab": {}
      },
      "source": [
        "from sklearn.metrics import roc_curve\n",
        "fpr,tpr,threshold = roc_curve(y_train_5,y_scores)"
      ],
      "execution_count": 0,
      "outputs": []
    },
    {
      "cell_type": "code",
      "metadata": {
        "id": "JR4Z--bBDKVV",
        "colab_type": "code",
        "colab": {}
      },
      "source": [
        "def plot_roc_curve(fpr,tpr,threshold,label=None):\n",
        "  plt.plot(fpr,tpr,linewidth=2,label=label)\n",
        "  plt.plot([0,1],[0,1],'k--')#dashed diagonal\n",
        "  plt.xlabel('False Positive Rate')\n",
        "  plt.ylabel('True Positive Rate')\n",
        "  plt.title('ROC Curve')\n",
        "  plt.legend()\n",
        "  plt.show()"
      ],
      "execution_count": 0,
      "outputs": []
    },
    {
      "cell_type": "code",
      "metadata": {
        "id": "Nx2St2ixQDCC",
        "colab_type": "code",
        "colab": {
          "base_uri": "https://localhost:8080/",
          "height": 312
        },
        "outputId": "fbe1e76c-268f-4e2d-9245-fd1cc393a6b3"
      },
      "source": [
        "plot_roc_curve(fpr,tpr,threshold)"
      ],
      "execution_count": 150,
      "outputs": [
        {
          "output_type": "stream",
          "text": [
            "No handles with labels found to put in legend.\n"
          ],
          "name": "stderr"
        },
        {
          "output_type": "display_data",
          "data": {
            "image/png": "[encoded data removed]",
            "text/plain": [
              "<Figure size 432x288 with 1 Axes>"
            ]
          },
          "metadata": {
            "tags": []
          }
        }
      ]
    },
    {
      "cell_type": "code",
      "metadata": {
        "id": "a9ANd9KrQdQW",
        "colab_type": "code",
        "colab": {
          "base_uri": "https://localhost:8080/",
          "height": 34
        },
        "outputId": "fe39d3f5-3ea7-40d9-fc72-c20f0dfbf806"
      },
      "source": [
        "from sklearn.metrics import roc_auc_score\n",
        "print(f'AUC : {roc_auc_score(y_train_5,y_scores)}')"
      ],
      "execution_count": 142,
      "outputs": [
        {
          "output_type": "stream",
          "text": [
            "AUC : 0.9607095405124416\n"
          ],
          "name": "stdout"
        }
      ]
    },
    {
      "cell_type": "markdown",
      "metadata": {
        "id": "g_NF9IXjRLyn",
        "colab_type": "text"
      },
      "source": [
        "#### Note\n",
        "\n",
        "As a rule of thumb Precion Recall curve should be preferred whenver the positive class is rare or whenver we are more concerned about false positives than false negatives."
      ]
    },
    {
      "cell_type": "markdown",
      "metadata": {
        "id": "A09YRKGRSrK6",
        "colab_type": "text"
      },
      "source": [
        "## Comapare ROC AUC curve for RandomForestClassifier and SGDClassifier"
      ]
    },
    {
      "cell_type": "code",
      "metadata": {
        "id": "TaMButlGS4sn",
        "colab_type": "code",
        "colab": {}
      },
      "source": [
        "from sklearn.ensemble import RandomForestClassifier\n",
        "forest_clf = RandomForestClassifier()\n",
        "y_proba_forest = cross_val_predict(forest_clf,X_train,y_train_5,cv=5,method='predict_proba')\n",
        "y_scores = y_proba_forest[:,1]"
      ],
      "execution_count": 0,
      "outputs": []
    },
    {
      "cell_type": "code",
      "metadata": {
        "id": "UuzhFdMGS83L",
        "colab_type": "code",
        "colab": {}
      },
      "source": [
        "fpr_forest,tpr_forest,threshold_forest = roc_curve(y_train_5,y_scores)"
      ],
      "execution_count": 0,
      "outputs": []
    },
    {
      "cell_type": "code",
      "metadata": {
        "id": "0GYSGfEmWNcI",
        "colab_type": "code",
        "colab": {
          "base_uri": "https://localhost:8080/",
          "height": 295
        },
        "outputId": "8f4e5359-0979-4430-e41d-c4bf5e975b7d"
      },
      "source": [
        "plt.plot(fpr,tpr,'b:',label='SGD')\n",
        "plot_roc_curve(fpr_forest,tpr_forest,threshold_forest,label='Random Forest')\n",
        "plt.show()\n"
      ],
      "execution_count": 151,
      "outputs": [
        {
          "output_type": "display_data",
          "data": {
            "image/png": "[encoded data removed]",
            "text/plain": [
              "<Figure size 432x288 with 1 Axes>"
            ]
          },
          "metadata": {
            "tags": []
          }
        }
      ]
    },
    {
      "cell_type": "markdown",
      "metadata": {
        "id": "uS2D_5SbX_w_",
        "colab_type": "text"
      },
      "source": [
        "#### The random fores classifier is superior to SGD classifier as its ROC curve is much closer to the left top corner and it has a greater AUC"
      ]
    },
    {
      "cell_type": "code",
      "metadata": {
        "id": "BuiWl7TpYVQG",
        "colab_type": "code",
        "colab": {
          "base_uri": "https://localhost:8080/",
          "height": 34
        },
        "outputId": "256d474a-3287-414c-87d5-c20141654312"
      },
      "source": [
        "print(f'AUC Random Forest Classifier: {roc_auc_score(y_train_5,y_scores)}')"
      ],
      "execution_count": 152,
      "outputs": [
        {
          "output_type": "stream",
          "text": [
            "AUC Random Forest Classifier: 0.9986067081879926\n"
          ],
          "name": "stdout"
        }
      ]
    },
    {
      "cell_type": "markdown",
      "metadata": {
        "id": "91ncKYwqYvEt",
        "colab_type": "text"
      },
      "source": [
        "## Multiclass Classification"
      ]
    },
    {
      "cell_type": "code",
      "metadata": {
        "id": "848EofYEYx3z",
        "colab_type": "code",
        "colab": {}
      },
      "source": [
        ""
      ],
      "execution_count": 0,
      "outputs": []
    }
  ]
}