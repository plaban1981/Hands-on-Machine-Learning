{
  "nbformat": 4,
  "nbformat_minor": 0,
  "metadata": {
    "colab": {
      "name": "Classification_Technique.ipynb",
      "provenance": [],
      "authorship_tag": "ABX9TyORIu6YLEkE82Yr48Y2yOHl",
      "include_colab_link": true
    },
    "kernelspec": {
      "name": "python3",
      "display_name": "Python 3"
    },
    "accelerator": "GPU"
  },
  "cells": [
    {
      "cell_type": "markdown",
      "metadata": {
        "id": "view-in-github",
        "colab_type": "text"
      },
      "source": [
        "<a href=\"https://colab.research.google.com/github/plaban1981/Hands-on-Machine-Learning/blob/master/Classification_Technique.ipynb\" target=\"_parent\"><img src=\"https://colab.research.google.com/assets/colab-badge.svg\" alt=\"Open In Colab\"/></a>"
      ]
    },
    {
      "cell_type": "markdown",
      "metadata": {
        "id": "dJutsbXZ4v24",
        "colab_type": "text"
      },
      "source": [
        "## Download Mnist Dataset"
      ]
    },
    {
      "cell_type": "code",
      "metadata": {
        "id": "9dc5EQfa1UL9",
        "colab_type": "code",
        "outputId": "469bbec3-765a-46c2-d73d-a2cca6a9fa4d",
        "colab": {
          "base_uri": "https://localhost:8080/",
          "height": 34
        }
      },
      "source": [
        "from sklearn.datasets import fetch_openml\n",
        "mnist = fetch_openml('mnist_784',version=1)\n",
        "mnist.keys()"
      ],
      "execution_count": 2,
      "outputs": [
        {
          "output_type": "execute_result",
          "data": {
            "text/plain": [
              "dict_keys(['data', 'target', 'frame', 'feature_names', 'target_names', 'DESCR', 'details', 'categories', 'url'])"
            ]
          },
          "metadata": {
            "tags": []
          },
          "execution_count": 2
        }
      ]
    },
    {
      "cell_type": "code",
      "metadata": {
        "id": "ij9G9tIH40IE",
        "colab_type": "code",
        "colab": {}
      },
      "source": [
        "import sklearn\n",
        "m = sklearn.datasets.load_digits()"
      ],
      "execution_count": 0,
      "outputs": []
    },
    {
      "cell_type": "code",
      "metadata": {
        "id": "fZSFirnd5UUG",
        "colab_type": "code",
        "outputId": "473f7a18-2413-4f76-9b62-5a85cc25deac",
        "colab": {
          "base_uri": "https://localhost:8080/",
          "height": 34
        }
      },
      "source": [
        "m.keys()"
      ],
      "execution_count": 4,
      "outputs": [
        {
          "output_type": "execute_result",
          "data": {
            "text/plain": [
              "dict_keys(['data', 'target', 'target_names', 'images', 'DESCR'])"
            ]
          },
          "metadata": {
            "tags": []
          },
          "execution_count": 4
        }
      ]
    },
    {
      "cell_type": "markdown",
      "metadata": {
        "id": "lnXQM_ZR5YuH",
        "colab_type": "text"
      },
      "source": [
        "## Separate Features and Labels"
      ]
    },
    {
      "cell_type": "code",
      "metadata": {
        "id": "8Dr8dJaH5brw",
        "colab_type": "code",
        "outputId": "46160c24-15cf-46eb-b902-de66210ab2ac",
        "colab": {
          "base_uri": "https://localhost:8080/",
          "height": 51
        }
      },
      "source": [
        "X,y = mnist['data'],mnist['target']\n",
        "print(X.shape)\n",
        "print(y.shape)"
      ],
      "execution_count": 5,
      "outputs": [
        {
          "output_type": "stream",
          "text": [
            "(70000, 784)\n",
            "(70000,)\n"
          ],
          "name": "stdout"
        }
      ]
    },
    {
      "cell_type": "markdown",
      "metadata": {
        "id": "gGsvSXtr5tYm",
        "colab_type": "text"
      },
      "source": [
        "784 features ,each image 28 x 28 pixels"
      ]
    },
    {
      "cell_type": "code",
      "metadata": {
        "id": "C3lt30Bi5yi-",
        "colab_type": "code",
        "outputId": "ec70a46b-fce1-4bd6-9fec-c793774bd342",
        "colab": {
          "base_uri": "https://localhost:8080/",
          "height": 248
        }
      },
      "source": [
        "import matplotlib.pyplot as plt\n",
        "import matplotlib as mpl\n",
        "\n",
        "some_digit = X[27]\n",
        "some_digit_image = some_digit.reshape(28,28)\n",
        "\n",
        "plt.imshow(some_digit_image)\n",
        "plt.axis('off')\n",
        "plt.show()\n"
      ],
      "execution_count": 6,
      "outputs": [
        {
          "output_type": "display_data",
          "data": {
            "image/png": "[encoded data removed]",
            "text/plain": [
              "<Figure size 432x288 with 1 Axes>"
            ]
          },
          "metadata": {
            "tags": []
          }
        }
      ]
    },
    {
      "cell_type": "markdown",
      "metadata": {
        "id": "U8axX5qF6jPo",
        "colab_type": "text"
      },
      "source": [
        "## Train Split the sample data\n",
        "MNIST is already split into 60000 training samples and 10000 test samples\n",
        "\n",
        "Training set is already shuffled"
      ]
    },
    {
      "cell_type": "code",
      "metadata": {
        "id": "e67ri64Z6tny",
        "colab_type": "code",
        "outputId": "c40cac4c-a3e1-44aa-c0a1-296170cdae3c",
        "colab": {
          "base_uri": "https://localhost:8080/",
          "height": 51
        }
      },
      "source": [
        "X_train,X_test,y_train,y_test = X[:60000],X[60000:],y[:60000],y[60000:]\n",
        "print(X_train.shape)\n",
        "print(X_test.shape)"
      ],
      "execution_count": 7,
      "outputs": [
        {
          "output_type": "stream",
          "text": [
            "(60000, 784)\n",
            "(10000, 784)\n"
          ],
          "name": "stdout"
        }
      ]
    },
    {
      "cell_type": "code",
      "metadata": {
        "id": "WL_MsPcj79_T",
        "colab_type": "code",
        "colab": {}
      },
      "source": [
        ""
      ],
      "execution_count": 0,
      "outputs": []
    },
    {
      "cell_type": "markdown",
      "metadata": {
        "id": "Y6FDg9d67Rk3",
        "colab_type": "text"
      },
      "source": [
        "## Training a Binary Classifier"
      ]
    },
    {
      "cell_type": "code",
      "metadata": {
        "id": "PlJwR2S48GIp",
        "colab_type": "code",
        "colab": {}
      },
      "source": [
        "import numpy as np"
      ],
      "execution_count": 0,
      "outputs": []
    },
    {
      "cell_type": "code",
      "metadata": {
        "id": "4vT57r6Y7Ul4",
        "colab_type": "code",
        "colab": {}
      },
      "source": [
        "y_train_5 = (y_train == 5)\n",
        "y_test_5 = (y_test == 5)"
      ],
      "execution_count": 0,
      "outputs": []
    },
    {
      "cell_type": "code",
      "metadata": {
        "id": "XUwglMhT-mct",
        "colab_type": "code",
        "outputId": "9ca2046a-abeb-4377-e119-cdc2a08ae685",
        "colab": {
          "base_uri": "https://localhost:8080/",
          "height": 34
        }
      },
      "source": [
        "y_train_5"
      ],
      "execution_count": 10,
      "outputs": [
        {
          "output_type": "execute_result",
          "data": {
            "text/plain": [
              "array([False, False, False, ..., False, False, False])"
            ]
          },
          "metadata": {
            "tags": []
          },
          "execution_count": 10
        }
      ]
    },
    {
      "cell_type": "code",
      "metadata": {
        "id": "w7jV-0Tm-t5S",
        "colab_type": "code",
        "outputId": "8983af1e-0041-4868-cf8e-a900b63d1d47",
        "colab": {
          "base_uri": "https://localhost:8080/",
          "height": 34
        }
      },
      "source": [
        "X_train.shape"
      ],
      "execution_count": 11,
      "outputs": [
        {
          "output_type": "execute_result",
          "data": {
            "text/plain": [
              "(60000, 784)"
            ]
          },
          "metadata": {
            "tags": []
          },
          "execution_count": 11
        }
      ]
    },
    {
      "cell_type": "code",
      "metadata": {
        "id": "fkFU1arU7q7v",
        "colab_type": "code",
        "outputId": "4fcb117a-b896-45ae-dd11-54a317c00061",
        "colab": {
          "base_uri": "https://localhost:8080/",
          "height": 282
        }
      },
      "source": [
        "plt.imshow(X_train[np.argmax(y_train_5)].reshape(28,28))"
      ],
      "execution_count": 12,
      "outputs": [
        {
          "output_type": "execute_result",
          "data": {
            "text/plain": [
              "<matplotlib.image.AxesImage at 0x7f5eddc5f940>"
            ]
          },
          "metadata": {
            "tags": []
          },
          "execution_count": 12
        },
        {
          "output_type": "display_data",
          "data": {
            "image/png": "[encoded data removed]",
            "text/plain": [
              "<Figure size 432x288 with 1 Axes>"
            ]
          },
          "metadata": {
            "tags": []
          }
        }
      ]
    },
    {
      "cell_type": "markdown",
      "metadata": {
        "id": "aIegjOXn827E",
        "colab_type": "text"
      },
      "source": [
        "## Stochastic Gradient Descent Classifier - This classifier has the capability of handling very large datasets efficiently.SGD deals with training instances independently - The number of classes has to be greater than one\n",
        "\n",
        "\n",
        "####SGDClassifier supports multi-class classification by combining multiple binary classifiers in a “one versus all” (OVA) scheme. For each of the classes, a binary classifier is learned that discriminates between that and all other classes."
      ]
    },
    {
      "cell_type": "code",
      "metadata": {
        "id": "Sl3W6zom9Uxm",
        "colab_type": "code",
        "outputId": "60e47769-0b2e-4f3a-9893-bb8536ce806d",
        "colab": {
          "base_uri": "https://localhost:8080/",
          "height": 119
        }
      },
      "source": [
        "from sklearn.linear_model import SGDClassifier\n",
        "sgd_clf = SGDClassifier(random_state=2)\n",
        "sgd_clf.fit(X_train,y_train)"
      ],
      "execution_count": 13,
      "outputs": [
        {
          "output_type": "execute_result",
          "data": {
            "text/plain": [
              "SGDClassifier(alpha=0.0001, average=False, class_weight=None,\n",
              "              early_stopping=False, epsilon=0.1, eta0=0.0, fit_intercept=True,\n",
              "              l1_ratio=0.15, learning_rate='optimal', loss='hinge',\n",
              "              max_iter=1000, n_iter_no_change=5, n_jobs=None, penalty='l2',\n",
              "              power_t=0.5, random_state=2, shuffle=True, tol=0.001,\n",
              "              validation_fraction=0.1, verbose=0, warm_start=False)"
            ]
          },
          "metadata": {
            "tags": []
          },
          "execution_count": 13
        }
      ]
    },
    {
      "cell_type": "code",
      "metadata": {
        "id": "P6bslI5OAnhE",
        "colab_type": "code",
        "colab": {}
      },
      "source": [
        "predictions = sgd_clf.predict(X_test)"
      ],
      "execution_count": 0,
      "outputs": []
    },
    {
      "cell_type": "code",
      "metadata": {
        "id": "Vy24qMpFA17k",
        "colab_type": "code",
        "outputId": "3a9b9059-f5d0-4e16-d931-fc2c48755523",
        "colab": {
          "base_uri": "https://localhost:8080/",
          "height": 51
        }
      },
      "source": [
        "print(y_test[10])\n",
        "print(predictions[10])"
      ],
      "execution_count": 15,
      "outputs": [
        {
          "output_type": "stream",
          "text": [
            "0\n",
            "0\n"
          ],
          "name": "stdout"
        }
      ]
    },
    {
      "cell_type": "code",
      "metadata": {
        "id": "v4kYzHc5BBgR",
        "colab_type": "code",
        "outputId": "470734c2-1d32-4286-e025-1e9a9d2563ef",
        "colab": {
          "base_uri": "https://localhost:8080/",
          "height": 282
        }
      },
      "source": [
        "plt.imshow(X_test[10].reshape(28,28))"
      ],
      "execution_count": 16,
      "outputs": [
        {
          "output_type": "execute_result",
          "data": {
            "text/plain": [
              "<matplotlib.image.AxesImage at 0x7f5edd5dfb70>"
            ]
          },
          "metadata": {
            "tags": []
          },
          "execution_count": 16
        },
        {
          "output_type": "display_data",
          "data": {
            "image/png": "[encoded data removed]",
            "text/plain": [
              "<Figure size 432x288 with 1 Axes>"
            ]
          },
          "metadata": {
            "tags": []
          }
        }
      ]
    },
    {
      "cell_type": "markdown",
      "metadata": {
        "id": "h6OHt9b1EGed",
        "colab_type": "text"
      },
      "source": [
        "##Performance Measures"
      ]
    },
    {
      "cell_type": "code",
      "metadata": {
        "id": "l7caPudCEKqZ",
        "colab_type": "code",
        "outputId": "cf824787-9b86-444b-f065-61a49a57c9fe",
        "colab": {
          "base_uri": "https://localhost:8080/",
          "height": 34
        }
      },
      "source": [
        "from sklearn.metrics import accuracy_score\n",
        "print(accuracy_score(y_test,predictions))"
      ],
      "execution_count": 17,
      "outputs": [
        {
          "output_type": "stream",
          "text": [
            "0.7956\n"
          ],
          "name": "stdout"
        }
      ]
    },
    {
      "cell_type": "markdown",
      "metadata": {
        "id": "gdvtIv7EEYI1",
        "colab_type": "text"
      },
      "source": [
        "##Measuring Accuracy using Cross-Validation"
      ]
    },
    {
      "cell_type": "code",
      "metadata": {
        "id": "-zsBQkN-PwLv",
        "colab_type": "code",
        "outputId": "01f0cbf2-e97c-4015-916a-332647ca25da",
        "colab": {
          "base_uri": "https://localhost:8080/",
          "height": 68
        }
      },
      "source": [
        "from sklearn.model_selection import StratifiedKFold\n",
        "from sklearn.base import clone\n",
        "\n",
        "skfolds = StratifiedKFold(n_splits=3,random_state=23,shuffle=True)\n",
        "for train_index,test_index in skfolds.split(X_train,y_train):\n",
        "  clone_clf = clone(sgd_clf)\n",
        "  x_train_folds = X_train[train_index]\n",
        "  x_test_folds = X_train[test_index]\n",
        "  y_train_folds = y_train[train_index]\n",
        "  y_test_folds = y_train[test_index]\n",
        "  clone_clf.fit(x_train_folds,y_train_folds)\n",
        "  y_pred = clone_clf.predict(x_test_folds)\n",
        "  n_correct = sum(y_pred == y_test_folds)\n",
        "  print(f'accuracy of predictions {n_correct/len(y_pred)}')"
      ],
      "execution_count": 18,
      "outputs": [
        {
          "output_type": "stream",
          "text": [
            "accuracy of predictions 0.85795\n",
            "accuracy of predictions 0.87895\n",
            "accuracy of predictions 0.8882\n"
          ],
          "name": "stdout"
        }
      ]
    },
    {
      "cell_type": "markdown",
      "metadata": {
        "id": "6q70PrKKVWHe",
        "colab_type": "text"
      },
      "source": [
        "- The StartifiedKFold class performs stratified sampling to produce folds that contain a representative ratio of each class.\n",
        "- At each iteration the code creates a clone of the classifier\n",
        "- trains the clone on training folds and makes predictions on test folds.\n",
        "- then it counts the number of correct predictions and outputs the ratio of correct predictions."
      ]
    },
    {
      "cell_type": "markdown",
      "metadata": {
        "id": "gneZ7jlgYuu_",
        "colab_type": "text"
      },
      "source": [
        "## Use cross_val_score() function to evaluate SGDClassifier model using K-fold cross validation with 3 folds"
      ]
    },
    {
      "cell_type": "code",
      "metadata": {
        "id": "Fu00uNh8YT1D",
        "colab_type": "code",
        "outputId": "2b0e1ae9-9e23-43c0-ad63-e1aa487bf965",
        "colab": {
          "base_uri": "https://localhost:8080/",
          "height": 34
        }
      },
      "source": [
        "from sklearn.model_selection import cross_val_score\n",
        "cross_val_score(sgd_clf,X_train,y_train,cv=3,scoring='accuracy')"
      ],
      "execution_count": 19,
      "outputs": [
        {
          "output_type": "execute_result",
          "data": {
            "text/plain": [
              "array([0.87355, 0.86865, 0.8742 ])"
            ]
          },
          "metadata": {
            "tags": []
          },
          "execution_count": 19
        }
      ]
    },
    {
      "cell_type": "markdown",
      "metadata": {
        "id": "STTRkO6VcgLq",
        "colab_type": "text"
      },
      "source": [
        "##DumbClassifier"
      ]
    },
    {
      "cell_type": "code",
      "metadata": {
        "id": "a2oMfhbgciwS",
        "colab_type": "code",
        "colab": {}
      },
      "source": [
        "from sklearn.base import BaseEstimator\n",
        "class dumbclassifier(BaseEstimator):\n",
        "  def fit(self,X,y=None):\n",
        "    pass\n",
        "  def predict(Self,X):\n",
        "    return np.zeros((len(X),1),dtype=bool)"
      ],
      "execution_count": 0,
      "outputs": []
    },
    {
      "cell_type": "code",
      "metadata": {
        "id": "0Pmcl39KgA0I",
        "colab_type": "code",
        "outputId": "10a5732b-3b91-4a68-8ea3-a657c3aadedc",
        "colab": {
          "base_uri": "https://localhost:8080/",
          "height": 34
        }
      },
      "source": [
        "never_5_clf = dumbclassifier()\n",
        "cross_val_score(never_5_clf,X_train,y_train_5,cv=3,scoring='accuracy')"
      ],
      "execution_count": 21,
      "outputs": [
        {
          "output_type": "execute_result",
          "data": {
            "text/plain": [
              "array([1., 1., 1.])"
            ]
          },
          "metadata": {
            "tags": []
          },
          "execution_count": 21
        }
      ]
    },
    {
      "cell_type": "markdown",
      "metadata": {
        "id": "xk3Yfu-0gf8R",
        "colab_type": "text"
      },
      "source": [
        "#### The accuracy score is 1 i.e. 100% ,because only 10% of the images are 5, so the classifier will always guess that an image is not 5.\n",
        "\n",
        "Hence accuracy is generally not always the preferred performance measure for classifiers; especially when dealing with skewed datasets."
      ]
    },
    {
      "cell_type": "markdown",
      "metadata": {
        "id": "62CXLCXihPR9",
        "colab_type": "text"
      },
      "source": [
        "##Confusion Matrix\n",
        "\n",
        "A much better way to evaluate the performance of a classifier is to look at the confusion matrix.The general idea is to count the number of times instances of class A are classified as class B"
      ]
    },
    {
      "cell_type": "code",
      "metadata": {
        "id": "j6ii_kPyiumw",
        "colab_type": "code",
        "colab": {}
      },
      "source": [
        "from sklearn.model_selection import cross_val_predict\n",
        "y_train_pred = cross_val_predict(sgd_clf,X_train,y_train,cv=3)"
      ],
      "execution_count": 0,
      "outputs": []
    },
    {
      "cell_type": "markdown",
      "metadata": {
        "id": "cZY3Uc0LCbzb",
        "colab_type": "text"
      },
      "source": [
        "#### Note :\n",
        "Just like cross_val_score() function, the cross_val_predict() function performs K_fold cross validation but instead of returning evaluation scores,it returmns predictions on each test fold"
      ]
    },
    {
      "cell_type": "code",
      "metadata": {
        "id": "ZGCi4Ll1mieP",
        "colab_type": "code",
        "outputId": "b8e1f82a-a069-40cb-cca4-d53bc43446e7",
        "colab": {
          "base_uri": "https://localhost:8080/",
          "height": 187
        }
      },
      "source": [
        "from sklearn.metrics import confusion_matrix\n",
        "print(confusion_matrix(y_train,y_train_pred))"
      ],
      "execution_count": 23,
      "outputs": [
        {
          "output_type": "stream",
          "text": [
            "[[5647    2   68   13   11   46   48    9   71    8]\n",
            " [   2 6438   56   31    6   15   10   16  159    9]\n",
            " [  56   65 5119  200   71   25   72   76  250   24]\n",
            " [  23   24  213 5273   13  169   26   59  274   57]\n",
            " [  24   35   52   18 5190   28   51   41  136  267]\n",
            " [ 100   27   67  362   63 4098  134   32  463   75]\n",
            " [  41   19  173   24   49   89 5415    3  102    3]\n",
            " [  23   27   83   44   48   17    5 5791   57  170]\n",
            " [  50  197  116  354   45  210   35   37 4733   74]\n",
            " [  34   36   34  129  234   62    2  556  238 4624]]\n"
          ],
          "name": "stdout"
        }
      ]
    },
    {
      "cell_type": "markdown",
      "metadata": {
        "id": "dniNwNjPLENj",
        "colab_type": "text"
      },
      "source": [
        "## Tryin a classification model to predict label as 5 or not 5"
      ]
    },
    {
      "cell_type": "code",
      "metadata": {
        "id": "cnMecFSiSC3R",
        "colab_type": "code",
        "colab": {}
      },
      "source": [
        "y = y.astype(int)"
      ],
      "execution_count": 0,
      "outputs": []
    },
    {
      "cell_type": "code",
      "metadata": {
        "id": "ESLunRvrSIM3",
        "colab_type": "code",
        "colab": {
          "base_uri": "https://localhost:8080/",
          "height": 34
        },
        "outputId": "43582303-e368-4951-b3a5-3d0f9019f1c2"
      },
      "source": [
        "y"
      ],
      "execution_count": 25,
      "outputs": [
        {
          "output_type": "execute_result",
          "data": {
            "text/plain": [
              "array([5, 0, 4, ..., 4, 5, 6])"
            ]
          },
          "metadata": {
            "tags": []
          },
          "execution_count": 25
        }
      ]
    },
    {
      "cell_type": "code",
      "metadata": {
        "id": "twZMJLoQPDjv",
        "colab_type": "code",
        "colab": {}
      },
      "source": [
        "from sklearn.model_selection import StratifiedShuffleSplit\n",
        "split = StratifiedShuffleSplit(n_splits=1,test_size=0.2,random_state=2)\n",
        "for train_index,test_index in split.split(X,y):\n",
        "  X_train = X[train_index]\n",
        "  X_test = X[test_index]\n",
        "  y_train = y[train_index]\n",
        "  y_test = y[test_index]"
      ],
      "execution_count": 0,
      "outputs": []
    },
    {
      "cell_type": "code",
      "metadata": {
        "id": "TavBBIkGKbcp",
        "colab_type": "code",
        "colab": {}
      },
      "source": [
        "y_train_5 = (y_train == 5) #true for all 5s and false for rest of the digits\n",
        "y_test_5 = (y_test == 5 )"
      ],
      "execution_count": 0,
      "outputs": []
    },
    {
      "cell_type": "markdown",
      "metadata": {
        "id": "3AJIAbI_LjS5",
        "colab_type": "text"
      },
      "source": [
        "## Build a Classifier for the same "
      ]
    },
    {
      "cell_type": "code",
      "metadata": {
        "id": "WS9476a2LhqQ",
        "colab_type": "code",
        "colab": {}
      },
      "source": [
        "from sklearn.base import BaseEstimator\n",
        "class Never5Classifier(BaseEstimator):\n",
        "  def fit(self,x,y=None):\n",
        "    pass\n",
        "  def predict(self,x):\n",
        "    return np.zeros((len(x),1),dtype=bool)"
      ],
      "execution_count": 0,
      "outputs": []
    },
    {
      "cell_type": "code",
      "metadata": {
        "id": "yXXlqkb9MIW7",
        "colab_type": "code",
        "colab": {
          "base_uri": "https://localhost:8080/",
          "height": 34
        },
        "outputId": "930a18e1-3bda-49e9-d7d8-df190f5fa1ab"
      },
      "source": [
        "never5_clf = Never5Classifier()\n",
        "cross_val_score(never5_clf,X_train,y_train_5,cv=5,scoring='accuracy')"
      ],
      "execution_count": 29,
      "outputs": [
        {
          "output_type": "execute_result",
          "data": {
            "text/plain": [
              "array([0.91125   , 0.90964286, 0.90803571, 0.90901786, 0.91116071])"
            ]
          },
          "metadata": {
            "tags": []
          },
          "execution_count": 29
        }
      ]
    },
    {
      "cell_type": "code",
      "metadata": {
        "id": "35_uKMhENGZu",
        "colab_type": "code",
        "colab": {
          "base_uri": "https://localhost:8080/",
          "height": 34
        },
        "outputId": "27dd44cc-c564-49b6-d2c2-f17e19dbdcba"
      },
      "source": [
        "np.unique(y_train_5),np.unique(y_test_5)"
      ],
      "execution_count": 30,
      "outputs": [
        {
          "output_type": "execute_result",
          "data": {
            "text/plain": [
              "(array([False,  True]), array([False,  True]))"
            ]
          },
          "metadata": {
            "tags": []
          },
          "execution_count": 30
        }
      ]
    },
    {
      "cell_type": "code",
      "metadata": {
        "id": "3aR3vNVWMnSK",
        "colab_type": "code",
        "colab": {}
      },
      "source": [
        "y_train_5_predict = cross_val_predict(sgd_clf,X_train,y_train_5,cv=5)"
      ],
      "execution_count": 0,
      "outputs": []
    },
    {
      "cell_type": "markdown",
      "metadata": {
        "id": "EqlaGgCJSxcs",
        "colab_type": "text"
      },
      "source": [
        "##Confusion Matrix"
      ]
    },
    {
      "cell_type": "code",
      "metadata": {
        "id": "YD5tWCS6S-3I",
        "colab_type": "code",
        "colab": {
          "base_uri": "https://localhost:8080/",
          "height": 51
        },
        "outputId": "51105d95-31ed-4de9-befb-ac9abbdab95c"
      },
      "source": [
        "confusion_matrix(y_train_5,y_train_5_predict)"
      ],
      "execution_count": 32,
      "outputs": [
        {
          "output_type": "execute_result",
          "data": {
            "text/plain": [
              "array([[50453,   497],\n",
              "       [ 1770,  3280]])"
            ]
          },
          "metadata": {
            "tags": []
          },
          "execution_count": 32
        }
      ]
    },
    {
      "cell_type": "code",
      "metadata": {
        "id": "LWw0ztN0U2U2",
        "colab_type": "code",
        "colab": {
          "base_uri": "https://localhost:8080/",
          "height": 298
        },
        "outputId": "519a679c-81ca-4283-d02d-fb01a5b54539"
      },
      "source": [
        "import matplotlib.pyplot as plt\n",
        "import seaborn as sns\n",
        "%matplotlib inline\n",
        "cf  = confusion_matrix(y_train_5,y_train_5_predict)\n",
        "sns.heatmap(cf,annot=True,fmt='g',xticklabels=['5','Not 5'],yticklabels=['5','Not 5'])\n",
        "plt.xlabel('Predicted Values')\n",
        "plt.ylabel('Actual Values')"
      ],
      "execution_count": 33,
      "outputs": [
        {
          "output_type": "execute_result",
          "data": {
            "text/plain": [
              "Text(33.0, 0.5, 'Actual Values')"
            ]
          },
          "metadata": {
            "tags": []
          },
          "execution_count": 33
        },
        {
          "output_type": "display_data",
          "data": {
            "image/png": "[encoded data removed]",
            "text/plain": [
              "<Figure size 432x288 with 2 Axes>"
            ]
          },
          "metadata": {
            "tags": []
          }
        }
      ]
    },
    {
      "cell_type": "markdown",
      "metadata": {
        "id": "Yhns6HoFTymb",
        "colab_type": "text"
      },
      "source": [
        "#### A perfect classifier will have only True positives and true negatives. So the confusion matrix would have non zero values only in its main  diagonal"
      ]
    },
    {
      "cell_type": "code",
      "metadata": {
        "id": "_6mNlnHUajw8",
        "colab_type": "code",
        "colab": {
          "base_uri": "https://localhost:8080/",
          "height": 296
        },
        "outputId": "79ca9b1d-18c6-4deb-e540-dff7da290904"
      },
      "source": [
        "y_train_perfect_predictions = y_train_5\n",
        "cf  = confusion_matrix(y_train_5,y_train_perfect_predictions)\n",
        "sns.heatmap(cf,annot=True,fmt='g',xticklabels=['5','Not 5'],yticklabels=['5','Not 5'])\n",
        "plt.xlabel('Predicted Values')\n",
        "plt.ylabel('Actual Values')"
      ],
      "execution_count": 34,
      "outputs": [
        {
          "output_type": "execute_result",
          "data": {
            "text/plain": [
              "Text(33.0, 0.5, 'Actual Values')"
            ]
          },
          "metadata": {
            "tags": []
          },
          "execution_count": 34
        },
        {
          "output_type": "display_data",
          "data": {
            "image/png": "[encoded data removed]",
            "text/plain": [
              "<Figure size 432x288 with 2 Axes>"
            ]
          },
          "metadata": {
            "tags": []
          }
        }
      ]
    },
    {
      "cell_type": "markdown",
      "metadata": {
        "id": "DOZW_RACa3se",
        "colab_type": "text"
      },
      "source": [
        "## Confusion Matix gives the following details\n",
        "* positive predictions \n",
        "         precision = (True Positive) / (True Positive + False Positive)\n",
        "\n",
        "* Ratio of positive instances that are correctly detected by the classifier\n",
        "        recall / True Positive Rate/ sensitivity = \n",
        "                          (True Positive) / (True Positive + False Negative)\n",
        "\n",
        "* F1 Score\n",
        "         F1 score is the harmonic mean of precision and recall.\n",
        "         Regular Mean treats all values equally where as the harmonic mean\n",
        "         gives more weightage to low values.As a result classifier will get a \n",
        "         F1 Score when both precision and recall are high.\n",
        "\n",
        "         F1 Score = 2 / ( 1/ precision + 1/recall)\n"
      ]
    },
    {
      "cell_type": "code",
      "metadata": {
        "id": "PVZQ_uCTgIWg",
        "colab_type": "code",
        "colab": {
          "base_uri": "https://localhost:8080/",
          "height": 68
        },
        "outputId": "8f56302d-8a5f-4b6f-9aa1-8a7f2a10b7d1"
      },
      "source": [
        "from sklearn.metrics import precision_score,recall_score,f1_score\n",
        "print(f' Precision :{precision_score(y_train_5,y_train_5_predict)}')\n",
        "print(f' Recall :{recall_score(y_train_5,y_train_5_predict)}')\n",
        "print(f' F1 Score :{f1_score(y_train_5,y_train_5_predict)}')"
      ],
      "execution_count": 35,
      "outputs": [
        {
          "output_type": "stream",
          "text": [
            " Precision :0.8684140852528461\n",
            " Recall :0.6495049504950495\n",
            " F1 Score :0.7431743514217741\n"
          ],
          "name": "stdout"
        }
      ]
    },
    {
      "cell_type": "markdown",
      "metadata": {
        "id": "DQWD1h3pjlfK",
        "colab_type": "text"
      },
      "source": [
        "## Precision / Recall Trade off\n",
        "\n",
        "The F1 Score favovrs classifiers that have similar precision and Recall.\n",
        "But this is not really possible always. In some context we want a high recall while we care about a good precision.\n",
        "\n",
        "Example:\n",
        "* 1 \n",
        "\n",
        "If we want to build a classifier to detect safe vieos for kids, in that case we will look for a high precision(keep only safe videos) and ignore recall (that is reject many good videos)\n",
        "\n",
        "* 2\n",
        "\n",
        "In a scenario where we want to build a classifier to detect shoplifters in survelliance images, in that scenario we are more concerned about recall (all possible cases, a few false alarms) than precision.\n",
        "\n",
        "Increasing precision reduces recall and vice versa . This is called precision/recall trade off.\n",
        "\n"
      ]
    },
    {
      "cell_type": "markdown",
      "metadata": {
        "id": "DIQQuhYJrR9h",
        "colab_type": "text"
      },
      "source": [
        "##SGD Classifier\n",
        "\n",
        "This classifier makes its classification decision for each instance by computing a score bassed on decision function.\n",
        "\n",
        "If the  score is greater than a threshold it assigns the instance to a positive class otherwise it assigns the instance to a negative class.\n",
        "\n",
        "The higher the threshold the lower the recall and higher the precision.\n",
        "\n",
        "Scikit Learn does not let to set a threshold but allows access to decision scores that is used to make predictions"
      ]
    },
    {
      "cell_type": "code",
      "metadata": {
        "id": "dQKnaQw2tEom",
        "colab_type": "code",
        "colab": {
          "base_uri": "https://localhost:8080/",
          "height": 34
        },
        "outputId": "5ed0e324-e210-42d8-82fc-13ce2a2c4f14"
      },
      "source": [
        "X.shape"
      ],
      "execution_count": 36,
      "outputs": [
        {
          "output_type": "execute_result",
          "data": {
            "text/plain": [
              "(70000, 784)"
            ]
          },
          "metadata": {
            "tags": []
          },
          "execution_count": 36
        }
      ]
    },
    {
      "cell_type": "code",
      "metadata": {
        "id": "SgrpMVj2tIUM",
        "colab_type": "code",
        "colab": {
          "base_uri": "https://localhost:8080/",
          "height": 282
        },
        "outputId": "c28f81dd-3d46-41b0-d337-dbdbdc90bf50"
      },
      "source": [
        "plt.imshow(X[0].reshape(28,28))"
      ],
      "execution_count": 37,
      "outputs": [
        {
          "output_type": "execute_result",
          "data": {
            "text/plain": [
              "<matplotlib.image.AxesImage at 0x7f5ed6e1fbe0>"
            ]
          },
          "metadata": {
            "tags": []
          },
          "execution_count": 37
        },
        {
          "output_type": "display_data",
          "data": {
            "image/png": "[encoded data removed]",
            "text/plain": [
              "<Figure size 432x288 with 1 Axes>"
            ]
          },
          "metadata": {
            "tags": []
          }
        }
      ]
    },
    {
      "cell_type": "code",
      "metadata": {
        "id": "nz5-0oQNsvVj",
        "colab_type": "code",
        "colab": {}
      },
      "source": [
        "y_scores = sgd_clf.decision_function([X[0]])"
      ],
      "execution_count": 0,
      "outputs": []
    },
    {
      "cell_type": "code",
      "metadata": {
        "id": "IqNFHSzOs3bk",
        "colab_type": "code",
        "colab": {
          "base_uri": "https://localhost:8080/",
          "height": 85
        },
        "outputId": "84c2478e-e746-4222-d059-8101c586cbd4"
      },
      "source": [
        "y_scores"
      ],
      "execution_count": 39,
      "outputs": [
        {
          "output_type": "execute_result",
          "data": {
            "text/plain": [
              "array([[-22376.559667  , -26989.54155815, -11851.1746418 ,\n",
              "          1667.92496176, -19957.88593125,   5552.66268216,\n",
              "        -20262.80835543,  -7659.54552565, -20069.90185718,\n",
              "        -12726.61021683]])"
            ]
          },
          "metadata": {
            "tags": []
          },
          "execution_count": 39
        }
      ]
    },
    {
      "cell_type": "code",
      "metadata": {
        "id": "PWHJb0zGtdgJ",
        "colab_type": "code",
        "colab": {
          "base_uri": "https://localhost:8080/",
          "height": 51
        },
        "outputId": "66317706-6617-4b9a-e1cd-6059330743da"
      },
      "source": [
        "threshold  = 0\n",
        "y_scores > threshold"
      ],
      "execution_count": 40,
      "outputs": [
        {
          "output_type": "execute_result",
          "data": {
            "text/plain": [
              "array([[False, False, False,  True, False,  True, False, False, False,\n",
              "        False]])"
            ]
          },
          "metadata": {
            "tags": []
          },
          "execution_count": 40
        }
      ]
    },
    {
      "cell_type": "code",
      "metadata": {
        "id": "jFE0KGrqtzSh",
        "colab_type": "code",
        "colab": {
          "base_uri": "https://localhost:8080/",
          "height": 68
        },
        "outputId": "b0aab2ba-629a-4653-a99d-b49f6cc4c974"
      },
      "source": [
        "X[0].reshape(28,28)[5]"
      ],
      "execution_count": 41,
      "outputs": [
        {
          "output_type": "execute_result",
          "data": {
            "text/plain": [
              "array([  0.,   0.,   0.,   0.,   0.,   0.,   0.,   0.,   0.,   0.,   0.,\n",
              "         0.,   3.,  18.,  18.,  18., 126., 136., 175.,  26., 166., 255.,\n",
              "       247., 127.,   0.,   0.,   0.,   0.])"
            ]
          },
          "metadata": {
            "tags": []
          },
          "execution_count": 41
        }
      ]
    },
    {
      "cell_type": "markdown",
      "metadata": {
        "id": "m1QJwVhmucVH",
        "colab_type": "text"
      },
      "source": [
        "## How to decide which Threshold function to use"
      ]
    },
    {
      "cell_type": "code",
      "metadata": {
        "id": "ys54SNYoug4A",
        "colab_type": "code",
        "colab": {}
      },
      "source": [
        "#cross val predict to get decision scores of all instances in the training set\n",
        "\n",
        "y_scores = cross_val_predict(sgd_clf,X_train,y_train_5,cv=5,method='decision_function')"
      ],
      "execution_count": 0,
      "outputs": []
    },
    {
      "cell_type": "markdown",
      "metadata": {
        "id": "2pyoBhWNvm-l",
        "colab_type": "text"
      },
      "source": [
        "## Build the Visualization pertaing to Precision and Recall Versus the decision Threshold"
      ]
    },
    {
      "cell_type": "code",
      "metadata": {
        "id": "xS8jfRb6vxJ1",
        "colab_type": "code",
        "colab": {}
      },
      "source": [
        "from sklearn.metrics import precision_recall_curve\n",
        "precision,recall,threshold = precision_recall_curve(y_train_5,y_scores)"
      ],
      "execution_count": 0,
      "outputs": []
    },
    {
      "cell_type": "markdown",
      "metadata": {
        "id": "uGmKnEn0wGKp",
        "colab_type": "text"
      },
      "source": [
        "#### Define a function to plot the precion_recall vs Threshold"
      ]
    },
    {
      "cell_type": "code",
      "metadata": {
        "id": "TrjrwKshw4o6",
        "colab_type": "code",
        "colab": {}
      },
      "source": [
        "def plot_precision_recall_vs_threshold(precision,recall,threshold):\n",
        "  sns.set_style('whitegrid')\n",
        "  plt.plot(threshold,precision[:-1],'b--',label='Precision')\n",
        "  plt.plot(threshold,recall[:-1],'g',label='Recall')\n",
        "  #highlight the threshold add the legend,axis label and grid\n",
        "  #plt.plot(threshold,'--')\n",
        "  plt.legend()\n",
        "  plt.xlabel('Threshold')\n",
        "  plt.show()"
      ],
      "execution_count": 0,
      "outputs": []
    },
    {
      "cell_type": "code",
      "metadata": {
        "id": "EQ6MxBU6yBlw",
        "colab_type": "code",
        "colab": {
          "base_uri": "https://localhost:8080/",
          "height": 279
        },
        "outputId": "ba92f3cd-a8ac-40c5-f476-eafe5114411c"
      },
      "source": [
        "plot_precision_recall_vs_threshold(precision,recall,threshold)"
      ],
      "execution_count": 45,
      "outputs": [
        {
          "output_type": "display_data",
          "data": {
            "image/png": "[encoded data removed]",
            "text/plain": [
              "<Figure size 432x288 with 1 Axes>"
            ]
          },
          "metadata": {
            "tags": []
          }
        }
      ]
    },
    {
      "cell_type": "code",
      "metadata": {
        "id": "-tMRWkCj0EqQ",
        "colab_type": "code",
        "colab": {
          "base_uri": "https://localhost:8080/",
          "height": 296
        },
        "outputId": "39f121b6-017a-46fd-c7f8-212672140e65"
      },
      "source": [
        "sns.set_style('whitegrid')\n",
        "plt.plot(recall,precision)\n",
        "plt.xlabel('Recall')\n",
        "plt.ylabel('Precision')"
      ],
      "execution_count": 46,
      "outputs": [
        {
          "output_type": "execute_result",
          "data": {
            "text/plain": [
              "Text(0, 0.5, 'Precision')"
            ]
          },
          "metadata": {
            "tags": []
          },
          "execution_count": 46
        },
        {
          "output_type": "display_data",
          "data": {
            "image/png": "[encoded data removed]",
            "text/plain": [
              "<Figure size 432x288 with 1 Axes>"
            ]
          },
          "metadata": {
            "tags": []
          }
        }
      ]
    },
    {
      "cell_type": "markdown",
      "metadata": {
        "id": "YYlWgsPo0krY",
        "colab_type": "text"
      },
      "source": [
        "#### Note :\n",
        "The precison really start to fall sharply when the recall is around 80%"
      ]
    },
    {
      "cell_type": "markdown",
      "metadata": {
        "id": "fSafD29R__bm",
        "colab_type": "text"
      },
      "source": [
        "Suppose we aim for a 90% precision"
      ]
    },
    {
      "cell_type": "code",
      "metadata": {
        "id": "HLH2nIrGAFlh",
        "colab_type": "code",
        "colab": {}
      },
      "source": [
        "threshold_90_precision = threshold[np.argmax(precision >=0.90)]"
      ],
      "execution_count": 0,
      "outputs": []
    },
    {
      "cell_type": "code",
      "metadata": {
        "id": "KdDFOsXjA-nb",
        "colab_type": "code",
        "colab": {
          "base_uri": "https://localhost:8080/",
          "height": 34
        },
        "outputId": "3bf65c51-653d-4f67-e03d-2500f7a5939c"
      },
      "source": [
        "threshold_90_precision"
      ],
      "execution_count": 48,
      "outputs": [
        {
          "output_type": "execute_result",
          "data": {
            "text/plain": [
              "917.1084436437183"
            ]
          },
          "metadata": {
            "tags": []
          },
          "execution_count": 48
        }
      ]
    },
    {
      "cell_type": "markdown",
      "metadata": {
        "id": "oer23Pz3BDR3",
        "colab_type": "text"
      },
      "source": [
        "#### Making predictions on the training or test data instaed of calling the predict method we can now use the threshold value computed for 90 precent precision."
      ]
    },
    {
      "cell_type": "code",
      "metadata": {
        "id": "dYXkcJbXBU0o",
        "colab_type": "code",
        "colab": {}
      },
      "source": [
        "y_train_pred_90 = (y_scores >= threshold_90_precision)"
      ],
      "execution_count": 0,
      "outputs": []
    },
    {
      "cell_type": "code",
      "metadata": {
        "id": "-vcVcD-4BgTo",
        "colab_type": "code",
        "colab": {
          "base_uri": "https://localhost:8080/",
          "height": 34
        },
        "outputId": "9fa621bc-0715-40c5-fc18-3d0bf7f80926"
      },
      "source": [
        "y_train_pred_90"
      ],
      "execution_count": 50,
      "outputs": [
        {
          "output_type": "execute_result",
          "data": {
            "text/plain": [
              "array([False, False, False, ..., False, False, False])"
            ]
          },
          "metadata": {
            "tags": []
          },
          "execution_count": 50
        }
      ]
    },
    {
      "cell_type": "code",
      "metadata": {
        "id": "yuuX5nYQC1Dj",
        "colab_type": "code",
        "colab": {
          "base_uri": "https://localhost:8080/",
          "height": 68
        },
        "outputId": "d2322af5-6ef1-4c3c-9989-d858e3285ce9"
      },
      "source": [
        "print(f' Precision :{precision_score(y_train_5,y_train_pred_90)}')\n",
        "print(f' Recall :{recall_score(y_train_5,y_train_pred_90)}')\n",
        "print(f' F1 Score :{f1_score(y_train_5,y_train_pred_90)}')"
      ],
      "execution_count": 51,
      "outputs": [
        {
          "output_type": "stream",
          "text": [
            " Precision :0.9000605693519079\n",
            " Recall :0.5885148514851485\n",
            " F1 Score :0.7116858237547893\n"
          ],
          "name": "stdout"
        }
      ]
    },
    {
      "cell_type": "markdown",
      "metadata": {
        "id": "PfUM_NBZDB7K",
        "colab_type": "text"
      },
      "source": [
        "#### This gives us a 90% precision classifier"
      ]
    },
    {
      "cell_type": "markdown",
      "metadata": {
        "id": "5sM83cb3KKI4",
        "colab_type": "text"
      },
      "source": [
        "## ROC Reciever Operating Characteristic curve\n",
        "\n",
        "* It is used as a measure of accuracy for binary classifiers.\n",
        "* Similar to precision/recall curve  but instead of plotting precision versus recall, the ROC curve plots true positive rate against False Positive Rate.\n",
        "\n",
        "FPR is the ration of negative instances that are incorrectly classified as negative.\n",
        "\n",
        "True Negative Rate is also called Specificity\n",
        "\n",
        "so ROC curve  = (1 - specificity) / Recall\n",
        "              = FPR /TPR\n",
        "              "
      ]
    },
    {
      "cell_type": "code",
      "metadata": {
        "id": "g3T9pob-NzGl",
        "colab_type": "code",
        "colab": {}
      },
      "source": [
        "from sklearn.metrics import roc_curve\n",
        "fpr,tpr,threshold = roc_curve(y_train_5,y_scores)"
      ],
      "execution_count": 0,
      "outputs": []
    },
    {
      "cell_type": "code",
      "metadata": {
        "id": "JR4Z--bBDKVV",
        "colab_type": "code",
        "colab": {}
      },
      "source": [
        "def plot_roc_curve(fpr,tpr,threshold,label=None):\n",
        "  plt.plot(fpr,tpr,linewidth=2,label=label)\n",
        "  plt.plot([0,1],[0,1],'k--')#dashed diagonal\n",
        "  plt.xlabel('False Positive Rate')\n",
        "  plt.ylabel('True Positive Rate')\n",
        "  plt.title('ROC Curve')\n",
        "  plt.legend()\n",
        "  plt.show()"
      ],
      "execution_count": 0,
      "outputs": []
    },
    {
      "cell_type": "code",
      "metadata": {
        "id": "Nx2St2ixQDCC",
        "colab_type": "code",
        "colab": {
          "base_uri": "https://localhost:8080/",
          "height": 312
        },
        "outputId": "e5436a5d-4589-403d-f85d-a4505a6a5cb8"
      },
      "source": [
        "plot_roc_curve(fpr,tpr,threshold)"
      ],
      "execution_count": 54,
      "outputs": [
        {
          "output_type": "stream",
          "text": [
            "No handles with labels found to put in legend.\n"
          ],
          "name": "stderr"
        },
        {
          "output_type": "display_data",
          "data": {
            "image/png": "[encoded data removed]",
            "text/plain": [
              "<Figure size 432x288 with 1 Axes>"
            ]
          },
          "metadata": {
            "tags": []
          }
        }
      ]
    },
    {
      "cell_type": "code",
      "metadata": {
        "id": "a9ANd9KrQdQW",
        "colab_type": "code",
        "colab": {
          "base_uri": "https://localhost:8080/",
          "height": 34
        },
        "outputId": "4af4c4b4-2583-4208-952d-d2a6d070bcb7"
      },
      "source": [
        "from sklearn.metrics import roc_auc_score\n",
        "print(f'AUC : {roc_auc_score(y_train_5,y_scores)}')"
      ],
      "execution_count": 55,
      "outputs": [
        {
          "output_type": "stream",
          "text": [
            "AUC : 0.9607095405124416\n"
          ],
          "name": "stdout"
        }
      ]
    },
    {
      "cell_type": "markdown",
      "metadata": {
        "id": "g_NF9IXjRLyn",
        "colab_type": "text"
      },
      "source": [
        "#### Note\n",
        "\n",
        "As a rule of thumb Precion Recall curve should be preferred whenver the positive class is rare or whenver we are more concerned about false positives than false negatives."
      ]
    },
    {
      "cell_type": "markdown",
      "metadata": {
        "id": "A09YRKGRSrK6",
        "colab_type": "text"
      },
      "source": [
        "## Comapare ROC AUC curve for RandomForestClassifier and SGDClassifier"
      ]
    },
    {
      "cell_type": "code",
      "metadata": {
        "id": "TaMButlGS4sn",
        "colab_type": "code",
        "colab": {}
      },
      "source": [
        "from sklearn.ensemble import RandomForestClassifier\n",
        "forest_clf = RandomForestClassifier()\n",
        "y_proba_forest = cross_val_predict(forest_clf,X_train,y_train_5,cv=5,method='predict_proba')\n",
        "y_scores = y_proba_forest[:,1]"
      ],
      "execution_count": 0,
      "outputs": []
    },
    {
      "cell_type": "code",
      "metadata": {
        "id": "UuzhFdMGS83L",
        "colab_type": "code",
        "colab": {}
      },
      "source": [
        "fpr_forest,tpr_forest,threshold_forest = roc_curve(y_train_5,y_scores)"
      ],
      "execution_count": 0,
      "outputs": []
    },
    {
      "cell_type": "code",
      "metadata": {
        "id": "0GYSGfEmWNcI",
        "colab_type": "code",
        "colab": {
          "base_uri": "https://localhost:8080/",
          "height": 295
        },
        "outputId": "4a923483-a390-4be4-d894-a53ace873cf4"
      },
      "source": [
        "plt.plot(fpr,tpr,'b:',label='SGD')\n",
        "plot_roc_curve(fpr_forest,tpr_forest,threshold_forest,label='Random Forest')\n",
        "plt.show()\n"
      ],
      "execution_count": 58,
      "outputs": [
        {
          "output_type": "display_data",
          "data": {
            "image/png": "[encoded data removed]",
            "text/plain": [
              "<Figure size 432x288 with 1 Axes>"
            ]
          },
          "metadata": {
            "tags": []
          }
        }
      ]
    },
    {
      "cell_type": "markdown",
      "metadata": {
        "id": "uS2D_5SbX_w_",
        "colab_type": "text"
      },
      "source": [
        "#### The random fores classifier is superior to SGD classifier as its ROC curve is much closer to the left top corner and it has a greater AUC"
      ]
    },
    {
      "cell_type": "code",
      "metadata": {
        "id": "BuiWl7TpYVQG",
        "colab_type": "code",
        "colab": {
          "base_uri": "https://localhost:8080/",
          "height": 34
        },
        "outputId": "4b6e2cb4-0fb5-4895-986c-0858a0622594"
      },
      "source": [
        "print(f'AUC Random Forest Classifier: {roc_auc_score(y_train_5,y_scores)}')"
      ],
      "execution_count": 59,
      "outputs": [
        {
          "output_type": "stream",
          "text": [
            "AUC Random Forest Classifier: 0.9985812881975146\n"
          ],
          "name": "stdout"
        }
      ]
    },
    {
      "cell_type": "markdown",
      "metadata": {
        "id": "91ncKYwqYvEt",
        "colab_type": "text"
      },
      "source": [
        "## Multiclass Classification"
      ]
    },
    {
      "cell_type": "markdown",
      "metadata": {
        "id": "jT_tBiSll6w0",
        "colab_type": "text"
      },
      "source": [
        "* **Binary Classifier** - Distinguish between 2 classes\n",
        "* **Multiclass / Multinomial Clasifier** - Distinguish between 2 or more classes"
      ]
    },
    {
      "cell_type": "markdown",
      "metadata": {
        "id": "0u2JNZ6KmaLu",
        "colab_type": "text"
      },
      "source": [
        "* Strict Binary Classifiers - Logistic Regression /  Support Vector Machine\n",
        "\n",
        "* Models Capable of handling Multiclass Classification - SGD Classifiers,RandomForestClassifier,Naive Bayes"
      ]
    },
    {
      "cell_type": "markdown",
      "metadata": {
        "id": "d7CM6mUMoX3y",
        "colab_type": "text"
      },
      "source": [
        "## Startegies for MultiClassification\n",
        "\n",
        "- One Versus Rest \n",
        "       Train the model for each class and when we want to classify a specific class, we get the decision score from each classifier for specific class and we select the class whose classifier outputs the highest score.\n",
        "\n",
        "- One Versus One \n",
        "\n",
        "        Train a binary classifier for every pair of digits.If there are N      classes we need to train N * (N - 1) / 2 classifiers.\n",
        "        When we need to classify a specific class we need to run the data through N * (N -1) / 2 classifiers and see which class wins the most duels.\n",
        "\n",
        "#### Main advantage of One Versus One classifier is that  each classifier only needs to b e trained on the part of the training dataset for the two classes it must distinguish.\n",
        "\n",
        "OVO classifier is preferred in some algorithms (SVM) beacuse it is faster to train many classifiers on small training sets than to train few classifiers on large training sets.\n",
        "\n",
        "For most Binary Classifiers One Versus Rest is preferred.\n"
      ]
    },
    {
      "cell_type": "code",
      "metadata": {
        "id": "etCBPEU3tA1J",
        "colab_type": "code",
        "colab": {
          "base_uri": "https://localhost:8080/",
          "height": 1000
        },
        "outputId": "cf4e0894-6ace-4f0d-a11a-64fcac46ffcf"
      },
      "source": [
        "from sklearn.svm import SVC\n",
        "svm_clf = SVC()\n",
        "svm_clf.fit(X_train,y_train)\n"
      ],
      "execution_count": 60,
      "outputs": [
        {
          "output_type": "error",
          "ename": "ValueError",
          "evalue": "ignored",
          "traceback": [
            "\u001b[0;31m---------------------------------------------------------------------------\u001b[0m",
            "\u001b[0;31mValueError\u001b[0m                                Traceback (most recent call last)",
            "\u001b[0;32m<ipython-input-60-2304c964761c>\u001b[0m in \u001b[0;36m<module>\u001b[0;34m()\u001b[0m\n\u001b[1;32m      2\u001b[0m \u001b[0msvm_clf\u001b[0m \u001b[0;34m=\u001b[0m \u001b[0mSVC\u001b[0m\u001b[0;34m(\u001b[0m\u001b[0;34m)\u001b[0m\u001b[0;34m\u001b[0m\u001b[0;34m\u001b[0m\u001b[0m\n\u001b[1;32m      3\u001b[0m \u001b[0msvm_clf\u001b[0m\u001b[0;34m.\u001b[0m\u001b[0mfit\u001b[0m\u001b[0;34m(\u001b[0m\u001b[0mX_train\u001b[0m\u001b[0;34m,\u001b[0m\u001b[0my_train\u001b[0m\u001b[0;34m)\u001b[0m\u001b[0;34m\u001b[0m\u001b[0;34m\u001b[0m\u001b[0m\n\u001b[0;32m----> 4\u001b[0;31m \u001b[0msvm_clf\u001b[0m\u001b[0;34m.\u001b[0m\u001b[0mpredict\u001b[0m\u001b[0;34m(\u001b[0m\u001b[0mX\u001b[0m\u001b[0;34m[\u001b[0m\u001b[0;36m0\u001b[0m\u001b[0;34m]\u001b[0m\u001b[0;34m)\u001b[0m\u001b[0;34m\u001b[0m\u001b[0;34m\u001b[0m\u001b[0m\n\u001b[0m",
            "\u001b[0;32m/usr/local/lib/python3.6/dist-packages/sklearn/svm/_base.py\u001b[0m in \u001b[0;36mpredict\u001b[0;34m(self, X)\u001b[0m\n\u001b[1;32m    592\u001b[0m             \u001b[0my\u001b[0m \u001b[0;34m=\u001b[0m \u001b[0mnp\u001b[0m\u001b[0;34m.\u001b[0m\u001b[0margmax\u001b[0m\u001b[0;34m(\u001b[0m\u001b[0mself\u001b[0m\u001b[0;34m.\u001b[0m\u001b[0mdecision_function\u001b[0m\u001b[0;34m(\u001b[0m\u001b[0mX\u001b[0m\u001b[0;34m)\u001b[0m\u001b[0;34m,\u001b[0m \u001b[0maxis\u001b[0m\u001b[0;34m=\u001b[0m\u001b[0;36m1\u001b[0m\u001b[0;34m)\u001b[0m\u001b[0;34m\u001b[0m\u001b[0;34m\u001b[0m\u001b[0m\n\u001b[1;32m    593\u001b[0m         \u001b[0;32melse\u001b[0m\u001b[0;34m:\u001b[0m\u001b[0;34m\u001b[0m\u001b[0;34m\u001b[0m\u001b[0m\n\u001b[0;32m--> 594\u001b[0;31m             \u001b[0my\u001b[0m \u001b[0;34m=\u001b[0m \u001b[0msuper\u001b[0m\u001b[0;34m(\u001b[0m\u001b[0;34m)\u001b[0m\u001b[0;34m.\u001b[0m\u001b[0mpredict\u001b[0m\u001b[0;34m(\u001b[0m\u001b[0mX\u001b[0m\u001b[0;34m)\u001b[0m\u001b[0;34m\u001b[0m\u001b[0;34m\u001b[0m\u001b[0m\n\u001b[0m\u001b[1;32m    595\u001b[0m         \u001b[0;32mreturn\u001b[0m \u001b[0mself\u001b[0m\u001b[0;34m.\u001b[0m\u001b[0mclasses_\u001b[0m\u001b[0;34m.\u001b[0m\u001b[0mtake\u001b[0m\u001b[0;34m(\u001b[0m\u001b[0mnp\u001b[0m\u001b[0;34m.\u001b[0m\u001b[0masarray\u001b[0m\u001b[0;34m(\u001b[0m\u001b[0my\u001b[0m\u001b[0;34m,\u001b[0m \u001b[0mdtype\u001b[0m\u001b[0;34m=\u001b[0m\u001b[0mnp\u001b[0m\u001b[0;34m.\u001b[0m\u001b[0mintp\u001b[0m\u001b[0;34m)\u001b[0m\u001b[0;34m)\u001b[0m\u001b[0;34m\u001b[0m\u001b[0;34m\u001b[0m\u001b[0m\n\u001b[1;32m    596\u001b[0m \u001b[0;34m\u001b[0m\u001b[0m\n",
            "\u001b[0;32m/usr/local/lib/python3.6/dist-packages/sklearn/svm/_base.py\u001b[0m in \u001b[0;36mpredict\u001b[0;34m(self, X)\u001b[0m\n\u001b[1;32m    313\u001b[0m         \u001b[0my_pred\u001b[0m \u001b[0;34m:\u001b[0m \u001b[0marray\u001b[0m\u001b[0;34m,\u001b[0m \u001b[0mshape\u001b[0m \u001b[0;34m(\u001b[0m\u001b[0mn_samples\u001b[0m\u001b[0;34m,\u001b[0m\u001b[0;34m)\u001b[0m\u001b[0;34m\u001b[0m\u001b[0;34m\u001b[0m\u001b[0m\n\u001b[1;32m    314\u001b[0m         \"\"\"\n\u001b[0;32m--> 315\u001b[0;31m         \u001b[0mX\u001b[0m \u001b[0;34m=\u001b[0m \u001b[0mself\u001b[0m\u001b[0;34m.\u001b[0m\u001b[0m_validate_for_predict\u001b[0m\u001b[0;34m(\u001b[0m\u001b[0mX\u001b[0m\u001b[0;34m)\u001b[0m\u001b[0;34m\u001b[0m\u001b[0;34m\u001b[0m\u001b[0m\n\u001b[0m\u001b[1;32m    316\u001b[0m         \u001b[0mpredict\u001b[0m \u001b[0;34m=\u001b[0m \u001b[0mself\u001b[0m\u001b[0;34m.\u001b[0m\u001b[0m_sparse_predict\u001b[0m \u001b[0;32mif\u001b[0m \u001b[0mself\u001b[0m\u001b[0;34m.\u001b[0m\u001b[0m_sparse\u001b[0m \u001b[0;32melse\u001b[0m \u001b[0mself\u001b[0m\u001b[0;34m.\u001b[0m\u001b[0m_dense_predict\u001b[0m\u001b[0;34m\u001b[0m\u001b[0;34m\u001b[0m\u001b[0m\n\u001b[1;32m    317\u001b[0m         \u001b[0;32mreturn\u001b[0m \u001b[0mpredict\u001b[0m\u001b[0;34m(\u001b[0m\u001b[0mX\u001b[0m\u001b[0;34m)\u001b[0m\u001b[0;34m\u001b[0m\u001b[0;34m\u001b[0m\u001b[0m\n",
            "\u001b[0;32m/usr/local/lib/python3.6/dist-packages/sklearn/svm/_base.py\u001b[0m in \u001b[0;36m_validate_for_predict\u001b[0;34m(self, X)\u001b[0m\n\u001b[1;32m    445\u001b[0m \u001b[0;34m\u001b[0m\u001b[0m\n\u001b[1;32m    446\u001b[0m         X = check_array(X, accept_sparse='csr', dtype=np.float64, order=\"C\",\n\u001b[0;32m--> 447\u001b[0;31m                         accept_large_sparse=False)\n\u001b[0m\u001b[1;32m    448\u001b[0m         \u001b[0;32mif\u001b[0m \u001b[0mself\u001b[0m\u001b[0;34m.\u001b[0m\u001b[0m_sparse\u001b[0m \u001b[0;32mand\u001b[0m \u001b[0;32mnot\u001b[0m \u001b[0msp\u001b[0m\u001b[0;34m.\u001b[0m\u001b[0misspmatrix\u001b[0m\u001b[0;34m(\u001b[0m\u001b[0mX\u001b[0m\u001b[0;34m)\u001b[0m\u001b[0;34m:\u001b[0m\u001b[0;34m\u001b[0m\u001b[0;34m\u001b[0m\u001b[0m\n\u001b[1;32m    449\u001b[0m             \u001b[0mX\u001b[0m \u001b[0;34m=\u001b[0m \u001b[0msp\u001b[0m\u001b[0;34m.\u001b[0m\u001b[0mcsr_matrix\u001b[0m\u001b[0;34m(\u001b[0m\u001b[0mX\u001b[0m\u001b[0;34m)\u001b[0m\u001b[0;34m\u001b[0m\u001b[0;34m\u001b[0m\u001b[0m\n",
            "\u001b[0;32m/usr/local/lib/python3.6/dist-packages/sklearn/utils/validation.py\u001b[0m in \u001b[0;36mcheck_array\u001b[0;34m(array, accept_sparse, accept_large_sparse, dtype, order, copy, force_all_finite, ensure_2d, allow_nd, ensure_min_samples, ensure_min_features, warn_on_dtype, estimator)\u001b[0m\n\u001b[1;32m    554\u001b[0m                     \u001b[0;34m\"Reshape your data either using array.reshape(-1, 1) if \"\u001b[0m\u001b[0;34m\u001b[0m\u001b[0;34m\u001b[0m\u001b[0m\n\u001b[1;32m    555\u001b[0m                     \u001b[0;34m\"your data has a single feature or array.reshape(1, -1) \"\u001b[0m\u001b[0;34m\u001b[0m\u001b[0;34m\u001b[0m\u001b[0m\n\u001b[0;32m--> 556\u001b[0;31m                     \"if it contains a single sample.\".format(array))\n\u001b[0m\u001b[1;32m    557\u001b[0m \u001b[0;34m\u001b[0m\u001b[0m\n\u001b[1;32m    558\u001b[0m         \u001b[0;31m# in the future np.flexible dtypes will be handled like object dtypes\u001b[0m\u001b[0;34m\u001b[0m\u001b[0;34m\u001b[0m\u001b[0;34m\u001b[0m\u001b[0m\n",
            "\u001b[0;31mValueError\u001b[0m: Expected 2D array, got 1D array instead:\narray=[  0.   0.   0.   0.   0.   0.   0.   0.   0.   0.   0.   0.   0.   0.\n   0.   0.   0.   0.   0.   0.   0.   0.   0.   0.   0.   0.   0.   0.\n   0.   0.   0.   0.   0.   0.   0.   0.   0.   0.   0.   0.   0.   0.\n   0.   0.   0.   0.   0.   0.   0.   0.   0.   0.   0.   0.   0.   0.\n   0.   0.   0.   0.   0.   0.   0.   0.   0.   0.   0.   0.   0.   0.\n   0.   0.   0.   0.   0.   0.   0.   0.   0.   0.   0.   0.   0.   0.\n   0.   0.   0.   0.   0.   0.   0.   0.   0.   0.   0.   0.   0.   0.\n   0.   0.   0.   0.   0.   0.   0.   0.   0.   0.   0.   0.   0.   0.\n   0.   0.   0.   0.   0.   0.   0.   0.   0.   0.   0.   0.   0.   0.\n   0.   0.   0.   0.   0.   0.   0.   0.   0.   0.   0.   0.   0.   0.\n   0.   0.   0.   0.   0.   0.   0.   0.   0.   0.   0.   0.   3.  18.\n  18.  18. 126. 136. 175.  26. 166. 255. 247. 127.   0.   0.   0.   0.\n   0.   0.   0.   0.   0.   0.   0.   0.  30.  36.  94. 154. 170. 253.\n 253. 253. 253. 253. 225. 172. 253. 242. 195.  64.   0.   0.   0.   0.\n   0.   0.   0.   0.   0.   0.   0.  49. 238. 253. 253. 253. 253. 253.\n 253. 253. 253. 251.  93.  82.  82.  56.  39.   0.   0.   0.   0.   0.\n   0.   0.   0.   0.   0.   0.   0.  18. 219. 253. 253. 253. 253. 253.\n 198. 182. 247. 241.   0.   0.   0.   0.   0.   0.   0.   0.   0.   0.\n   0.   0.   0.   0.   0.   0.   0.   0.  80. 156. 107. 253. 253. 205.\n  11.   0.  43. 154.   0.   0.   0.   0.   0.   0.   0.   0.   0.   0.\n   0.   0.   0.   0.   0.   0.   0.   0.   0.  14.   1. 154. 253.  90.\n   0.   0.   0.   0.   0.   0.   0.   0.   0.   0.   0.   0.   0.   0.\n   0.   0.   0.   0.   0.   0.   0.   0.   0.   0.   0. 139. 253. 190.\n   2.   0.   0.   0.   0.   0.   0.   0.   0.   0.   0.   0.   0.   0.\n   0.   0.   0.   0.   0.   0.   0.   0.   0.   0.   0.  11. 190. 253.\n  70.   0.   0.   0.   0.   0.   0.   0.   0.   0.   0.   0.   0.   0.\n   0.   0.   0.   0.   0.   0.   0.   0.   0.   0.   0.   0.  35. 241.\n 225. 160. 108.   1.   0.   0.   0.   0.   0.   0.   0.   0.   0.   0.\n   0.   0.   0.   0.   0.   0.   0.   0.   0.   0.   0.   0.   0.  81.\n 240. 253. 253. 119.  25.   0.   0.   0.   0.   0.   0.   0.   0.   0.\n   0.   0.   0.   0.   0.   0.   0.   0.   0.   0.   0.   0.   0.   0.\n  45. 186. 253. 253. 150.  27.   0.   0.   0.   0.   0.   0.   0.   0.\n   0.   0.   0.   0.   0.   0.   0.   0.   0.   0.   0.   0.   0.   0.\n   0.  16.  93. 252. 253. 187.   0.   0.   0.   0.   0.   0.   0.   0.\n   0.   0.   0.   0.   0.   0.   0.   0.   0.   0.   0.   0.   0.   0.\n   0.   0.   0. 249. 253. 249.  64.   0.   0.   0.   0.   0.   0.   0.\n   0.   0.   0.   0.   0.   0.   0.   0.   0.   0.   0.   0.   0.   0.\n  46. 130. 183. 253. 253. 207.   2.   0.   0.   0.   0.   0.   0.   0.\n   0.   0.   0.   0.   0.   0.   0.   0.   0.   0.   0.   0.  39. 148.\n 229. 253. 253. 253. 250. 182.   0.   0.   0.   0.   0.   0.   0.   0.\n   0.   0.   0.   0.   0.   0.   0.   0.   0.   0.  24. 114. 221. 253.\n 253. 253. 253. 201.  78.   0.   0.   0.   0.   0.   0.   0.   0.   0.\n   0.   0.   0.   0.   0.   0.   0.   0.  23.  66. 213. 253. 253. 253.\n 253. 198.  81.   2.   0.   0.   0.   0.   0.   0.   0.   0.   0.   0.\n   0.   0.   0.   0.   0.   0.  18. 171. 219. 253. 253. 253. 253. 195.\n  80.   9.   0.   0.   0.   0.   0.   0.   0.   0.   0.   0.   0.   0.\n   0.   0.   0.   0.  55. 172. 226. 253. 253. 253. 253. 244. 133.  11.\n   0.   0.   0.   0.   0.   0.   0.   0.   0.   0.   0.   0.   0.   0.\n   0.   0.   0.   0. 136. 253. 253. 253. 212. 135. 132.  16.   0.   0.\n   0.   0.   0.   0.   0.   0.   0.   0.   0.   0.   0.   0.   0.   0.\n   0.   0.   0.   0.   0.   0.   0.   0.   0.   0.   0.   0.   0.   0.\n   0.   0.   0.   0.   0.   0.   0.   0.   0.   0.   0.   0.   0.   0.\n   0.   0.   0.   0.   0.   0.   0.   0.   0.   0.   0.   0.   0.   0.\n   0.   0.   0.   0.   0.   0.   0.   0.   0.   0.   0.   0.   0.   0.\n   0.   0.   0.   0.   0.   0.   0.   0.   0.   0.   0.   0.   0.   0.\n   0.   0.   0.   0.   0.   0.   0.   0.   0.   0.   0.   0.   0.   0.].\nReshape your data either using array.reshape(-1, 1) if your data has a single feature or array.reshape(1, -1) if it contains a single sample."
          ]
        }
      ]
    },
    {
      "cell_type": "code",
      "metadata": {
        "id": "Y9hEOC_RvRr3",
        "colab_type": "code",
        "colab": {
          "base_uri": "https://localhost:8080/",
          "height": 34
        },
        "outputId": "96c38857-1417-462f-95b3-0896863340ad"
      },
      "source": [
        "svm_clf.predict(X[0].reshape(1,-1))"
      ],
      "execution_count": 61,
      "outputs": [
        {
          "output_type": "execute_result",
          "data": {
            "text/plain": [
              "array([5])"
            ]
          },
          "metadata": {
            "tags": []
          },
          "execution_count": 61
        }
      ]
    },
    {
      "cell_type": "code",
      "metadata": {
        "id": "PweyEteaoQX4",
        "colab_type": "code",
        "colab": {}
      },
      "source": [
        "some_digit_scores = svm_clf.decision_function(X[0].reshape(1,-1))"
      ],
      "execution_count": 0,
      "outputs": []
    },
    {
      "cell_type": "code",
      "metadata": {
        "id": "848EofYEYx3z",
        "colab_type": "code",
        "colab": {
          "base_uri": "https://localhost:8080/",
          "height": 51
        },
        "outputId": "45e8a214-170a-4aac-d006-668b61c98801"
      },
      "source": [
        "some_digit_scores"
      ],
      "execution_count": 64,
      "outputs": [
        {
          "output_type": "execute_result",
          "data": {
            "text/plain": [
              "array([[ 2.72422893,  1.72884272,  7.25183634,  8.30663332, -0.31174864,\n",
              "         9.31326124,  1.71246426,  2.78476104,  6.22679284,  4.87318905]])"
            ]
          },
          "metadata": {
            "tags": []
          },
          "execution_count": 64
        }
      ]
    },
    {
      "cell_type": "code",
      "metadata": {
        "id": "UoL11YVcv-hP",
        "colab_type": "code",
        "colab": {
          "base_uri": "https://localhost:8080/",
          "height": 34
        },
        "outputId": "5a103706-5045-41f8-8202-4934d192d16b"
      },
      "source": [
        "some_digit_scores.shape"
      ],
      "execution_count": 65,
      "outputs": [
        {
          "output_type": "execute_result",
          "data": {
            "text/plain": [
              "(1, 10)"
            ]
          },
          "metadata": {
            "tags": []
          },
          "execution_count": 65
        }
      ]
    },
    {
      "cell_type": "markdown",
      "metadata": {
        "id": "p5tZJfxtwDcd",
        "colab_type": "text"
      },
      "source": [
        "It returns 10 scores for per instance not just one"
      ]
    },
    {
      "cell_type": "code",
      "metadata": {
        "id": "DIc8o5MhwYQ4",
        "colab_type": "code",
        "colab": {
          "base_uri": "https://localhost:8080/",
          "height": 34
        },
        "outputId": "b54c804c-68d0-4215-fb51-810e7d8269d9"
      },
      "source": [
        "np.argmax(some_digit_scores)"
      ],
      "execution_count": 66,
      "outputs": [
        {
          "output_type": "execute_result",
          "data": {
            "text/plain": [
              "5"
            ]
          },
          "metadata": {
            "tags": []
          },
          "execution_count": 66
        }
      ]
    },
    {
      "cell_type": "code",
      "metadata": {
        "id": "z7mmJW3uwipX",
        "colab_type": "code",
        "colab": {
          "base_uri": "https://localhost:8080/",
          "height": 34
        },
        "outputId": "49c2c5d6-29dd-48d1-f429-560151f57a8f"
      },
      "source": [
        "svm_clf.classes_"
      ],
      "execution_count": 67,
      "outputs": [
        {
          "output_type": "execute_result",
          "data": {
            "text/plain": [
              "array([0, 1, 2, 3, 4, 5, 6, 7, 8, 9])"
            ]
          },
          "metadata": {
            "tags": []
          },
          "execution_count": 67
        }
      ]
    },
    {
      "cell_type": "code",
      "metadata": {
        "id": "bAPsCOYmwpW7",
        "colab_type": "code",
        "colab": {
          "base_uri": "https://localhost:8080/",
          "height": 34
        },
        "outputId": "f96ced14-494f-4e6e-9e8b-f05a78888405"
      },
      "source": [
        "svm_clf.classes_[np.argmax(some_digit_scores)]"
      ],
      "execution_count": 68,
      "outputs": [
        {
          "output_type": "execute_result",
          "data": {
            "text/plain": [
              "5"
            ]
          },
          "metadata": {
            "tags": []
          },
          "execution_count": 68
        }
      ]
    },
    {
      "cell_type": "markdown",
      "metadata": {
        "id": "ZqCKtvuDwwjg",
        "colab_type": "text"
      },
      "source": [
        "Scikit-Learn automatically runs OVO or OVR depending on the classification algorithm.\n",
        "\n",
        "We can force Scikit-Learn to use OVO(one versus one) or OVR (One versus Rest) classes"
      ]
    },
    {
      "cell_type": "code",
      "metadata": {
        "id": "icU7DYeAydGc",
        "colab_type": "code",
        "colab": {
          "base_uri": "https://localhost:8080/",
          "height": 136
        },
        "outputId": "4c7dbc12-3dc6-4232-8e83-cb048e7aec78"
      },
      "source": [
        "from sklearn.multiclass import OneVsRestClassifier\n",
        "ovr_clf = OneVsRestClassifier(SVC())\n",
        "ovr_clf.fit(X_train,y_train)"
      ],
      "execution_count": 69,
      "outputs": [
        {
          "output_type": "execute_result",
          "data": {
            "text/plain": [
              "OneVsRestClassifier(estimator=SVC(C=1.0, break_ties=False, cache_size=200,\n",
              "                                  class_weight=None, coef0=0.0,\n",
              "                                  decision_function_shape='ovr', degree=3,\n",
              "                                  gamma='scale', kernel='rbf', max_iter=-1,\n",
              "                                  probability=False, random_state=None,\n",
              "                                  shrinking=True, tol=0.001, verbose=False),\n",
              "                    n_jobs=None)"
            ]
          },
          "metadata": {
            "tags": []
          },
          "execution_count": 69
        }
      ]
    },
    {
      "cell_type": "code",
      "metadata": {
        "id": "J_Nc063mEK3c",
        "colab_type": "code",
        "colab": {
          "base_uri": "https://localhost:8080/",
          "height": 34
        },
        "outputId": "dca02641-24a1-43cb-ae83-3054d1dca8e2"
      },
      "source": [
        "ovr_clf.predict(X[0].reshape(1,-1))"
      ],
      "execution_count": 71,
      "outputs": [
        {
          "output_type": "execute_result",
          "data": {
            "text/plain": [
              "array([5])"
            ]
          },
          "metadata": {
            "tags": []
          },
          "execution_count": 71
        }
      ]
    },
    {
      "cell_type": "markdown",
      "metadata": {
        "id": "1PdV0_UnEmJL",
        "colab_type": "text"
      },
      "source": [
        "## Training an SGDClassifier or RandomClassifier is easy and scikit-learn did not have to run OVR or OVO because these classifiers can directly classify instances into multiple classes.\n",
        "\n",
        "#### The decision function method returns one value per class."
      ]
    },
    {
      "cell_type": "code",
      "metadata": {
        "id": "rrntgP21FX0S",
        "colab_type": "code",
        "colab": {}
      },
      "source": [
        ""
      ],
      "execution_count": 0,
      "outputs": []
    }
  ]
}