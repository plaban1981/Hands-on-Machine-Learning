{
  "nbformat": 4,
  "nbformat_minor": 0,
  "metadata": {
    "colab": {
      "name": "Classification_Technique.ipynb",
      "provenance": [],
      "authorship_tag": "ABX9TyOAS7yMkmbETj5VZq2IPRKe",
      "include_colab_link": true
    },
    "kernelspec": {
      "name": "python3",
      "display_name": "Python 3"
    },
    "accelerator": "GPU"
  },
  "cells": [
    {
      "cell_type": "markdown",
      "metadata": {
        "id": "view-in-github",
        "colab_type": "text"
      },
      "source": [
        "<a href=\"https://colab.research.google.com/github/plaban1981/Hands-on-Machine-Learning/blob/master/Classification_Technique.ipynb\" target=\"_parent\"><img src=\"https://colab.research.google.com/assets/colab-badge.svg\" alt=\"Open In Colab\"/></a>"
      ]
    },
    {
      "cell_type": "markdown",
      "metadata": {
        "id": "dJutsbXZ4v24",
        "colab_type": "text"
      },
      "source": [
        "## Download Mnist Dataset"
      ]
    },
    {
      "cell_type": "code",
      "metadata": {
        "id": "9dc5EQfa1UL9",
        "colab_type": "code",
        "colab": {
          "base_uri": "https://localhost:8080/",
          "height": 34
        },
        "outputId": "7cdaff11-6028-4f08-a7df-4453c29c3a13"
      },
      "source": [
        "from sklearn.datasets import fetch_openml\n",
        "mnist = fetch_openml('mnist_784',version=1)\n",
        "mnist.keys()"
      ],
      "execution_count": 2,
      "outputs": [
        {
          "output_type": "execute_result",
          "data": {
            "text/plain": [
              "dict_keys(['data', 'target', 'frame', 'feature_names', 'target_names', 'DESCR', 'details', 'categories', 'url'])"
            ]
          },
          "metadata": {
            "tags": []
          },
          "execution_count": 2
        }
      ]
    },
    {
      "cell_type": "code",
      "metadata": {
        "id": "ij9G9tIH40IE",
        "colab_type": "code",
        "colab": {}
      },
      "source": [
        "import sklearn\n",
        "m = sklearn.datasets.load_digits()"
      ],
      "execution_count": 0,
      "outputs": []
    },
    {
      "cell_type": "code",
      "metadata": {
        "id": "fZSFirnd5UUG",
        "colab_type": "code",
        "colab": {
          "base_uri": "https://localhost:8080/",
          "height": 34
        },
        "outputId": "1dfe38c1-f79b-40d9-9492-36112e0375f1"
      },
      "source": [
        "m.keys()"
      ],
      "execution_count": 4,
      "outputs": [
        {
          "output_type": "execute_result",
          "data": {
            "text/plain": [
              "dict_keys(['data', 'target', 'target_names', 'images', 'DESCR'])"
            ]
          },
          "metadata": {
            "tags": []
          },
          "execution_count": 4
        }
      ]
    },
    {
      "cell_type": "markdown",
      "metadata": {
        "id": "lnXQM_ZR5YuH",
        "colab_type": "text"
      },
      "source": [
        "## Separate Features and Labels"
      ]
    },
    {
      "cell_type": "code",
      "metadata": {
        "id": "8Dr8dJaH5brw",
        "colab_type": "code",
        "colab": {
          "base_uri": "https://localhost:8080/",
          "height": 52
        },
        "outputId": "122f4d0f-6b05-4f53-b980-ef75a5dfc362"
      },
      "source": [
        "X,y = mnist['data'],mnist['target']\n",
        "print(X.shape)\n",
        "print(y.shape)"
      ],
      "execution_count": 5,
      "outputs": [
        {
          "output_type": "stream",
          "text": [
            "(70000, 784)\n",
            "(70000,)\n"
          ],
          "name": "stdout"
        }
      ]
    },
    {
      "cell_type": "markdown",
      "metadata": {
        "id": "gGsvSXtr5tYm",
        "colab_type": "text"
      },
      "source": [
        "784 features ,each image 28 x 28 pixels"
      ]
    },
    {
      "cell_type": "code",
      "metadata": {
        "id": "C3lt30Bi5yi-",
        "colab_type": "code",
        "colab": {
          "base_uri": "https://localhost:8080/",
          "height": 247
        },
        "outputId": "01c1394e-1c83-49ef-e79b-4b72eb1b5a82"
      },
      "source": [
        "import matplotlib.pyplot as plt\n",
        "import matplotlib as mpl\n",
        "\n",
        "some_digit = X[27]\n",
        "some_digit_image = some_digit.reshape(28,28)\n",
        "\n",
        "plt.imshow(some_digit_image)\n",
        "plt.axis('off')\n",
        "plt.show()\n"
      ],
      "execution_count": 6,
      "outputs": [
        {
          "output_type": "display_data",
          "data": {
            "image/png": "[encoded data removed]",
            "text/plain": [
              "<Figure size 432x288 with 1 Axes>"
            ]
          },
          "metadata": {
            "tags": []
          }
        }
      ]
    },
    {
      "cell_type": "markdown",
      "metadata": {
        "id": "U8axX5qF6jPo",
        "colab_type": "text"
      },
      "source": [
        "## Train Split the sample data\n",
        "MNIST is already split into 60000 training samples and 10000 test samples\n",
        "\n",
        "Training set is already shuffled"
      ]
    },
    {
      "cell_type": "code",
      "metadata": {
        "id": "e67ri64Z6tny",
        "colab_type": "code",
        "colab": {
          "base_uri": "https://localhost:8080/",
          "height": 52
        },
        "outputId": "3bdbeb46-bf77-4bb8-96bf-871245d3b5ec"
      },
      "source": [
        "X_train,X_test,y_train,y_test = X[:60000],X[60000:],y[:60000],y[60000:]\n",
        "print(X_train.shape)\n",
        "print(X_test.shape)"
      ],
      "execution_count": 7,
      "outputs": [
        {
          "output_type": "stream",
          "text": [
            "(60000, 784)\n",
            "(10000, 784)\n"
          ],
          "name": "stdout"
        }
      ]
    },
    {
      "cell_type": "code",
      "metadata": {
        "id": "WL_MsPcj79_T",
        "colab_type": "code",
        "colab": {}
      },
      "source": [
        ""
      ],
      "execution_count": 0,
      "outputs": []
    },
    {
      "cell_type": "markdown",
      "metadata": {
        "id": "Y6FDg9d67Rk3",
        "colab_type": "text"
      },
      "source": [
        "## Training a Binary Classifier"
      ]
    },
    {
      "cell_type": "code",
      "metadata": {
        "id": "PlJwR2S48GIp",
        "colab_type": "code",
        "colab": {}
      },
      "source": [
        "import numpy as np"
      ],
      "execution_count": 0,
      "outputs": []
    },
    {
      "cell_type": "code",
      "metadata": {
        "id": "4vT57r6Y7Ul4",
        "colab_type": "code",
        "colab": {}
      },
      "source": [
        "y_train_5 = (y_train == 5)\n",
        "y_test_5 = (y_test == 5)"
      ],
      "execution_count": 0,
      "outputs": []
    },
    {
      "cell_type": "code",
      "metadata": {
        "id": "XUwglMhT-mct",
        "colab_type": "code",
        "colab": {
          "base_uri": "https://localhost:8080/",
          "height": 34
        },
        "outputId": "0cc39aea-4904-4fd4-8d5f-2e3c12034b8d"
      },
      "source": [
        "y_train_5"
      ],
      "execution_count": 10,
      "outputs": [
        {
          "output_type": "execute_result",
          "data": {
            "text/plain": [
              "array([False, False, False, ..., False, False, False])"
            ]
          },
          "metadata": {
            "tags": []
          },
          "execution_count": 10
        }
      ]
    },
    {
      "cell_type": "code",
      "metadata": {
        "id": "w7jV-0Tm-t5S",
        "colab_type": "code",
        "colab": {
          "base_uri": "https://localhost:8080/",
          "height": 34
        },
        "outputId": "70d210b7-01de-45f4-fd73-07210f04d2c5"
      },
      "source": [
        "X_train.shape"
      ],
      "execution_count": 11,
      "outputs": [
        {
          "output_type": "execute_result",
          "data": {
            "text/plain": [
              "(60000, 784)"
            ]
          },
          "metadata": {
            "tags": []
          },
          "execution_count": 11
        }
      ]
    },
    {
      "cell_type": "code",
      "metadata": {
        "id": "fkFU1arU7q7v",
        "colab_type": "code",
        "colab": {
          "base_uri": "https://localhost:8080/",
          "height": 282
        },
        "outputId": "35aad62c-0839-4b86-8eef-71aa53eac281"
      },
      "source": [
        "plt.imshow(X_train[np.argmax(y_train_5)].reshape(28,28))"
      ],
      "execution_count": 12,
      "outputs": [
        {
          "output_type": "execute_result",
          "data": {
            "text/plain": [
              "<matplotlib.image.AxesImage at 0x7f4723d2da20>"
            ]
          },
          "metadata": {
            "tags": []
          },
          "execution_count": 12
        },
        {
          "output_type": "display_data",
          "data": {
            "image/png": "[encoded data removed]",
            "text/plain": [
              "<Figure size 432x288 with 1 Axes>"
            ]
          },
          "metadata": {
            "tags": []
          }
        }
      ]
    },
    {
      "cell_type": "markdown",
      "metadata": {
        "id": "aIegjOXn827E",
        "colab_type": "text"
      },
      "source": [
        "## Stochastic Gradient Descent Classifier - This classifier has the capability of handling very large datasets efficiently.SGD deals with training instances independently - The number of classes has to be greater than one\n",
        "\n",
        "\n",
        "####SGDClassifier supports multi-class classification by combining multiple binary classifiers in a “one versus all” (OVA) scheme. For each of the classes, a binary classifier is learned that discriminates between that and all other classes."
      ]
    },
    {
      "cell_type": "code",
      "metadata": {
        "id": "Sl3W6zom9Uxm",
        "colab_type": "code",
        "colab": {
          "base_uri": "https://localhost:8080/",
          "height": 123
        },
        "outputId": "5883c181-e81e-446e-e84c-e82ae18beda9"
      },
      "source": [
        "from sklearn.linear_model import SGDClassifier\n",
        "sgd_clf = SGDClassifier(random_state=2)\n",
        "sgd_clf.fit(X_train,y_train)"
      ],
      "execution_count": 13,
      "outputs": [
        {
          "output_type": "execute_result",
          "data": {
            "text/plain": [
              "SGDClassifier(alpha=0.0001, average=False, class_weight=None,\n",
              "              early_stopping=False, epsilon=0.1, eta0=0.0, fit_intercept=True,\n",
              "              l1_ratio=0.15, learning_rate='optimal', loss='hinge',\n",
              "              max_iter=1000, n_iter_no_change=5, n_jobs=None, penalty='l2',\n",
              "              power_t=0.5, random_state=2, shuffle=True, tol=0.001,\n",
              "              validation_fraction=0.1, verbose=0, warm_start=False)"
            ]
          },
          "metadata": {
            "tags": []
          },
          "execution_count": 13
        }
      ]
    },
    {
      "cell_type": "code",
      "metadata": {
        "id": "P6bslI5OAnhE",
        "colab_type": "code",
        "colab": {}
      },
      "source": [
        "predictions = sgd_clf.predict(X_test)"
      ],
      "execution_count": 0,
      "outputs": []
    },
    {
      "cell_type": "code",
      "metadata": {
        "id": "Vy24qMpFA17k",
        "colab_type": "code",
        "colab": {
          "base_uri": "https://localhost:8080/",
          "height": 52
        },
        "outputId": "a191cf73-ae6b-4dcf-cb66-3e98ef917fa3"
      },
      "source": [
        "print(y_test[10])\n",
        "print(predictions[10])"
      ],
      "execution_count": 15,
      "outputs": [
        {
          "output_type": "stream",
          "text": [
            "0\n",
            "0\n"
          ],
          "name": "stdout"
        }
      ]
    },
    {
      "cell_type": "code",
      "metadata": {
        "id": "v4kYzHc5BBgR",
        "colab_type": "code",
        "colab": {
          "base_uri": "https://localhost:8080/",
          "height": 282
        },
        "outputId": "8bf1e4f9-4f71-477e-a60d-9bb72127d704"
      },
      "source": [
        "plt.imshow(X_test[10].reshape(28,28))"
      ],
      "execution_count": 16,
      "outputs": [
        {
          "output_type": "execute_result",
          "data": {
            "text/plain": [
              "<matplotlib.image.AxesImage at 0x7f4723790b00>"
            ]
          },
          "metadata": {
            "tags": []
          },
          "execution_count": 16
        },
        {
          "output_type": "display_data",
          "data": {
            "image/png": "[encoded data removed]",
            "text/plain": [
              "<Figure size 432x288 with 1 Axes>"
            ]
          },
          "metadata": {
            "tags": []
          }
        }
      ]
    },
    {
      "cell_type": "markdown",
      "metadata": {
        "id": "h6OHt9b1EGed",
        "colab_type": "text"
      },
      "source": [
        "##Performance Measures"
      ]
    },
    {
      "cell_type": "code",
      "metadata": {
        "id": "l7caPudCEKqZ",
        "colab_type": "code",
        "colab": {
          "base_uri": "https://localhost:8080/",
          "height": 34
        },
        "outputId": "52899cef-558f-45e0-eb27-bae376efd37e"
      },
      "source": [
        "from sklearn.metrics import accuracy_score\n",
        "print(accuracy_score(y_test,predictions))"
      ],
      "execution_count": 17,
      "outputs": [
        {
          "output_type": "stream",
          "text": [
            "0.7956\n"
          ],
          "name": "stdout"
        }
      ]
    },
    {
      "cell_type": "markdown",
      "metadata": {
        "id": "gdvtIv7EEYI1",
        "colab_type": "text"
      },
      "source": [
        "##Measuring Accuracy using Cross-Validation"
      ]
    },
    {
      "cell_type": "code",
      "metadata": {
        "id": "-zsBQkN-PwLv",
        "colab_type": "code",
        "colab": {
          "base_uri": "https://localhost:8080/",
          "height": 70
        },
        "outputId": "7d2a976c-3acb-4e18-d9b2-6709f8b96df4"
      },
      "source": [
        "from sklearn.model_selection import StratifiedKFold\n",
        "from sklearn.base import clone\n",
        "\n",
        "skfolds = StratifiedKFold(n_splits=3,random_state=23,shuffle=True)\n",
        "for train_index,test_index in skfolds.split(X_train,y_train):\n",
        "  clone_clf = clone(sgd_clf)\n",
        "  x_train_folds = X_train[train_index]\n",
        "  x_test_folds = X_train[test_index]\n",
        "  y_train_folds = y_train[train_index]\n",
        "  y_test_folds = y_train[test_index]\n",
        "  clone_clf.fit(x_train_folds,y_train_folds)\n",
        "  y_pred = clone_clf.predict(x_test_folds)\n",
        "  n_correct = sum(y_pred == y_test_folds)\n",
        "  print(f'accuracy of predictions {n_correct/len(y_pred)}')"
      ],
      "execution_count": 19,
      "outputs": [
        {
          "output_type": "stream",
          "text": [
            "accuracy of predictions 0.85795\n",
            "accuracy of predictions 0.87895\n",
            "accuracy of predictions 0.8882\n"
          ],
          "name": "stdout"
        }
      ]
    },
    {
      "cell_type": "markdown",
      "metadata": {
        "id": "6q70PrKKVWHe",
        "colab_type": "text"
      },
      "source": [
        "- The StartifiedKFold class performs stratified sampling to produce folds that contain a representative ratio of each class.\n",
        "- At each iteration the code creates a clone of the classifier\n",
        "- trains the clone on training folds and makes predictions on test folds.\n",
        "- then it counts the number of correct predictions and outputs the ratio of correct predictions."
      ]
    },
    {
      "cell_type": "markdown",
      "metadata": {
        "id": "gneZ7jlgYuu_",
        "colab_type": "text"
      },
      "source": [
        "## Use cross_val_score() function to evaluate SGDClassifier model using K-fold cross validation with 3 folds"
      ]
    },
    {
      "cell_type": "code",
      "metadata": {
        "id": "Fu00uNh8YT1D",
        "colab_type": "code",
        "colab": {
          "base_uri": "https://localhost:8080/",
          "height": 34
        },
        "outputId": "44a77faa-84d6-400b-8633-fde3f3fba6f0"
      },
      "source": [
        "from sklearn.model_selection import cross_val_score\n",
        "cross_val_score(sgd_clf,X_train,y_train,cv=3,scoring='accuracy')"
      ],
      "execution_count": 20,
      "outputs": [
        {
          "output_type": "execute_result",
          "data": {
            "text/plain": [
              "array([0.87355, 0.86865, 0.8742 ])"
            ]
          },
          "metadata": {
            "tags": []
          },
          "execution_count": 20
        }
      ]
    },
    {
      "cell_type": "markdown",
      "metadata": {
        "id": "STTRkO6VcgLq",
        "colab_type": "text"
      },
      "source": [
        "##DumbClassifier"
      ]
    },
    {
      "cell_type": "code",
      "metadata": {
        "id": "a2oMfhbgciwS",
        "colab_type": "code",
        "colab": {}
      },
      "source": [
        "from sklearn.base import BaseEstimator\n",
        "class dumbclassifier(BaseEstimator):\n",
        "  def fit(self,X,y=None):\n",
        "    pass\n",
        "  def predict(Self,X):\n",
        "    return np.zeros((len(X),1),dtype=bool)"
      ],
      "execution_count": 0,
      "outputs": []
    },
    {
      "cell_type": "code",
      "metadata": {
        "id": "0Pmcl39KgA0I",
        "colab_type": "code",
        "colab": {
          "base_uri": "https://localhost:8080/",
          "height": 34
        },
        "outputId": "c888865d-2a7e-41fc-8403-83947368d4fd"
      },
      "source": [
        "never_5_clf = dumbclassifier()\n",
        "cross_val_score(never_5_clf,X_train,y_train_5,cv=3,scoring='accuracy')"
      ],
      "execution_count": 24,
      "outputs": [
        {
          "output_type": "execute_result",
          "data": {
            "text/plain": [
              "array([1., 1., 1.])"
            ]
          },
          "metadata": {
            "tags": []
          },
          "execution_count": 24
        }
      ]
    },
    {
      "cell_type": "markdown",
      "metadata": {
        "id": "xk3Yfu-0gf8R",
        "colab_type": "text"
      },
      "source": [
        "#### The accuracy score is 1 i.e. 100% ,because only 10% of the images are 5, so the classifier will always guess that an image is not 5.\n",
        "\n",
        "Hence accuracy is generally not always the preferred performance measure for classifiers; especially when dealing with skewed datasets."
      ]
    },
    {
      "cell_type": "markdown",
      "metadata": {
        "id": "62CXLCXihPR9",
        "colab_type": "text"
      },
      "source": [
        "##Confusion Matrix\n",
        "\n",
        "A much better way to evaluate the performance of a classifier is to look at the confusion matrix.The general idea is to count the number of times instances of class A are classified as class B"
      ]
    },
    {
      "cell_type": "code",
      "metadata": {
        "id": "j6ii_kPyiumw",
        "colab_type": "code",
        "colab": {}
      },
      "source": [
        "from sklearn.model_selection import cross_val_predict\n",
        "y_train_pred = cross_val_predict(sgd_clf,X_train,y_train,cv=3)"
      ],
      "execution_count": 0,
      "outputs": []
    },
    {
      "cell_type": "code",
      "metadata": {
        "id": "ZGCi4Ll1mieP",
        "colab_type": "code",
        "colab": {
          "base_uri": "https://localhost:8080/",
          "height": 194
        },
        "outputId": "4dd078ce-5d0b-4b5e-e8c3-f5219cf7a0ec"
      },
      "source": [
        "from sklearn.metrics import confusion_matrix\n",
        "print(confusion_matrix(y_train,y_train_pred))"
      ],
      "execution_count": 26,
      "outputs": [
        {
          "output_type": "stream",
          "text": [
            "[[5647    2   68   13   11   46   48    9   71    8]\n",
            " [   2 6438   56   31    6   15   10   16  159    9]\n",
            " [  56   65 5119  200   71   25   72   76  250   24]\n",
            " [  23   24  213 5273   13  169   26   59  274   57]\n",
            " [  24   35   52   18 5190   28   51   41  136  267]\n",
            " [ 100   27   67  362   63 4098  134   32  463   75]\n",
            " [  41   19  173   24   49   89 5415    3  102    3]\n",
            " [  23   27   83   44   48   17    5 5791   57  170]\n",
            " [  50  197  116  354   45  210   35   37 4733   74]\n",
            " [  34   36   34  129  234   62    2  556  238 4624]]\n"
          ],
          "name": "stdout"
        }
      ]
    },
    {
      "cell_type": "code",
      "metadata": {
        "id": "i_H7Yn3Om44S",
        "colab_type": "code",
        "colab": {
          "base_uri": "https://localhost:8080/",
          "height": 34
        },
        "outputId": "50598737-129c-40da-c1a5-b97f09d4822a"
      },
      "source": [
        "y_train_perfect_predictions = y_train_5\n",
        "confusion_matrix(y_train_5,y_train_perfect_predictions)"
      ],
      "execution_count": 27,
      "outputs": [
        {
          "output_type": "execute_result",
          "data": {
            "text/plain": [
              "array([[60000]])"
            ]
          },
          "metadata": {
            "tags": []
          },
          "execution_count": 27
        }
      ]
    }
  ]
}