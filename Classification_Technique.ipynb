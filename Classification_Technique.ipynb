{
  "nbformat": 4,
  "nbformat_minor": 0,
  "metadata": {
    "colab": {
      "name": "Classification_Technique.ipynb",
      "provenance": [],
      "authorship_tag": "ABX9TyPLzQCTa3FQa2Rkf5qlyBs3",
      "include_colab_link": true
    },
    "kernelspec": {
      "name": "python3",
      "display_name": "Python 3"
    },
    "accelerator": "GPU"
  },
  "cells": [
    {
      "cell_type": "markdown",
      "metadata": {
        "id": "view-in-github",
        "colab_type": "text"
      },
      "source": [
        "<a href=\"https://colab.research.google.com/github/plaban1981/Hands-on-Machine-Learning/blob/master/Classification_Technique.ipynb\" target=\"_parent\"><img src=\"https://colab.research.google.com/assets/colab-badge.svg\" alt=\"Open In Colab\"/></a>"
      ]
    },
    {
      "cell_type": "markdown",
      "metadata": {
        "id": "dJutsbXZ4v24",
        "colab_type": "text"
      },
      "source": [
        "## Download Mnist Dataset"
      ]
    },
    {
      "cell_type": "code",
      "metadata": {
        "id": "9dc5EQfa1UL9",
        "colab_type": "code",
        "outputId": "26da22b5-af02-4921-88e8-038a1df2d92e",
        "colab": {
          "base_uri": "https://localhost:8080/",
          "height": 34
        }
      },
      "source": [
        "from sklearn.datasets import fetch_openml\n",
        "mnist = fetch_openml('mnist_784',version=1)\n",
        "mnist.keys()"
      ],
      "execution_count": 1,
      "outputs": [
        {
          "output_type": "execute_result",
          "data": {
            "text/plain": [
              "dict_keys(['data', 'target', 'frame', 'feature_names', 'target_names', 'DESCR', 'details', 'categories', 'url'])"
            ]
          },
          "metadata": {
            "tags": []
          },
          "execution_count": 1
        }
      ]
    },
    {
      "cell_type": "code",
      "metadata": {
        "id": "ij9G9tIH40IE",
        "colab_type": "code",
        "colab": {}
      },
      "source": [
        "import sklearn\n",
        "m = sklearn.datasets.load_digits()"
      ],
      "execution_count": 0,
      "outputs": []
    },
    {
      "cell_type": "code",
      "metadata": {
        "id": "fZSFirnd5UUG",
        "colab_type": "code",
        "outputId": "ebb9fc4f-9633-4507-c74f-95431616f61f",
        "colab": {
          "base_uri": "https://localhost:8080/",
          "height": 34
        }
      },
      "source": [
        "m.keys()"
      ],
      "execution_count": 3,
      "outputs": [
        {
          "output_type": "execute_result",
          "data": {
            "text/plain": [
              "dict_keys(['data', 'target', 'target_names', 'images', 'DESCR'])"
            ]
          },
          "metadata": {
            "tags": []
          },
          "execution_count": 3
        }
      ]
    },
    {
      "cell_type": "markdown",
      "metadata": {
        "id": "lnXQM_ZR5YuH",
        "colab_type": "text"
      },
      "source": [
        "## Separate Features and Labels"
      ]
    },
    {
      "cell_type": "code",
      "metadata": {
        "id": "8Dr8dJaH5brw",
        "colab_type": "code",
        "outputId": "53f11205-5577-4044-f6d0-43e504b6f7fd",
        "colab": {
          "base_uri": "https://localhost:8080/",
          "height": 51
        }
      },
      "source": [
        "X,y = mnist['data'],mnist['target']\n",
        "print(X.shape)\n",
        "print(y.shape)"
      ],
      "execution_count": 4,
      "outputs": [
        {
          "output_type": "stream",
          "text": [
            "(70000, 784)\n",
            "(70000,)\n"
          ],
          "name": "stdout"
        }
      ]
    },
    {
      "cell_type": "markdown",
      "metadata": {
        "id": "gGsvSXtr5tYm",
        "colab_type": "text"
      },
      "source": [
        "784 features ,each image 28 x 28 pixels"
      ]
    },
    {
      "cell_type": "code",
      "metadata": {
        "id": "C3lt30Bi5yi-",
        "colab_type": "code",
        "outputId": "e79fb140-30e4-4651-81dd-8b23ca655ea3",
        "colab": {
          "base_uri": "https://localhost:8080/",
          "height": 248
        }
      },
      "source": [
        "import matplotlib.pyplot as plt\n",
        "import matplotlib as mpl\n",
        "\n",
        "some_digit = X[27]\n",
        "some_digit_image = some_digit.reshape(28,28)\n",
        "\n",
        "plt.imshow(some_digit_image)\n",
        "plt.axis('off')\n",
        "plt.show()\n"
      ],
      "execution_count": 5,
      "outputs": [
        {
          "output_type": "display_data",
          "data": {
            "image/png": "[encoded data removed]",
            "text/plain": [
              "<Figure size 432x288 with 1 Axes>"
            ]
          },
          "metadata": {
            "tags": []
          }
        }
      ]
    },
    {
      "cell_type": "markdown",
      "metadata": {
        "id": "U8axX5qF6jPo",
        "colab_type": "text"
      },
      "source": [
        "## Train Split the sample data\n",
        "MNIST is already split into 60000 training samples and 10000 test samples\n",
        "\n",
        "Training set is already shuffled"
      ]
    },
    {
      "cell_type": "code",
      "metadata": {
        "id": "e67ri64Z6tny",
        "colab_type": "code",
        "outputId": "f2493cba-41a0-4819-e2f9-be97157ae6ce",
        "colab": {
          "base_uri": "https://localhost:8080/",
          "height": 51
        }
      },
      "source": [
        "X_train,X_test,y_train,y_test = X[:60000],X[60000:],y[:60000],y[60000:]\n",
        "print(X_train.shape)\n",
        "print(X_test.shape)"
      ],
      "execution_count": 6,
      "outputs": [
        {
          "output_type": "stream",
          "text": [
            "(60000, 784)\n",
            "(10000, 784)\n"
          ],
          "name": "stdout"
        }
      ]
    },
    {
      "cell_type": "code",
      "metadata": {
        "id": "WL_MsPcj79_T",
        "colab_type": "code",
        "colab": {}
      },
      "source": [
        ""
      ],
      "execution_count": 0,
      "outputs": []
    },
    {
      "cell_type": "markdown",
      "metadata": {
        "id": "Y6FDg9d67Rk3",
        "colab_type": "text"
      },
      "source": [
        "## Training a Binary Classifier"
      ]
    },
    {
      "cell_type": "code",
      "metadata": {
        "id": "PlJwR2S48GIp",
        "colab_type": "code",
        "colab": {}
      },
      "source": [
        "import numpy as np"
      ],
      "execution_count": 0,
      "outputs": []
    },
    {
      "cell_type": "code",
      "metadata": {
        "id": "4vT57r6Y7Ul4",
        "colab_type": "code",
        "colab": {}
      },
      "source": [
        "y_train_5 = (y_train == 5)\n",
        "y_test_5 = (y_test == 5)"
      ],
      "execution_count": 0,
      "outputs": []
    },
    {
      "cell_type": "code",
      "metadata": {
        "id": "XUwglMhT-mct",
        "colab_type": "code",
        "outputId": "31a80370-9c90-4b1b-d722-a272074cf2c2",
        "colab": {
          "base_uri": "https://localhost:8080/",
          "height": 34
        }
      },
      "source": [
        "y_train_5"
      ],
      "execution_count": 9,
      "outputs": [
        {
          "output_type": "execute_result",
          "data": {
            "text/plain": [
              "array([False, False, False, ..., False, False, False])"
            ]
          },
          "metadata": {
            "tags": []
          },
          "execution_count": 9
        }
      ]
    },
    {
      "cell_type": "code",
      "metadata": {
        "id": "w7jV-0Tm-t5S",
        "colab_type": "code",
        "outputId": "13504555-5c8f-4ef4-aa10-2a963fc0038d",
        "colab": {
          "base_uri": "https://localhost:8080/",
          "height": 34
        }
      },
      "source": [
        "X_train.shape"
      ],
      "execution_count": 10,
      "outputs": [
        {
          "output_type": "execute_result",
          "data": {
            "text/plain": [
              "(60000, 784)"
            ]
          },
          "metadata": {
            "tags": []
          },
          "execution_count": 10
        }
      ]
    },
    {
      "cell_type": "code",
      "metadata": {
        "id": "fkFU1arU7q7v",
        "colab_type": "code",
        "outputId": "27490819-6d72-40c7-a58e-5232418e6221",
        "colab": {
          "base_uri": "https://localhost:8080/",
          "height": 282
        }
      },
      "source": [
        "plt.imshow(X_train[np.argmax(y_train_5)].reshape(28,28))"
      ],
      "execution_count": 11,
      "outputs": [
        {
          "output_type": "execute_result",
          "data": {
            "text/plain": [
              "<matplotlib.image.AxesImage at 0x7f2068ba0b70>"
            ]
          },
          "metadata": {
            "tags": []
          },
          "execution_count": 11
        },
        {
          "output_type": "display_data",
          "data": {
            "image/png": "[encoded data removed]",
            "text/plain": [
              "<Figure size 432x288 with 1 Axes>"
            ]
          },
          "metadata": {
            "tags": []
          }
        }
      ]
    },
    {
      "cell_type": "markdown",
      "metadata": {
        "id": "aIegjOXn827E",
        "colab_type": "text"
      },
      "source": [
        "## Stochastic Gradient Descent Classifier - This classifier has the capability of handling very large datasets efficiently.SGD deals with training instances independently - The number of classes has to be greater than one\n",
        "\n",
        "\n",
        "####SGDClassifier supports multi-class classification by combining multiple binary classifiers in a “one versus all” (OVA) scheme. For each of the classes, a binary classifier is learned that discriminates between that and all other classes."
      ]
    },
    {
      "cell_type": "code",
      "metadata": {
        "id": "Sl3W6zom9Uxm",
        "colab_type": "code",
        "outputId": "69342461-7b2d-4d45-c6b9-97063166eb05",
        "colab": {
          "base_uri": "https://localhost:8080/",
          "height": 119
        }
      },
      "source": [
        "from sklearn.linear_model import SGDClassifier\n",
        "sgd_clf = SGDClassifier(random_state=2)\n",
        "sgd_clf.fit(X_train,y_train)"
      ],
      "execution_count": 12,
      "outputs": [
        {
          "output_type": "execute_result",
          "data": {
            "text/plain": [
              "SGDClassifier(alpha=0.0001, average=False, class_weight=None,\n",
              "              early_stopping=False, epsilon=0.1, eta0=0.0, fit_intercept=True,\n",
              "              l1_ratio=0.15, learning_rate='optimal', loss='hinge',\n",
              "              max_iter=1000, n_iter_no_change=5, n_jobs=None, penalty='l2',\n",
              "              power_t=0.5, random_state=2, shuffle=True, tol=0.001,\n",
              "              validation_fraction=0.1, verbose=0, warm_start=False)"
            ]
          },
          "metadata": {
            "tags": []
          },
          "execution_count": 12
        }
      ]
    },
    {
      "cell_type": "code",
      "metadata": {
        "id": "P6bslI5OAnhE",
        "colab_type": "code",
        "colab": {}
      },
      "source": [
        "predictions = sgd_clf.predict(X_test)"
      ],
      "execution_count": 0,
      "outputs": []
    },
    {
      "cell_type": "code",
      "metadata": {
        "id": "Vy24qMpFA17k",
        "colab_type": "code",
        "outputId": "aa097ef7-26ec-4b44-c135-8f3a6549386e",
        "colab": {
          "base_uri": "https://localhost:8080/",
          "height": 51
        }
      },
      "source": [
        "print(y_test[10])\n",
        "print(predictions[10])"
      ],
      "execution_count": 14,
      "outputs": [
        {
          "output_type": "stream",
          "text": [
            "0\n",
            "0\n"
          ],
          "name": "stdout"
        }
      ]
    },
    {
      "cell_type": "code",
      "metadata": {
        "id": "v4kYzHc5BBgR",
        "colab_type": "code",
        "outputId": "39dc90bf-d016-4833-f272-03c7eb34ca4b",
        "colab": {
          "base_uri": "https://localhost:8080/",
          "height": 282
        }
      },
      "source": [
        "plt.imshow(X_test[10].reshape(28,28))"
      ],
      "execution_count": 15,
      "outputs": [
        {
          "output_type": "execute_result",
          "data": {
            "text/plain": [
              "<matplotlib.image.AxesImage at 0x7f20685286a0>"
            ]
          },
          "metadata": {
            "tags": []
          },
          "execution_count": 15
        },
        {
          "output_type": "display_data",
          "data": {
            "image/png": "[encoded data removed]",
            "text/plain": [
              "<Figure size 432x288 with 1 Axes>"
            ]
          },
          "metadata": {
            "tags": []
          }
        }
      ]
    },
    {
      "cell_type": "markdown",
      "metadata": {
        "id": "h6OHt9b1EGed",
        "colab_type": "text"
      },
      "source": [
        "##Performance Measures"
      ]
    },
    {
      "cell_type": "code",
      "metadata": {
        "id": "l7caPudCEKqZ",
        "colab_type": "code",
        "outputId": "8370c732-02f2-4c8a-d3d0-515e39f1641d",
        "colab": {
          "base_uri": "https://localhost:8080/",
          "height": 34
        }
      },
      "source": [
        "from sklearn.metrics import accuracy_score\n",
        "print(accuracy_score(y_test,predictions))"
      ],
      "execution_count": 16,
      "outputs": [
        {
          "output_type": "stream",
          "text": [
            "0.7956\n"
          ],
          "name": "stdout"
        }
      ]
    },
    {
      "cell_type": "markdown",
      "metadata": {
        "id": "gdvtIv7EEYI1",
        "colab_type": "text"
      },
      "source": [
        "##Measuring Accuracy using Cross-Validation"
      ]
    },
    {
      "cell_type": "code",
      "metadata": {
        "id": "-zsBQkN-PwLv",
        "colab_type": "code",
        "outputId": "f6cace0f-bfe4-41c4-dadb-10d768386a45",
        "colab": {
          "base_uri": "https://localhost:8080/",
          "height": 68
        }
      },
      "source": [
        "from sklearn.model_selection import StratifiedKFold\n",
        "from sklearn.base import clone\n",
        "\n",
        "skfolds = StratifiedKFold(n_splits=3,random_state=23,shuffle=True)\n",
        "for train_index,test_index in skfolds.split(X_train,y_train):\n",
        "  clone_clf = clone(sgd_clf)\n",
        "  x_train_folds = X_train[train_index]\n",
        "  x_test_folds = X_train[test_index]\n",
        "  y_train_folds = y_train[train_index]\n",
        "  y_test_folds = y_train[test_index]\n",
        "  clone_clf.fit(x_train_folds,y_train_folds)\n",
        "  y_pred = clone_clf.predict(x_test_folds)\n",
        "  n_correct = sum(y_pred == y_test_folds)\n",
        "  print(f'accuracy of predictions {n_correct/len(y_pred)}')"
      ],
      "execution_count": 17,
      "outputs": [
        {
          "output_type": "stream",
          "text": [
            "accuracy of predictions 0.85795\n",
            "accuracy of predictions 0.87895\n",
            "accuracy of predictions 0.8882\n"
          ],
          "name": "stdout"
        }
      ]
    },
    {
      "cell_type": "markdown",
      "metadata": {
        "id": "1o-6JN9TXDVz",
        "colab_type": "text"
      },
      "source": [
        "##Using StratifiedShuffleSplit"
      ]
    },
    {
      "cell_type": "code",
      "metadata": {
        "id": "5D9u8CHBXw2U",
        "colab_type": "code",
        "colab": {
          "base_uri": "https://localhost:8080/",
          "height": 102
        },
        "outputId": "3d0adbe5-396c-4bbd-9e98-f87f54f2bfb2"
      },
      "source": [
        "from sklearn.model_selection import StratifiedShuffleSplit\n",
        "split = StratifiedShuffleSplit(n_splits=5,test_size=0.2,random_state=1)\n",
        "for train_index,test_index in split.split(X,y):\n",
        "  strat_x_train = X[train_index]\n",
        "  strat_y_train = y[train_index]\n",
        "  strat_x_test =  X[test_index]\n",
        "  strat_y_test = y[test_index]\n",
        "  clone_clf.fit(strat_x_train,strat_y_train)\n",
        "  strat_y_pred = clone_clf.predict(strat_x_test)\n",
        "  n_correct = sum(strat_y_pred == strat_y_test)\n",
        "  print(f'accuracy of predictions {n_correct/len(strat_y_pred)}')"
      ],
      "execution_count": 77,
      "outputs": [
        {
          "output_type": "stream",
          "text": [
            "accuracy of predictions 0.8806428571428572\n",
            "accuracy of predictions 0.8927142857142857\n",
            "accuracy of predictions 0.8669285714285714\n",
            "accuracy of predictions 0.8762857142857143\n",
            "accuracy of predictions 0.8874285714285715\n"
          ],
          "name": "stdout"
        }
      ]
    },
    {
      "cell_type": "markdown",
      "metadata": {
        "id": "6q70PrKKVWHe",
        "colab_type": "text"
      },
      "source": [
        "- The StartifiedKFold class performs stratified sampling to produce folds that contain a representative ratio of each class.\n",
        "- At each iteration the code creates a clone of the classifier\n",
        "- trains the clone on training folds and makes predictions on test folds.\n",
        "- then it counts the number of correct predictions and outputs the ratio of correct predictions."
      ]
    },
    {
      "cell_type": "markdown",
      "metadata": {
        "id": "gneZ7jlgYuu_",
        "colab_type": "text"
      },
      "source": [
        "## Use cross_val_score() function to evaluate SGDClassifier model using K-fold cross validation with 3 folds"
      ]
    },
    {
      "cell_type": "code",
      "metadata": {
        "id": "Fu00uNh8YT1D",
        "colab_type": "code",
        "outputId": "5487f868-ffff-4607-9a87-8892251e2e5a",
        "colab": {
          "base_uri": "https://localhost:8080/",
          "height": 34
        }
      },
      "source": [
        "from sklearn.model_selection import cross_val_score\n",
        "cross_val_score(sgd_clf,X_train,y_train,cv=3,scoring='accuracy')"
      ],
      "execution_count": 18,
      "outputs": [
        {
          "output_type": "execute_result",
          "data": {
            "text/plain": [
              "array([0.87355, 0.86865, 0.8742 ])"
            ]
          },
          "metadata": {
            "tags": []
          },
          "execution_count": 18
        }
      ]
    },
    {
      "cell_type": "markdown",
      "metadata": {
        "id": "STTRkO6VcgLq",
        "colab_type": "text"
      },
      "source": [
        "##DumbClassifier"
      ]
    },
    {
      "cell_type": "code",
      "metadata": {
        "id": "a2oMfhbgciwS",
        "colab_type": "code",
        "colab": {}
      },
      "source": [
        "from sklearn.base import BaseEstimator\n",
        "class dumbclassifier(BaseEstimator):\n",
        "  def fit(self,X,y=None):\n",
        "    pass\n",
        "  def predict(Self,X):\n",
        "    return np.zeros((len(X),1),dtype=bool)"
      ],
      "execution_count": 0,
      "outputs": []
    },
    {
      "cell_type": "code",
      "metadata": {
        "id": "0Pmcl39KgA0I",
        "colab_type": "code",
        "outputId": "bf129888-e7e2-44be-f380-16110912dfb6",
        "colab": {
          "base_uri": "https://localhost:8080/",
          "height": 34
        }
      },
      "source": [
        "never_5_clf = dumbclassifier()\n",
        "cross_val_score(never_5_clf,X_train,y_train_5,cv=3,scoring='accuracy')"
      ],
      "execution_count": 20,
      "outputs": [
        {
          "output_type": "execute_result",
          "data": {
            "text/plain": [
              "array([1., 1., 1.])"
            ]
          },
          "metadata": {
            "tags": []
          },
          "execution_count": 20
        }
      ]
    },
    {
      "cell_type": "markdown",
      "metadata": {
        "id": "xk3Yfu-0gf8R",
        "colab_type": "text"
      },
      "source": [
        "#### The accuracy score is 1 i.e. 100% ,because only 10% of the images are 5, so the classifier will always guess that an image is not 5.\n",
        "\n",
        "Hence accuracy is generally not always the preferred performance measure for classifiers; especially when dealing with skewed datasets."
      ]
    },
    {
      "cell_type": "markdown",
      "metadata": {
        "id": "62CXLCXihPR9",
        "colab_type": "text"
      },
      "source": [
        "##Confusion Matrix\n",
        "\n",
        "A much better way to evaluate the performance of a classifier is to look at the confusion matrix.The general idea is to count the number of times instances of class A are classified as class B"
      ]
    },
    {
      "cell_type": "code",
      "metadata": {
        "id": "j6ii_kPyiumw",
        "colab_type": "code",
        "colab": {}
      },
      "source": [
        "from sklearn.model_selection import cross_val_predict\n",
        "y_train_pred = cross_val_predict(sgd_clf,X_train,y_train,cv=3)"
      ],
      "execution_count": 0,
      "outputs": []
    },
    {
      "cell_type": "markdown",
      "metadata": {
        "id": "cZY3Uc0LCbzb",
        "colab_type": "text"
      },
      "source": [
        "#### Note :\n",
        "Just like cross_val_score() function, the cross_val_predict() function performs K_fold cross validation but instead of returning evaluation scores,it returmns predictions on each test fold"
      ]
    },
    {
      "cell_type": "code",
      "metadata": {
        "id": "ZGCi4Ll1mieP",
        "colab_type": "code",
        "outputId": "6e9df17f-4f3e-4483-88bf-e46d39074fa3",
        "colab": {
          "base_uri": "https://localhost:8080/",
          "height": 0
        }
      },
      "source": [
        "from sklearn.metrics import confusion_matrix\n",
        "print(confusion_matrix(y_train,y_train_pred))"
      ],
      "execution_count": 22,
      "outputs": [
        {
          "output_type": "stream",
          "text": [
            "[[5647    2   68   13   11   46   48    9   71    8]\n",
            " [   2 6438   56   31    6   15   10   16  159    9]\n",
            " [  56   65 5119  200   71   25   72   76  250   24]\n",
            " [  23   24  213 5273   13  169   26   59  274   57]\n",
            " [  24   35   52   18 5190   28   51   41  136  267]\n",
            " [ 100   27   67  362   63 4098  134   32  463   75]\n",
            " [  41   19  173   24   49   89 5415    3  102    3]\n",
            " [  23   27   83   44   48   17    5 5791   57  170]\n",
            " [  50  197  116  354   45  210   35   37 4733   74]\n",
            " [  34   36   34  129  234   62    2  556  238 4624]]\n"
          ],
          "name": "stdout"
        }
      ]
    },
    {
      "cell_type": "markdown",
      "metadata": {
        "id": "dniNwNjPLENj",
        "colab_type": "text"
      },
      "source": [
        "## Tryin a classification model to predict label as 5 or not 5"
      ]
    },
    {
      "cell_type": "code",
      "metadata": {
        "id": "cnMecFSiSC3R",
        "colab_type": "code",
        "colab": {}
      },
      "source": [
        "y = y.astype(int)"
      ],
      "execution_count": 0,
      "outputs": []
    },
    {
      "cell_type": "code",
      "metadata": {
        "id": "ESLunRvrSIM3",
        "colab_type": "code",
        "outputId": "c4d9bfe5-9ab0-408f-99e3-c0e52e391ed5",
        "colab": {
          "base_uri": "https://localhost:8080/",
          "height": 34
        }
      },
      "source": [
        "y"
      ],
      "execution_count": 24,
      "outputs": [
        {
          "output_type": "execute_result",
          "data": {
            "text/plain": [
              "array([5, 0, 4, ..., 4, 5, 6])"
            ]
          },
          "metadata": {
            "tags": []
          },
          "execution_count": 24
        }
      ]
    },
    {
      "cell_type": "code",
      "metadata": {
        "id": "twZMJLoQPDjv",
        "colab_type": "code",
        "colab": {}
      },
      "source": [
        "from sklearn.model_selection import StratifiedShuffleSplit\n",
        "split = StratifiedShuffleSplit(n_splits=1,test_size=0.2,random_state=2)\n",
        "for train_index,test_index in split.split(X,y):\n",
        "  X_train = X[train_index]\n",
        "  X_test = X[test_index]\n",
        "  y_train = y[train_index]\n",
        "  y_test = y[test_index]"
      ],
      "execution_count": 0,
      "outputs": []
    },
    {
      "cell_type": "code",
      "metadata": {
        "id": "TavBBIkGKbcp",
        "colab_type": "code",
        "colab": {}
      },
      "source": [
        "y_train_5 = (y_train == 5) #true for all 5s and false for rest of the digits\n",
        "y_test_5 = (y_test == 5 )"
      ],
      "execution_count": 0,
      "outputs": []
    },
    {
      "cell_type": "markdown",
      "metadata": {
        "id": "3AJIAbI_LjS5",
        "colab_type": "text"
      },
      "source": [
        "## Build a Classifier for the same "
      ]
    },
    {
      "cell_type": "code",
      "metadata": {
        "id": "WS9476a2LhqQ",
        "colab_type": "code",
        "colab": {}
      },
      "source": [
        "from sklearn.base import BaseEstimator\n",
        "class Never5Classifier(BaseEstimator):\n",
        "  def fit(self,x,y=None):\n",
        "    pass\n",
        "  def predict(self,x):\n",
        "    return np.zeros((len(x),1),dtype=bool)"
      ],
      "execution_count": 0,
      "outputs": []
    },
    {
      "cell_type": "code",
      "metadata": {
        "id": "yXXlqkb9MIW7",
        "colab_type": "code",
        "outputId": "e2126fba-eff9-4f2a-b7f7-417fcc7b07e5",
        "colab": {
          "base_uri": "https://localhost:8080/",
          "height": 34
        }
      },
      "source": [
        "never5_clf = Never5Classifier()\n",
        "cross_val_score(never5_clf,X_train,y_train_5,cv=5,scoring='accuracy')"
      ],
      "execution_count": 28,
      "outputs": [
        {
          "output_type": "execute_result",
          "data": {
            "text/plain": [
              "array([0.91125   , 0.90964286, 0.90803571, 0.90901786, 0.91116071])"
            ]
          },
          "metadata": {
            "tags": []
          },
          "execution_count": 28
        }
      ]
    },
    {
      "cell_type": "code",
      "metadata": {
        "id": "35_uKMhENGZu",
        "colab_type": "code",
        "outputId": "071a9848-0885-47db-b8d3-d05cfdcaa18d",
        "colab": {
          "base_uri": "https://localhost:8080/",
          "height": 34
        }
      },
      "source": [
        "np.unique(y_train_5),np.unique(y_test_5)"
      ],
      "execution_count": 29,
      "outputs": [
        {
          "output_type": "execute_result",
          "data": {
            "text/plain": [
              "(array([False,  True]), array([False,  True]))"
            ]
          },
          "metadata": {
            "tags": []
          },
          "execution_count": 29
        }
      ]
    },
    {
      "cell_type": "code",
      "metadata": {
        "id": "3aR3vNVWMnSK",
        "colab_type": "code",
        "colab": {}
      },
      "source": [
        "y_train_5_predict = cross_val_predict(sgd_clf,X_train,y_train_5,cv=5)"
      ],
      "execution_count": 0,
      "outputs": []
    },
    {
      "cell_type": "markdown",
      "metadata": {
        "id": "EqlaGgCJSxcs",
        "colab_type": "text"
      },
      "source": [
        "##Confusion Matrix"
      ]
    },
    {
      "cell_type": "code",
      "metadata": {
        "id": "YD5tWCS6S-3I",
        "colab_type": "code",
        "outputId": "cfc1ef0f-4b92-4f6b-f4e7-31a0f10241f6",
        "colab": {
          "base_uri": "https://localhost:8080/",
          "height": 51
        }
      },
      "source": [
        "confusion_matrix(y_train_5,y_train_5_predict)"
      ],
      "execution_count": 31,
      "outputs": [
        {
          "output_type": "execute_result",
          "data": {
            "text/plain": [
              "array([[50453,   497],\n",
              "       [ 1770,  3280]])"
            ]
          },
          "metadata": {
            "tags": []
          },
          "execution_count": 31
        }
      ]
    },
    {
      "cell_type": "code",
      "metadata": {
        "id": "LWw0ztN0U2U2",
        "colab_type": "code",
        "outputId": "225f4000-fcab-45b6-cb54-b01ae9253bd0",
        "colab": {
          "base_uri": "https://localhost:8080/",
          "height": 298
        }
      },
      "source": [
        "import matplotlib.pyplot as plt\n",
        "import seaborn as sns\n",
        "%matplotlib inline\n",
        "cf  = confusion_matrix(y_train_5,y_train_5_predict)\n",
        "sns.heatmap(cf,annot=True,fmt='g',xticklabels=['5','Not 5'],yticklabels=['5','Not 5'])\n",
        "plt.xlabel('Predicted Values')\n",
        "plt.ylabel('Actual Values')"
      ],
      "execution_count": 32,
      "outputs": [
        {
          "output_type": "execute_result",
          "data": {
            "text/plain": [
              "Text(33.0, 0.5, 'Actual Values')"
            ]
          },
          "metadata": {
            "tags": []
          },
          "execution_count": 32
        },
        {
          "output_type": "display_data",
          "data": {
            "image/png": "[encoded data removed]",
            "text/plain": [
              "<Figure size 432x288 with 2 Axes>"
            ]
          },
          "metadata": {
            "tags": []
          }
        }
      ]
    },
    {
      "cell_type": "markdown",
      "metadata": {
        "id": "Yhns6HoFTymb",
        "colab_type": "text"
      },
      "source": [
        "#### A perfect classifier will have only True positives and true negatives. So the confusion matrix would have non zero values only in its main  diagonal"
      ]
    },
    {
      "cell_type": "code",
      "metadata": {
        "id": "_6mNlnHUajw8",
        "colab_type": "code",
        "outputId": "721070ec-5156-4342-8733-3cb4332cc289",
        "colab": {
          "base_uri": "https://localhost:8080/",
          "height": 296
        }
      },
      "source": [
        "y_train_perfect_predictions = y_train_5\n",
        "cf  = confusion_matrix(y_train_5,y_train_perfect_predictions)\n",
        "sns.heatmap(cf,annot=True,fmt='g',xticklabels=['5','Not 5'],yticklabels=['5','Not 5'])\n",
        "plt.xlabel('Predicted Values')\n",
        "plt.ylabel('Actual Values')"
      ],
      "execution_count": 33,
      "outputs": [
        {
          "output_type": "execute_result",
          "data": {
            "text/plain": [
              "Text(33.0, 0.5, 'Actual Values')"
            ]
          },
          "metadata": {
            "tags": []
          },
          "execution_count": 33
        },
        {
          "output_type": "display_data",
          "data": {
            "image/png": "[encoded data removed]",
            "text/plain": [
              "<Figure size 432x288 with 2 Axes>"
            ]
          },
          "metadata": {
            "tags": []
          }
        }
      ]
    },
    {
      "cell_type": "markdown",
      "metadata": {
        "id": "DOZW_RACa3se",
        "colab_type": "text"
      },
      "source": [
        "## Confusion Matix gives the following details\n",
        "* positive predictions \n",
        "         precision = (True Positive) / (True Positive + False Positive)\n",
        "\n",
        "* Ratio of positive instances that are correctly detected by the classifier\n",
        "        recall / True Positive Rate/ sensitivity = \n",
        "                          (True Positive) / (True Positive + False Negative)\n",
        "\n",
        "* F1 Score\n",
        "         F1 score is the harmonic mean of precision and recall.\n",
        "         Regular Mean treats all values equally where as the harmonic mean\n",
        "         gives more weightage to low values.As a result classifier will get a \n",
        "         F1 Score when both precision and recall are high.\n",
        "\n",
        "         F1 Score = 2 / ( 1/ precision + 1/recall)\n"
      ]
    },
    {
      "cell_type": "code",
      "metadata": {
        "id": "PVZQ_uCTgIWg",
        "colab_type": "code",
        "outputId": "84076731-c122-4ced-feda-786bc3df13a0",
        "colab": {
          "base_uri": "https://localhost:8080/",
          "height": 68
        }
      },
      "source": [
        "from sklearn.metrics import precision_score,recall_score,f1_score\n",
        "print(f' Precision :{precision_score(y_train_5,y_train_5_predict)}')\n",
        "print(f' Recall :{recall_score(y_train_5,y_train_5_predict)}')\n",
        "print(f' F1 Score :{f1_score(y_train_5,y_train_5_predict)}')"
      ],
      "execution_count": 34,
      "outputs": [
        {
          "output_type": "stream",
          "text": [
            " Precision :0.8684140852528461\n",
            " Recall :0.6495049504950495\n",
            " F1 Score :0.7431743514217741\n"
          ],
          "name": "stdout"
        }
      ]
    },
    {
      "cell_type": "markdown",
      "metadata": {
        "id": "DQWD1h3pjlfK",
        "colab_type": "text"
      },
      "source": [
        "## Precision / Recall Trade off\n",
        "\n",
        "The F1 Score favovrs classifiers that have similar precision and Recall.\n",
        "But this is not really possible always. In some context we want a high recall while we care about a good precision.\n",
        "\n",
        "Example:\n",
        "* 1 \n",
        "\n",
        "If we want to build a classifier to detect safe vieos for kids, in that case we will look for a high precision(keep only safe videos) and ignore recall (that is reject many good videos)\n",
        "\n",
        "* 2\n",
        "\n",
        "In a scenario where we want to build a classifier to detect shoplifters in survelliance images, in that scenario we are more concerned about recall (all possible cases, a few false alarms) than precision.\n",
        "\n",
        "Increasing precision reduces recall and vice versa . This is called precision/recall trade off.\n",
        "\n"
      ]
    },
    {
      "cell_type": "markdown",
      "metadata": {
        "id": "DIQQuhYJrR9h",
        "colab_type": "text"
      },
      "source": [
        "##SGD Classifier\n",
        "\n",
        "This classifier makes its classification decision for each instance by computing a score bassed on decision function.\n",
        "\n",
        "If the  score is greater than a threshold it assigns the instance to a positive class otherwise it assigns the instance to a negative class.\n",
        "\n",
        "The higher the threshold the lower the recall and higher the precision.\n",
        "\n",
        "Scikit Learn does not let to set a threshold but allows access to decision scores that is used to make predictions"
      ]
    },
    {
      "cell_type": "code",
      "metadata": {
        "id": "dQKnaQw2tEom",
        "colab_type": "code",
        "outputId": "b3f22fe6-639e-4314-c156-f956ef4a1efb",
        "colab": {
          "base_uri": "https://localhost:8080/",
          "height": 34
        }
      },
      "source": [
        "X.shape"
      ],
      "execution_count": 35,
      "outputs": [
        {
          "output_type": "execute_result",
          "data": {
            "text/plain": [
              "(70000, 784)"
            ]
          },
          "metadata": {
            "tags": []
          },
          "execution_count": 35
        }
      ]
    },
    {
      "cell_type": "code",
      "metadata": {
        "id": "SgrpMVj2tIUM",
        "colab_type": "code",
        "outputId": "90056962-5036-4a5c-f6dd-5d20f0c86dc8",
        "colab": {
          "base_uri": "https://localhost:8080/",
          "height": 282
        }
      },
      "source": [
        "plt.imshow(X[0].reshape(28,28))"
      ],
      "execution_count": 36,
      "outputs": [
        {
          "output_type": "execute_result",
          "data": {
            "text/plain": [
              "<matplotlib.image.AxesImage at 0x7f2061d67710>"
            ]
          },
          "metadata": {
            "tags": []
          },
          "execution_count": 36
        },
        {
          "output_type": "display_data",
          "data": {
            "image/png": "[encoded data removed]",
            "text/plain": [
              "<Figure size 432x288 with 1 Axes>"
            ]
          },
          "metadata": {
            "tags": []
          }
        }
      ]
    },
    {
      "cell_type": "code",
      "metadata": {
        "id": "nz5-0oQNsvVj",
        "colab_type": "code",
        "colab": {}
      },
      "source": [
        "y_scores = sgd_clf.decision_function([X[0]])"
      ],
      "execution_count": 0,
      "outputs": []
    },
    {
      "cell_type": "code",
      "metadata": {
        "id": "IqNFHSzOs3bk",
        "colab_type": "code",
        "outputId": "5226af12-2d35-42f6-9f65-e4cb011c543e",
        "colab": {
          "base_uri": "https://localhost:8080/",
          "height": 85
        }
      },
      "source": [
        "y_scores"
      ],
      "execution_count": 38,
      "outputs": [
        {
          "output_type": "execute_result",
          "data": {
            "text/plain": [
              "array([[-22376.559667  , -26989.54155815, -11851.1746418 ,\n",
              "          1667.92496176, -19957.88593125,   5552.66268216,\n",
              "        -20262.80835543,  -7659.54552565, -20069.90185718,\n",
              "        -12726.61021683]])"
            ]
          },
          "metadata": {
            "tags": []
          },
          "execution_count": 38
        }
      ]
    },
    {
      "cell_type": "code",
      "metadata": {
        "id": "PWHJb0zGtdgJ",
        "colab_type": "code",
        "outputId": "dbf28f49-cc0f-437e-9c20-be41363d0c65",
        "colab": {
          "base_uri": "https://localhost:8080/",
          "height": 51
        }
      },
      "source": [
        "threshold  = 0\n",
        "y_scores > threshold"
      ],
      "execution_count": 39,
      "outputs": [
        {
          "output_type": "execute_result",
          "data": {
            "text/plain": [
              "array([[False, False, False,  True, False,  True, False, False, False,\n",
              "        False]])"
            ]
          },
          "metadata": {
            "tags": []
          },
          "execution_count": 39
        }
      ]
    },
    {
      "cell_type": "code",
      "metadata": {
        "id": "jFE0KGrqtzSh",
        "colab_type": "code",
        "outputId": "065d2b51-a54a-4f30-d7bb-e8499035a7c2",
        "colab": {
          "base_uri": "https://localhost:8080/",
          "height": 68
        }
      },
      "source": [
        "X[0].reshape(28,28)[5]"
      ],
      "execution_count": 40,
      "outputs": [
        {
          "output_type": "execute_result",
          "data": {
            "text/plain": [
              "array([  0.,   0.,   0.,   0.,   0.,   0.,   0.,   0.,   0.,   0.,   0.,\n",
              "         0.,   3.,  18.,  18.,  18., 126., 136., 175.,  26., 166., 255.,\n",
              "       247., 127.,   0.,   0.,   0.,   0.])"
            ]
          },
          "metadata": {
            "tags": []
          },
          "execution_count": 40
        }
      ]
    },
    {
      "cell_type": "markdown",
      "metadata": {
        "id": "m1QJwVhmucVH",
        "colab_type": "text"
      },
      "source": [
        "## How to decide which Threshold function to use"
      ]
    },
    {
      "cell_type": "code",
      "metadata": {
        "id": "ys54SNYoug4A",
        "colab_type": "code",
        "colab": {}
      },
      "source": [
        "#cross val predict to get decision scores of all instances in the training set\n",
        "\n",
        "y_scores = cross_val_predict(sgd_clf,X_train,y_train_5,cv=5,method='decision_function')"
      ],
      "execution_count": 0,
      "outputs": []
    },
    {
      "cell_type": "markdown",
      "metadata": {
        "id": "2pyoBhWNvm-l",
        "colab_type": "text"
      },
      "source": [
        "## Build the Visualization pertaing to Precision and Recall Versus the decision Threshold"
      ]
    },
    {
      "cell_type": "code",
      "metadata": {
        "id": "xS8jfRb6vxJ1",
        "colab_type": "code",
        "colab": {}
      },
      "source": [
        "from sklearn.metrics import precision_recall_curve\n",
        "precision,recall,threshold = precision_recall_curve(y_train_5,y_scores)"
      ],
      "execution_count": 0,
      "outputs": []
    },
    {
      "cell_type": "markdown",
      "metadata": {
        "id": "uGmKnEn0wGKp",
        "colab_type": "text"
      },
      "source": [
        "#### Define a function to plot the precion_recall vs Threshold"
      ]
    },
    {
      "cell_type": "code",
      "metadata": {
        "id": "TrjrwKshw4o6",
        "colab_type": "code",
        "colab": {}
      },
      "source": [
        "def plot_precision_recall_vs_threshold(precision,recall,threshold):\n",
        "  sns.set_style('whitegrid')\n",
        "  plt.plot(threshold,precision[:-1],'b--',label='Precision')\n",
        "  plt.plot(threshold,recall[:-1],'g',label='Recall')\n",
        "  #highlight the threshold add the legend,axis label and grid\n",
        "  #plt.plot(threshold,'--')\n",
        "  plt.legend()\n",
        "  plt.xlabel('Threshold')\n",
        "  plt.show()"
      ],
      "execution_count": 0,
      "outputs": []
    },
    {
      "cell_type": "code",
      "metadata": {
        "id": "EQ6MxBU6yBlw",
        "colab_type": "code",
        "outputId": "c3d2eaae-e71a-4a62-e17b-3a19d6dfb1d3",
        "colab": {
          "base_uri": "https://localhost:8080/",
          "height": 279
        }
      },
      "source": [
        "plot_precision_recall_vs_threshold(precision,recall,threshold)"
      ],
      "execution_count": 44,
      "outputs": [
        {
          "output_type": "display_data",
          "data": {
            "image/png": "[encoded data removed]",
            "text/plain": [
              "<Figure size 432x288 with 1 Axes>"
            ]
          },
          "metadata": {
            "tags": []
          }
        }
      ]
    },
    {
      "cell_type": "code",
      "metadata": {
        "id": "-tMRWkCj0EqQ",
        "colab_type": "code",
        "outputId": "e54bea7a-32ec-44af-eb33-2e8aa25d1aa8",
        "colab": {
          "base_uri": "https://localhost:8080/",
          "height": 296
        }
      },
      "source": [
        "sns.set_style('whitegrid')\n",
        "plt.plot(recall,precision)\n",
        "plt.xlabel('Recall')\n",
        "plt.ylabel('Precision')"
      ],
      "execution_count": 45,
      "outputs": [
        {
          "output_type": "execute_result",
          "data": {
            "text/plain": [
              "Text(0, 0.5, 'Precision')"
            ]
          },
          "metadata": {
            "tags": []
          },
          "execution_count": 45
        },
        {
          "output_type": "display_data",
          "data": {
            "image/png": "[encoded data removed]",
            "text/plain": [
              "<Figure size 432x288 with 1 Axes>"
            ]
          },
          "metadata": {
            "tags": []
          }
        }
      ]
    },
    {
      "cell_type": "markdown",
      "metadata": {
        "id": "YYlWgsPo0krY",
        "colab_type": "text"
      },
      "source": [
        "#### Note :\n",
        "The precison really start to fall sharply when the recall is around 80%"
      ]
    },
    {
      "cell_type": "markdown",
      "metadata": {
        "id": "fSafD29R__bm",
        "colab_type": "text"
      },
      "source": [
        "Suppose we aim for a 90% precision"
      ]
    },
    {
      "cell_type": "code",
      "metadata": {
        "id": "HLH2nIrGAFlh",
        "colab_type": "code",
        "colab": {}
      },
      "source": [
        "threshold_90_precision = threshold[np.argmax(precision >=0.90)]"
      ],
      "execution_count": 0,
      "outputs": []
    },
    {
      "cell_type": "code",
      "metadata": {
        "id": "KdDFOsXjA-nb",
        "colab_type": "code",
        "outputId": "91079a9e-64d5-4f5b-907c-77cb489bd39d",
        "colab": {
          "base_uri": "https://localhost:8080/",
          "height": 0
        }
      },
      "source": [
        "threshold_90_precision"
      ],
      "execution_count": 47,
      "outputs": [
        {
          "output_type": "execute_result",
          "data": {
            "text/plain": [
              "917.1084436437183"
            ]
          },
          "metadata": {
            "tags": []
          },
          "execution_count": 47
        }
      ]
    },
    {
      "cell_type": "markdown",
      "metadata": {
        "id": "oer23Pz3BDR3",
        "colab_type": "text"
      },
      "source": [
        "#### Making predictions on the training or test data instaed of calling the predict method we can now use the threshold value computed for 90 precent precision."
      ]
    },
    {
      "cell_type": "code",
      "metadata": {
        "id": "dYXkcJbXBU0o",
        "colab_type": "code",
        "colab": {}
      },
      "source": [
        "y_train_pred_90 = (y_scores >= threshold_90_precision)"
      ],
      "execution_count": 0,
      "outputs": []
    },
    {
      "cell_type": "code",
      "metadata": {
        "id": "-vcVcD-4BgTo",
        "colab_type": "code",
        "outputId": "f6d841bd-0342-43c9-e3fc-4999dbe1f9e3",
        "colab": {
          "base_uri": "https://localhost:8080/",
          "height": 0
        }
      },
      "source": [
        "y_train_pred_90"
      ],
      "execution_count": 49,
      "outputs": [
        {
          "output_type": "execute_result",
          "data": {
            "text/plain": [
              "array([False, False, False, ..., False, False, False])"
            ]
          },
          "metadata": {
            "tags": []
          },
          "execution_count": 49
        }
      ]
    },
    {
      "cell_type": "code",
      "metadata": {
        "id": "yuuX5nYQC1Dj",
        "colab_type": "code",
        "outputId": "1798c635-47e1-4d89-b764-71285534fc1a",
        "colab": {
          "base_uri": "https://localhost:8080/",
          "height": 0
        }
      },
      "source": [
        "print(f' Precision :{precision_score(y_train_5,y_train_pred_90)}')\n",
        "print(f' Recall :{recall_score(y_train_5,y_train_pred_90)}')\n",
        "print(f' F1 Score :{f1_score(y_train_5,y_train_pred_90)}')"
      ],
      "execution_count": 50,
      "outputs": [
        {
          "output_type": "stream",
          "text": [
            " Precision :0.9000605693519079\n",
            " Recall :0.5885148514851485\n",
            " F1 Score :0.7116858237547893\n"
          ],
          "name": "stdout"
        }
      ]
    },
    {
      "cell_type": "markdown",
      "metadata": {
        "id": "PfUM_NBZDB7K",
        "colab_type": "text"
      },
      "source": [
        "#### This gives us a 90% precision classifier"
      ]
    },
    {
      "cell_type": "markdown",
      "metadata": {
        "id": "5sM83cb3KKI4",
        "colab_type": "text"
      },
      "source": [
        "## ROC Reciever Operating Characteristic curve\n",
        "\n",
        "* It is used as a measure of accuracy for binary classifiers.\n",
        "* Similar to precision/recall curve  but instead of plotting precision versus recall, the ROC curve plots true positive rate against False Positive Rate.\n",
        "\n",
        "FPR is the ration of negative instances that are incorrectly classified as negative.\n",
        "\n",
        "True Negative Rate is also called Specificity\n",
        "\n",
        "so ROC curve  = (1 - specificity) / Recall\n",
        "              = FPR /TPR\n",
        "              "
      ]
    },
    {
      "cell_type": "code",
      "metadata": {
        "id": "g3T9pob-NzGl",
        "colab_type": "code",
        "colab": {}
      },
      "source": [
        "from sklearn.metrics import roc_curve\n",
        "fpr,tpr,threshold = roc_curve(y_train_5,y_scores)"
      ],
      "execution_count": 0,
      "outputs": []
    },
    {
      "cell_type": "code",
      "metadata": {
        "id": "JR4Z--bBDKVV",
        "colab_type": "code",
        "colab": {}
      },
      "source": [
        "def plot_roc_curve(fpr,tpr,threshold,label=None):\n",
        "  plt.plot(fpr,tpr,linewidth=2,label=label)\n",
        "  plt.plot([0,1],[0,1],'k--')#dashed diagonal\n",
        "  plt.xlabel('False Positive Rate')\n",
        "  plt.ylabel('True Positive Rate')\n",
        "  plt.title('ROC Curve')\n",
        "  plt.legend()\n",
        "  plt.show()"
      ],
      "execution_count": 0,
      "outputs": []
    },
    {
      "cell_type": "code",
      "metadata": {
        "id": "Nx2St2ixQDCC",
        "colab_type": "code",
        "outputId": "9150aa74-8d52-4d86-e283-b2c428724925",
        "colab": {
          "base_uri": "https://localhost:8080/",
          "height": 312
        }
      },
      "source": [
        "plot_roc_curve(fpr,tpr,threshold)"
      ],
      "execution_count": 53,
      "outputs": [
        {
          "output_type": "stream",
          "text": [
            "No handles with labels found to put in legend.\n"
          ],
          "name": "stderr"
        },
        {
          "output_type": "display_data",
          "data": {
            "image/png": "[encoded data removed]",
            "text/plain": [
              "<Figure size 432x288 with 1 Axes>"
            ]
          },
          "metadata": {
            "tags": []
          }
        }
      ]
    },
    {
      "cell_type": "code",
      "metadata": {
        "id": "a9ANd9KrQdQW",
        "colab_type": "code",
        "outputId": "f1e0aab8-69bb-42dd-9a29-a0c720308286",
        "colab": {
          "base_uri": "https://localhost:8080/",
          "height": 34
        }
      },
      "source": [
        "from sklearn.metrics import roc_auc_score\n",
        "print(f'AUC : {roc_auc_score(y_train_5,y_scores)}')"
      ],
      "execution_count": 54,
      "outputs": [
        {
          "output_type": "stream",
          "text": [
            "AUC : 0.9607095405124416\n"
          ],
          "name": "stdout"
        }
      ]
    },
    {
      "cell_type": "markdown",
      "metadata": {
        "id": "g_NF9IXjRLyn",
        "colab_type": "text"
      },
      "source": [
        "#### Note\n",
        "\n",
        "As a rule of thumb Precion Recall curve should be preferred whenver the positive class is rare or whenver we are more concerned about false positives than false negatives."
      ]
    },
    {
      "cell_type": "markdown",
      "metadata": {
        "id": "A09YRKGRSrK6",
        "colab_type": "text"
      },
      "source": [
        "## Comapare ROC AUC curve for RandomForestClassifier and SGDClassifier"
      ]
    },
    {
      "cell_type": "code",
      "metadata": {
        "id": "TaMButlGS4sn",
        "colab_type": "code",
        "colab": {}
      },
      "source": [
        "from sklearn.ensemble import RandomForestClassifier\n",
        "forest_clf = RandomForestClassifier()\n",
        "y_proba_forest = cross_val_predict(forest_clf,X_train,y_train_5,cv=5,method='predict_proba')\n",
        "y_scores = y_proba_forest[:,1]"
      ],
      "execution_count": 0,
      "outputs": []
    },
    {
      "cell_type": "code",
      "metadata": {
        "id": "UuzhFdMGS83L",
        "colab_type": "code",
        "colab": {}
      },
      "source": [
        "fpr_forest,tpr_forest,threshold_forest = roc_curve(y_train_5,y_scores)"
      ],
      "execution_count": 0,
      "outputs": []
    },
    {
      "cell_type": "code",
      "metadata": {
        "id": "0GYSGfEmWNcI",
        "colab_type": "code",
        "outputId": "7d2a35e3-7420-4c9e-fc6d-99070623341d",
        "colab": {
          "base_uri": "https://localhost:8080/",
          "height": 295
        }
      },
      "source": [
        "plt.plot(fpr,tpr,'b:',label='SGD')\n",
        "plot_roc_curve(fpr_forest,tpr_forest,threshold_forest,label='Random Forest')\n",
        "plt.show()\n"
      ],
      "execution_count": 73,
      "outputs": [
        {
          "output_type": "display_data",
          "data": {
            "image/png": "[encoded data removed]",
            "text/plain": [
              "<Figure size 432x288 with 1 Axes>"
            ]
          },
          "metadata": {
            "tags": []
          }
        }
      ]
    },
    {
      "cell_type": "markdown",
      "metadata": {
        "id": "uS2D_5SbX_w_",
        "colab_type": "text"
      },
      "source": [
        "#### The random fores classifier is superior to SGD classifier as its ROC curve is much closer to the left top corner and it has a greater AUC"
      ]
    },
    {
      "cell_type": "code",
      "metadata": {
        "id": "BuiWl7TpYVQG",
        "colab_type": "code",
        "outputId": "cca25361-87cb-4307-f40c-c59d32b2b18f",
        "colab": {
          "base_uri": "https://localhost:8080/",
          "height": 34
        }
      },
      "source": [
        "print(f'AUC Random Forest Classifier: {roc_auc_score(y_train_5,y_scores)}')"
      ],
      "execution_count": 58,
      "outputs": [
        {
          "output_type": "stream",
          "text": [
            "AUC Random Forest Classifier: 0.9984272272369533\n"
          ],
          "name": "stdout"
        }
      ]
    },
    {
      "cell_type": "markdown",
      "metadata": {
        "id": "91ncKYwqYvEt",
        "colab_type": "text"
      },
      "source": [
        "## Multiclass Classification"
      ]
    },
    {
      "cell_type": "markdown",
      "metadata": {
        "id": "jT_tBiSll6w0",
        "colab_type": "text"
      },
      "source": [
        "* **Binary Classifier** - Distinguish between 2 classes - preferred classifier OVR\n",
        "* **Multiclass / Multinomial Clasifier** - Distinguish between 2 or more classes"
      ]
    },
    {
      "cell_type": "markdown",
      "metadata": {
        "id": "0u2JNZ6KmaLu",
        "colab_type": "text"
      },
      "source": [
        "* **Strict Binary Classifiers - Logistic Regression /  Support Vector Machine**\n",
        "\n",
        "* **Models Capable of handling Multiclass Classification - SGD Classifiers,RandomForestClassifier,Naive Bayes**"
      ]
    },
    {
      "cell_type": "markdown",
      "metadata": {
        "id": "d7CM6mUMoX3y",
        "colab_type": "text"
      },
      "source": [
        "## Startegies for MultiClassification\n",
        "\n",
        "- **One Versus Rest / One Versus All**\n",
        "       Train the model for each class and when we want to classify a specific class, we get the decision score from each classifier for specific class and we then select the class whose classifier outputs the highest score.\n",
        "\n",
        "- **One Versus One**\n",
        "\n",
        "        Train a binary classifier for every pair of digits.If there are N      classes we need to train N * (N - 1) / 2 classifiers.\n",
        "        When we need to classify a specific class we need to run the data through N * (N -1) / 2 classifiers and see which class wins the most duels.\n",
        "\n",
        "#### Main advantage of One Versus One classifier is that  each classifier only needs to be trained on the part of the training dataset for the two classes it must distinguish.\n",
        "\n",
        "**OVO classifier is preferred in some algorithms (SVM)** beacuse it is faster to train many classifiers on small training sets than to train few classifiers on large training sets.\n",
        "\n",
        "For most Binary Classifiers **One Versus Rest** is preferred.\n"
      ]
    },
    {
      "cell_type": "code",
      "metadata": {
        "id": "etCBPEU3tA1J",
        "colab_type": "code",
        "outputId": "f9b96573-f13c-470b-f928-3c37e117f003",
        "colab": {
          "base_uri": "https://localhost:8080/",
          "height": 85
        }
      },
      "source": [
        "from sklearn.svm import SVC\n",
        "svm_clf = SVC()\n",
        "svm_clf.fit(X_train,y_train)\n"
      ],
      "execution_count": 59,
      "outputs": [
        {
          "output_type": "execute_result",
          "data": {
            "text/plain": [
              "SVC(C=1.0, break_ties=False, cache_size=200, class_weight=None, coef0=0.0,\n",
              "    decision_function_shape='ovr', degree=3, gamma='scale', kernel='rbf',\n",
              "    max_iter=-1, probability=False, random_state=None, shrinking=True,\n",
              "    tol=0.001, verbose=False)"
            ]
          },
          "metadata": {
            "tags": []
          },
          "execution_count": 59
        }
      ]
    },
    {
      "cell_type": "code",
      "metadata": {
        "id": "Y9hEOC_RvRr3",
        "colab_type": "code",
        "outputId": "ca9f8d33-1f56-4b66-c33a-852916ac058e",
        "colab": {
          "base_uri": "https://localhost:8080/",
          "height": 34
        }
      },
      "source": [
        "svm_clf.predict(X[0].reshape(1,-1))"
      ],
      "execution_count": 60,
      "outputs": [
        {
          "output_type": "execute_result",
          "data": {
            "text/plain": [
              "array([5])"
            ]
          },
          "metadata": {
            "tags": []
          },
          "execution_count": 60
        }
      ]
    },
    {
      "cell_type": "code",
      "metadata": {
        "id": "PweyEteaoQX4",
        "colab_type": "code",
        "colab": {}
      },
      "source": [
        "some_digit_scores = svm_clf.decision_function(X[0].reshape(1,-1))"
      ],
      "execution_count": 0,
      "outputs": []
    },
    {
      "cell_type": "code",
      "metadata": {
        "id": "848EofYEYx3z",
        "colab_type": "code",
        "outputId": "7eb945c7-64a4-416a-e1c0-b9ce1bee72a5",
        "colab": {
          "base_uri": "https://localhost:8080/",
          "height": 51
        }
      },
      "source": [
        "some_digit_scores"
      ],
      "execution_count": 62,
      "outputs": [
        {
          "output_type": "execute_result",
          "data": {
            "text/plain": [
              "array([[ 2.72422893,  1.72884272,  7.25183634,  8.30663332, -0.31174864,\n",
              "         9.31326124,  1.71246426,  2.78476104,  6.22679284,  4.87318905]])"
            ]
          },
          "metadata": {
            "tags": []
          },
          "execution_count": 62
        }
      ]
    },
    {
      "cell_type": "code",
      "metadata": {
        "id": "UoL11YVcv-hP",
        "colab_type": "code",
        "outputId": "907bb292-a09f-4164-ad57-dfbf859e0986",
        "colab": {
          "base_uri": "https://localhost:8080/",
          "height": 34
        }
      },
      "source": [
        "some_digit_scores.shape"
      ],
      "execution_count": 63,
      "outputs": [
        {
          "output_type": "execute_result",
          "data": {
            "text/plain": [
              "(1, 10)"
            ]
          },
          "metadata": {
            "tags": []
          },
          "execution_count": 63
        }
      ]
    },
    {
      "cell_type": "markdown",
      "metadata": {
        "id": "p5tZJfxtwDcd",
        "colab_type": "text"
      },
      "source": [
        "It returns 10 scores for per instance not just one"
      ]
    },
    {
      "cell_type": "code",
      "metadata": {
        "id": "DIc8o5MhwYQ4",
        "colab_type": "code",
        "outputId": "a6e96ff1-8aa9-486b-d3a2-ba39c10bf53c",
        "colab": {
          "base_uri": "https://localhost:8080/",
          "height": 34
        }
      },
      "source": [
        "np.argmax(some_digit_scores)"
      ],
      "execution_count": 64,
      "outputs": [
        {
          "output_type": "execute_result",
          "data": {
            "text/plain": [
              "5"
            ]
          },
          "metadata": {
            "tags": []
          },
          "execution_count": 64
        }
      ]
    },
    {
      "cell_type": "code",
      "metadata": {
        "id": "z7mmJW3uwipX",
        "colab_type": "code",
        "outputId": "bed4246b-83d1-43b4-fce8-03bb036bc403",
        "colab": {
          "base_uri": "https://localhost:8080/",
          "height": 34
        }
      },
      "source": [
        "svm_clf.classes_"
      ],
      "execution_count": 65,
      "outputs": [
        {
          "output_type": "execute_result",
          "data": {
            "text/plain": [
              "array([0, 1, 2, 3, 4, 5, 6, 7, 8, 9])"
            ]
          },
          "metadata": {
            "tags": []
          },
          "execution_count": 65
        }
      ]
    },
    {
      "cell_type": "code",
      "metadata": {
        "id": "bAPsCOYmwpW7",
        "colab_type": "code",
        "outputId": "1129d27c-7e06-44b1-e150-89a4d0c89717",
        "colab": {
          "base_uri": "https://localhost:8080/",
          "height": 34
        }
      },
      "source": [
        "svm_clf.classes_[np.argmax(some_digit_scores)]"
      ],
      "execution_count": 66,
      "outputs": [
        {
          "output_type": "execute_result",
          "data": {
            "text/plain": [
              "5"
            ]
          },
          "metadata": {
            "tags": []
          },
          "execution_count": 66
        }
      ]
    },
    {
      "cell_type": "markdown",
      "metadata": {
        "id": "ZqCKtvuDwwjg",
        "colab_type": "text"
      },
      "source": [
        "**Scikit-Learn automatically runs OVO or OVR depending on the classification algorithm.**\n",
        "\n",
        "**We can force Scikit-Learn to use OVO(one versus one) or OVR (One versus Rest) classes**"
      ]
    },
    {
      "cell_type": "code",
      "metadata": {
        "id": "icU7DYeAydGc",
        "colab_type": "code",
        "outputId": "b0c0e4a5-c8a5-479e-d6b5-605fd93720d5",
        "colab": {
          "base_uri": "https://localhost:8080/",
          "height": 136
        }
      },
      "source": [
        "from sklearn.multiclass import OneVsRestClassifier\n",
        "ovr_clf = OneVsRestClassifier(SVC())\n",
        "ovr_clf.fit(X_train,y_train)"
      ],
      "execution_count": 67,
      "outputs": [
        {
          "output_type": "execute_result",
          "data": {
            "text/plain": [
              "OneVsRestClassifier(estimator=SVC(C=1.0, break_ties=False, cache_size=200,\n",
              "                                  class_weight=None, coef0=0.0,\n",
              "                                  decision_function_shape='ovr', degree=3,\n",
              "                                  gamma='scale', kernel='rbf', max_iter=-1,\n",
              "                                  probability=False, random_state=None,\n",
              "                                  shrinking=True, tol=0.001, verbose=False),\n",
              "                    n_jobs=None)"
            ]
          },
          "metadata": {
            "tags": []
          },
          "execution_count": 67
        }
      ]
    },
    {
      "cell_type": "code",
      "metadata": {
        "id": "J_Nc063mEK3c",
        "colab_type": "code",
        "outputId": "0f286e6d-f481-4635-c25b-a3ab5d81c768",
        "colab": {
          "base_uri": "https://localhost:8080/",
          "height": 34
        }
      },
      "source": [
        "ovr_clf.predict(X[0].reshape(1,-1))"
      ],
      "execution_count": 68,
      "outputs": [
        {
          "output_type": "execute_result",
          "data": {
            "text/plain": [
              "array([5])"
            ]
          },
          "metadata": {
            "tags": []
          },
          "execution_count": 68
        }
      ]
    },
    {
      "cell_type": "code",
      "metadata": {
        "id": "fEh4FYDWgWjs",
        "colab_type": "code",
        "colab": {}
      },
      "source": [
        "ovr_pred = ovr_clf.predict(X_test)"
      ],
      "execution_count": 0,
      "outputs": []
    },
    {
      "cell_type": "code",
      "metadata": {
        "id": "nXBGpn-PiIwp",
        "colab_type": "code",
        "colab": {
          "base_uri": "https://localhost:8080/",
          "height": 34
        },
        "outputId": "69143e48-5d24-439f-aa21-812af51f70ae"
      },
      "source": [
        "print(f'One Versus Rest Classifier for Support Vector Machine yileds an accuracy of {accuracy_score(y_test,ovr_pred) * 100.00}%')"
      ],
      "execution_count": 80,
      "outputs": [
        {
          "output_type": "stream",
          "text": [
            "One Versus Rest Classifier for Support Vector Machine yileds an accuracy of 98.00714285714285%\n"
          ],
          "name": "stdout"
        }
      ]
    },
    {
      "cell_type": "markdown",
      "metadata": {
        "id": "cmS6Veu6i_tf",
        "colab_type": "text"
      },
      "source": [
        "## Actual Value"
      ]
    },
    {
      "cell_type": "code",
      "metadata": {
        "id": "03I05QKJige_",
        "colab_type": "code",
        "colab": {
          "base_uri": "https://localhost:8080/",
          "height": 282
        },
        "outputId": "57bf706c-93eb-401b-adfb-9177a8444fbb"
      },
      "source": [
        "some_digit = X[20].reshape(1,-1)\n",
        "plt.imshow(X[20].reshape(28,28))"
      ],
      "execution_count": 84,
      "outputs": [
        {
          "output_type": "execute_result",
          "data": {
            "text/plain": [
              "<matplotlib.image.AxesImage at 0x7f205f8772b0>"
            ]
          },
          "metadata": {
            "tags": []
          },
          "execution_count": 84
        },
        {
          "output_type": "display_data",
          "data": {
            "image/png": "[encoded data removed]",
            "text/plain": [
              "<Figure size 432x288 with 1 Axes>"
            ]
          },
          "metadata": {
            "tags": []
          }
        }
      ]
    },
    {
      "cell_type": "markdown",
      "metadata": {
        "id": "9YbeQpHyjC8o",
        "colab_type": "text"
      },
      "source": [
        "##Value Predicted by the One Versus Rest Classifier"
      ]
    },
    {
      "cell_type": "code",
      "metadata": {
        "id": "VZ3kxhzMi54d",
        "colab_type": "code",
        "colab": {
          "base_uri": "https://localhost:8080/",
          "height": 34
        },
        "outputId": "96009953-928d-4b15-f032-6fdcc579cbac"
      },
      "source": [
        "ovr_clf.predict(some_digit)"
      ],
      "execution_count": 85,
      "outputs": [
        {
          "output_type": "execute_result",
          "data": {
            "text/plain": [
              "array([4])"
            ]
          },
          "metadata": {
            "tags": []
          },
          "execution_count": 85
        }
      ]
    },
    {
      "cell_type": "markdown",
      "metadata": {
        "id": "1PdV0_UnEmJL",
        "colab_type": "text"
      },
      "source": [
        "## Training an SGDClassifier or RandomClassifier is easy and scikit-learn did not have to run OVR or OVO because these classifiers can directly classify instances into multiple classes.\n",
        "\n",
        "#### The decision function method returns one value per class."
      ]
    },
    {
      "cell_type": "code",
      "metadata": {
        "id": "rrntgP21FX0S",
        "colab_type": "code",
        "colab": {
          "base_uri": "https://localhost:8080/",
          "height": 34
        },
        "outputId": "4732aabd-1aaa-489c-cf3b-d3dc3f9013f3"
      },
      "source": [
        "sgd_clf.fit(X_train,y_train)\n",
        "sgd_clf.predict(some_digit)"
      ],
      "execution_count": 86,
      "outputs": [
        {
          "output_type": "execute_result",
          "data": {
            "text/plain": [
              "array([4])"
            ]
          },
          "metadata": {
            "tags": []
          },
          "execution_count": 86
        }
      ]
    },
    {
      "cell_type": "markdown",
      "metadata": {
        "id": "V4oSFYfGl5vJ",
        "colab_type": "text"
      },
      "source": [
        "##Decision Function for Stochastic Gradient Classifier"
      ]
    },
    {
      "cell_type": "code",
      "metadata": {
        "id": "8MC15uqXl_k4",
        "colab_type": "code",
        "colab": {
          "base_uri": "https://localhost:8080/",
          "height": 85
        },
        "outputId": "486054da-08e9-40d3-c6d1-821ec087f7f1"
      },
      "source": [
        "sgd_clf.decision_function(some_digit)"
      ],
      "execution_count": 87,
      "outputs": [
        {
          "output_type": "execute_result",
          "data": {
            "text/plain": [
              "array([[-29279.43329609, -43643.85381825, -10347.24901019,\n",
              "         -3525.1709239 ,  11053.08751093, -19633.14676187,\n",
              "        -15004.21644476, -22671.65453398,  -8404.53572329,\n",
              "        -21816.50301901]])"
            ]
          },
          "metadata": {
            "tags": []
          },
          "execution_count": 87
        }
      ]
    },
    {
      "cell_type": "markdown",
      "metadata": {
        "id": "Gypto-xWmLmI",
        "colab_type": "text"
      },
      "source": [
        "#### Almost all scores are highly negative except that class 4 has a score of 11053.08"
      ]
    },
    {
      "cell_type": "markdown",
      "metadata": {
        "id": "9z-PUApUmYYl",
        "colab_type": "text"
      },
      "source": [
        "## Using Crossvalidation Score  to evaluate SGDClassifier's accurcay"
      ]
    },
    {
      "cell_type": "code",
      "metadata": {
        "id": "6cYX6TM9mgdr",
        "colab_type": "code",
        "colab": {
          "base_uri": "https://localhost:8080/",
          "height": 34
        },
        "outputId": "111dc8c9-f3c1-4716-edcd-3ddbb9e3460e"
      },
      "source": [
        "cross_val_score(sgd_clf,X_train,y_train,cv=3,scoring='accuracy')"
      ],
      "execution_count": 88,
      "outputs": [
        {
          "output_type": "execute_result",
          "data": {
            "text/plain": [
              "array([0.86194889, 0.89269834, 0.87919211])"
            ]
          },
          "metadata": {
            "tags": []
          },
          "execution_count": 88
        }
      ]
    },
    {
      "cell_type": "markdown",
      "metadata": {
        "id": "3oO3F64WoBKU",
        "colab_type": "text"
      },
      "source": [
        "##Evaluating thr SGDClassifiers accuracy after performing scaling"
      ]
    },
    {
      "cell_type": "code",
      "metadata": {
        "id": "4GBEY8w3oHLl",
        "colab_type": "code",
        "colab": {
          "base_uri": "https://localhost:8080/",
          "height": 34
        },
        "outputId": "4df413cb-cf36-4942-92b6-dd227995c723"
      },
      "source": [
        "from sklearn.preprocessing import StandardScaler\n",
        "scaler = StandardScaler()\n",
        "X_train_scaled = scaler.fit_transform(X_train.astype(np.float64))\n",
        "cross_val_score(sgd_clf,X_train_scaled,y_train,cv=3,scoring='accuracy')"
      ],
      "execution_count": 90,
      "outputs": [
        {
          "output_type": "execute_result",
          "data": {
            "text/plain": [
              "array([0.89864467, 0.89800182, 0.90265724])"
            ]
          },
          "metadata": {
            "tags": []
          },
          "execution_count": 90
        }
      ]
    },
    {
      "cell_type": "markdown",
      "metadata": {
        "id": "vAqRRPg0xss4",
        "colab_type": "text"
      },
      "source": [
        "####After scaling the accuracy has increased to 90%"
      ]
    },
    {
      "cell_type": "code",
      "metadata": {
        "id": "ixbtWsghx1hM",
        "colab_type": "code",
        "colab": {}
      },
      "source": [
        "y_train_pred = cross_val_predict(sgd_clf,X_train_scaled,y_train,cv=3)"
      ],
      "execution_count": 0,
      "outputs": []
    },
    {
      "cell_type": "code",
      "metadata": {
        "id": "KIMvEavG2nAL",
        "colab_type": "code",
        "colab": {
          "base_uri": "https://localhost:8080/",
          "height": 275
        },
        "outputId": "e82ea48f-f2f3-4bdb-a1bf-0564b43f453e"
      },
      "source": [
        "plt.matshow(confusion_matrix(y_train,y_train_pred))\n",
        "plt.show()"
      ],
      "execution_count": 92,
      "outputs": [
        {
          "output_type": "display_data",
          "data": {
            "image/png": "[encoded data removed]",
            "text/plain": [
              "<Figure size 288x288 with 1 Axes>"
            ]
          },
          "metadata": {
            "tags": []
          }
        }
      ]
    },
    {
      "cell_type": "code",
      "metadata": {
        "id": "d7m_qpWh3wjN",
        "colab_type": "code",
        "colab": {
          "base_uri": "https://localhost:8080/",
          "height": 286
        },
        "outputId": "bc2bdf2b-66da-4415-d5b9-1c28b20743d5"
      },
      "source": [
        "import seaborn as sns\n",
        "sns.heatmap(confusion_matrix(y_train,y_train_pred),annot=True,fmt='g')"
      ],
      "execution_count": 95,
      "outputs": [
        {
          "output_type": "execute_result",
          "data": {
            "text/plain": [
              "<matplotlib.axes._subplots.AxesSubplot at 0x7f205daf7358>"
            ]
          },
          "metadata": {
            "tags": []
          },
          "execution_count": 95
        },
        {
          "output_type": "display_data",
          "data": {
            "image/png": "[encoded data removed]",
            "text/plain": [
              "<Figure size 432x288 with 2 Axes>"
            ]
          },
          "metadata": {
            "tags": []
          }
        }
      ]
    },
    {
      "cell_type": "markdown",
      "metadata": {
        "id": "3yFynxPs3JWn",
        "colab_type": "text"
      },
      "source": [
        "####Confusion matrix looks good as most of the images are on the main daigonal which means they have been classigfied correctly"
      ]
    },
    {
      "cell_type": "markdown",
      "metadata": {
        "id": "9u8NQhAa4Eyc",
        "colab_type": "text"
      },
      "source": [
        "##Multilabel Classification"
      ]
    },
    {
      "cell_type": "code",
      "metadata": {
        "id": "1PIMpRcq4Cba",
        "colab_type": "code",
        "colab": {}
      },
      "source": [
        "from sklearn.neighbors import KNeighborsClassifier"
      ],
      "execution_count": 0,
      "outputs": []
    },
    {
      "cell_type": "code",
      "metadata": {
        "id": "Clf58fDr_Hya",
        "colab_type": "code",
        "colab": {
          "base_uri": "https://localhost:8080/",
          "height": 51
        },
        "outputId": "0f1ac582-cbc8-4a9f-c3af-6ca6d27e60dc"
      },
      "source": [
        "y_train_large = (y_train >=7)\n",
        "y_train_large[:10]"
      ],
      "execution_count": 98,
      "outputs": [
        {
          "output_type": "execute_result",
          "data": {
            "text/plain": [
              "array([False, False, False,  True, False, False, False,  True, False,\n",
              "       False])"
            ]
          },
          "metadata": {
            "tags": []
          },
          "execution_count": 98
        }
      ]
    },
    {
      "cell_type": "code",
      "metadata": {
        "id": "q-Vm_dUO_WQB",
        "colab_type": "code",
        "colab": {
          "base_uri": "https://localhost:8080/",
          "height": 34
        },
        "outputId": "df4cb1d4-6bc0-4c5c-ed8e-2919bf4f87e6"
      },
      "source": [
        "y_train_odd = (y_train %2 ==1)\n",
        "y_train_odd"
      ],
      "execution_count": 99,
      "outputs": [
        {
          "output_type": "execute_result",
          "data": {
            "text/plain": [
              "array([False, False, False, ...,  True, False,  True])"
            ]
          },
          "metadata": {
            "tags": []
          },
          "execution_count": 99
        }
      ]
    },
    {
      "cell_type": "code",
      "metadata": {
        "id": "X5oHjFMN_ir6",
        "colab_type": "code",
        "colab": {
          "base_uri": "https://localhost:8080/",
          "height": 136
        },
        "outputId": "1ff008d3-62a2-4eed-b829-cc5cbf818fb7"
      },
      "source": [
        "y_multilabel = np.c_[y_train_large,y_train_odd]\n",
        "y_multilabel#contains two target labels for each digit"
      ],
      "execution_count": 100,
      "outputs": [
        {
          "output_type": "execute_result",
          "data": {
            "text/plain": [
              "array([[False, False],\n",
              "       [False, False],\n",
              "       [False, False],\n",
              "       ...,\n",
              "       [ True,  True],\n",
              "       [False, False],\n",
              "       [ True,  True]])"
            ]
          },
          "metadata": {
            "tags": []
          },
          "execution_count": 100
        }
      ]
    },
    {
      "cell_type": "code",
      "metadata": {
        "id": "UXkAGCSA_yss",
        "colab_type": "code",
        "colab": {
          "base_uri": "https://localhost:8080/",
          "height": 68
        },
        "outputId": "73b14815-361e-4674-8302-811e726fb8d0"
      },
      "source": [
        "knn = KNeighborsClassifier()\n",
        "knn.fit(X_train,y_multilabel)"
      ],
      "execution_count": 101,
      "outputs": [
        {
          "output_type": "execute_result",
          "data": {
            "text/plain": [
              "KNeighborsClassifier(algorithm='auto', leaf_size=30, metric='minkowski',\n",
              "                     metric_params=None, n_jobs=None, n_neighbors=5, p=2,\n",
              "                     weights='uniform')"
            ]
          },
          "metadata": {
            "tags": []
          },
          "execution_count": 101
        }
      ]
    },
    {
      "cell_type": "code",
      "metadata": {
        "id": "NklvR4cYAJFB",
        "colab_type": "code",
        "colab": {
          "base_uri": "https://localhost:8080/",
          "height": 34
        },
        "outputId": "394cfcb4-975a-4774-b35e-4301121a4920"
      },
      "source": [
        "knn.predict(some_digit)"
      ],
      "execution_count": 102,
      "outputs": [
        {
          "output_type": "execute_result",
          "data": {
            "text/plain": [
              "array([[False, False]])"
            ]
          },
          "metadata": {
            "tags": []
          },
          "execution_count": 102
        }
      ]
    },
    {
      "cell_type": "markdown",
      "metadata": {
        "id": "MWqMdbx3Aa9A",
        "colab_type": "text"
      },
      "source": [
        "#### the digit 4 is not large and not odd"
      ]
    },
    {
      "cell_type": "code",
      "metadata": {
        "id": "tgEdB-FhARb2",
        "colab_type": "code",
        "colab": {
          "base_uri": "https://localhost:8080/",
          "height": 34
        },
        "outputId": "0632c38a-04e0-4bd6-92bc-05d209d4cf8b"
      },
      "source": [
        "knn.predict(X[0].reshape(1,-1))"
      ],
      "execution_count": 104,
      "outputs": [
        {
          "output_type": "execute_result",
          "data": {
            "text/plain": [
              "array([[False,  True]])"
            ]
          },
          "metadata": {
            "tags": []
          },
          "execution_count": 104
        }
      ]
    },
    {
      "cell_type": "markdown",
      "metadata": {
        "id": "WCukt0sLAhAp",
        "colab_type": "text"
      },
      "source": [
        "#### the digit 5 is not large and  odd"
      ]
    },
    {
      "cell_type": "code",
      "metadata": {
        "id": "KgVtn8QeAkLU",
        "colab_type": "code",
        "colab": {}
      },
      "source": [
        "y_train_knn_pred = cross_val_predict(knn,X_train,y_multilabel,cv=3)"
      ],
      "execution_count": 0,
      "outputs": []
    },
    {
      "cell_type": "code",
      "metadata": {
        "id": "iUbhnFmXOpaD",
        "colab_type": "code",
        "colab": {
          "base_uri": "https://localhost:8080/",
          "height": 34
        },
        "outputId": "cfee8c6b-a794-462a-f8e6-f61b4e66a153"
      },
      "source": [
        "f1_score(y_multilabel,y_train_knn_pred,average='macro')"
      ],
      "execution_count": 106,
      "outputs": [
        {
          "output_type": "execute_result",
          "data": {
            "text/plain": [
              "0.9756390912135398"
            ]
          },
          "metadata": {
            "tags": []
          },
          "execution_count": 106
        }
      ]
    },
    {
      "cell_type": "markdown",
      "metadata": {
        "id": "ExJwJvM7PCCj",
        "colab_type": "text"
      },
      "source": [
        "####weighted - a simple option is to give each label a weight equal to its support"
      ]
    },
    {
      "cell_type": "code",
      "metadata": {
        "id": "jQsl5maZO9sr",
        "colab_type": "code",
        "colab": {
          "base_uri": "https://localhost:8080/",
          "height": 34
        },
        "outputId": "b7825341-0519-41f0-c792-890466e1970d"
      },
      "source": [
        "f1_score(y_multilabel,y_train_knn_pred,average='weighted')"
      ],
      "execution_count": 107,
      "outputs": [
        {
          "output_type": "execute_result",
          "data": {
            "text/plain": [
              "0.9772298698994081"
            ]
          },
          "metadata": {
            "tags": []
          },
          "execution_count": 107
        }
      ]
    },
    {
      "cell_type": "markdown",
      "metadata": {
        "id": "qt8TaXeOPSsB",
        "colab_type": "text"
      },
      "source": [
        "##Multioutput Classification\n",
        "\n",
        "The last type of classification task is called multioutput multiclass classification or simply multioutput classification.\n",
        "\n",
        "It is a generalization of multilabel classification where each label can be a multiclass i.e. it can have more than two possible values."
      ]
    },
    {
      "cell_type": "code",
      "metadata": {
        "id": "DlbKGvqcQFhp",
        "colab_type": "code",
        "colab": {}
      },
      "source": [
        "noise = np.random.randint(0,100,(len(X_train),784))\n",
        "X_train_mod = X_train + noise\n",
        "noise = np.random.randint(0,100,(len(X_test),784))\n",
        "X_test_mod = X_test + noise\n",
        "y_train_mod = X_train\n",
        "y_test_mod = X_test"
      ],
      "execution_count": 0,
      "outputs": []
    },
    {
      "cell_type": "code",
      "metadata": {
        "id": "sFtrablFQ2vZ",
        "colab_type": "code",
        "colab": {
          "base_uri": "https://localhost:8080/",
          "height": 282
        },
        "outputId": "3e4bb681-c3aa-4da0-d034-293f16026ddf"
      },
      "source": [
        "plt.imshow(X_train_mod[2].reshape(28,28))"
      ],
      "execution_count": 124,
      "outputs": [
        {
          "output_type": "execute_result",
          "data": {
            "text/plain": [
              "<matplotlib.image.AxesImage at 0x7f205f849f28>"
            ]
          },
          "metadata": {
            "tags": []
          },
          "execution_count": 124
        },
        {
          "output_type": "display_data",
          "data": {
            "image/png": "[encoded data removed]",
            "text/plain": [
              "<Figure size 432x288 with 1 Axes>"
            ]
          },
          "metadata": {
            "tags": []
          }
        }
      ]
    },
    {
      "cell_type": "code",
      "metadata": {
        "id": "hzSrwe_wRFs7",
        "colab_type": "code",
        "colab": {
          "base_uri": "https://localhost:8080/",
          "height": 282
        },
        "outputId": "bc25a08c-6c4f-486b-9081-91e9f6cf096c"
      },
      "source": [
        "plt.imshow(X_test_mod[2].reshape(28,28))"
      ],
      "execution_count": 114,
      "outputs": [
        {
          "output_type": "execute_result",
          "data": {
            "text/plain": [
              "<matplotlib.image.AxesImage at 0x7f205d7d15f8>"
            ]
          },
          "metadata": {
            "tags": []
          },
          "execution_count": 114
        },
        {
          "output_type": "display_data",
          "data": {
            "image/png": "[encoded data removed]",
            "text/plain": [
              "<Figure size 432x288 with 1 Axes>"
            ]
          },
          "metadata": {
            "tags": []
          }
        }
      ]
    },
    {
      "cell_type": "code",
      "metadata": {
        "id": "vG91gRTLRVwN",
        "colab_type": "code",
        "colab": {
          "base_uri": "https://localhost:8080/",
          "height": 68
        },
        "outputId": "cfac4b87-6780-49ce-d214-92aa11eb7abb"
      },
      "source": [
        "knn.fit(X_train_mod,y_train_mod)"
      ],
      "execution_count": 125,
      "outputs": [
        {
          "output_type": "execute_result",
          "data": {
            "text/plain": [
              "KNeighborsClassifier(algorithm='auto', leaf_size=30, metric='minkowski',\n",
              "                     metric_params=None, n_jobs=None, n_neighbors=5, p=2,\n",
              "                     weights='uniform')"
            ]
          },
          "metadata": {
            "tags": []
          },
          "execution_count": 125
        }
      ]
    },
    {
      "cell_type": "code",
      "metadata": {
        "id": "jJccCe9ITxNL",
        "colab_type": "code",
        "colab": {}
      },
      "source": [
        "clean_digit = knn.predict([X_test_mod[2]])"
      ],
      "execution_count": 0,
      "outputs": []
    },
    {
      "cell_type": "code",
      "metadata": {
        "id": "eN6V_0_zVDRb",
        "colab_type": "code",
        "colab": {}
      },
      "source": [
        "knn.score(X_train_mod,y_train_mod)"
      ],
      "execution_count": 0,
      "outputs": []
    },
    {
      "cell_type": "code",
      "metadata": {
        "id": "bLkjyG-QXZ-u",
        "colab_type": "code",
        "colab": {}
      },
      "source": [
        ""
      ],
      "execution_count": 0,
      "outputs": []
    },
    {
      "cell_type": "code",
      "metadata": {
        "id": "0QXzHH6nXaJ9",
        "colab_type": "code",
        "colab": {}
      },
      "source": [
        ""
      ],
      "execution_count": 0,
      "outputs": []
    },
    {
      "cell_type": "code",
      "metadata": {
        "id": "HRe-NAYBUCyj",
        "colab_type": "code",
        "colab": {
          "base_uri": "https://localhost:8080/",
          "height": 282
        },
        "outputId": "1521a98b-d1fa-423f-e79d-714d89c0fce9"
      },
      "source": [
        "plt.imshow(clean_digit.reshape(28,28))"
      ],
      "execution_count": 127,
      "outputs": [
        {
          "output_type": "execute_result",
          "data": {
            "text/plain": [
              "<matplotlib.image.AxesImage at 0x7f205dbb49e8>"
            ]
          },
          "metadata": {
            "tags": []
          },
          "execution_count": 127
        },
        {
          "output_type": "display_data",
          "data": {
            "image/png": "[encoded data removed]",
            "text/plain": [
              "<Figure size 432x288 with 1 Axes>"
            ]
          },
          "metadata": {
            "tags": []
          }
        }
      ]
    },
    {
      "cell_type": "code",
      "metadata": {
        "id": "U97y-adAUM2_",
        "colab_type": "code",
        "colab": {
          "base_uri": "https://localhost:8080/",
          "height": 282
        },
        "outputId": "2dca93b6-4adf-441e-8cf2-18a1ea468b44"
      },
      "source": [
        "plt.imshow(y_train_mod[2].reshape(28,28))"
      ],
      "execution_count": 128,
      "outputs": [
        {
          "output_type": "execute_result",
          "data": {
            "text/plain": [
              "<matplotlib.image.AxesImage at 0x7f205d724b70>"
            ]
          },
          "metadata": {
            "tags": []
          },
          "execution_count": 128
        },
        {
          "output_type": "display_data",
          "data": {
            "image/png": "[encoded data removed]",
            "text/plain": [
              "<Figure size 432x288 with 1 Axes>"
            ]
          },
          "metadata": {
            "tags": []
          }
        }
      ]
    }
  ]
}